{
  "nbformat": 4,
  "nbformat_minor": 0,
  "metadata": {
    "colab": {
      "name": "211112_이진_검색_트리_5639",
      "provenance": [],
      "authorship_tag": "ABX9TyMpYkqfcOobsgaVQiesiUB5",
      "include_colab_link": true
    },
    "kernelspec": {
      "name": "python3",
      "display_name": "Python 3"
    },
    "language_info": {
      "name": "python"
    }
  },
  "cells": [
    {
      "cell_type": "markdown",
      "metadata": {
        "id": "view-in-github",
        "colab_type": "text"
      },
      "source": [
        "<a href=\"https://colab.research.google.com/github/Hongyongmin/baekjoon/blob/main/Tree/211112_%EC%9D%B4%EC%A7%84_%EA%B2%80%EC%83%89_%ED%8A%B8%EB%A6%AC_5639.ipynb\" target=\"_parent\"><img src=\"https://colab.research.google.com/assets/colab-badge.svg\" alt=\"Open In Colab\"/></a>"
      ]
    },
    {
      "cell_type": "code",
      "metadata": {
        "id": "xIrgo7VA-DDE"
      },
      "source": [
        "import sys\n",
        "sys.setrecursionlimit(10 ** 6)\n",
        "\n",
        "def postOrder(start, end):\n",
        "    if start > end:\n",
        "        return\n",
        "    \n",
        "    root = preOrder[start]\n",
        "    idx = start + 1\n",
        "\n",
        "    while idx <= end:\n",
        "        if preOrder[idx] > root:\n",
        "            break\n",
        "        idx += 1\n",
        "    \n",
        "    postOrder(start +1 , idx-1)\n",
        "    postOrder(idx, end)\n",
        "    print(root)\n",
        "\n",
        "preOrder = []\n",
        "while True:\n",
        "    try:\n",
        "        preOrder.append(int(sys.stdin.readline()))\n",
        "    except:\n",
        "        break\n",
        "postOrder(0, len(preOrder) - 1)"
      ],
      "execution_count": 1,
      "outputs": []
    },
    {
      "cell_type": "code",
      "metadata": {
        "id": "IaKUMbIM-E2p"
      },
      "source": [
        ""
      ],
      "execution_count": null,
      "outputs": []
    }
  ]
}