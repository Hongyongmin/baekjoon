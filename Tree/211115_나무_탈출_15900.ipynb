{
  "nbformat": 4,
  "nbformat_minor": 0,
  "metadata": {
    "colab": {
      "name": "211115_나무_탈출_15900",
      "provenance": [],
      "authorship_tag": "ABX9TyN07I2Wgo2PwS5PPbDF6LeA",
      "include_colab_link": true
    },
    "kernelspec": {
      "name": "python3",
      "display_name": "Python 3"
    },
    "language_info": {
      "name": "python"
    }
  },
  "cells": [
    {
      "cell_type": "markdown",
      "metadata": {
        "id": "view-in-github",
        "colab_type": "text"
      },
      "source": [
        "<a href=\"https://colab.research.google.com/github/Hongyongmin/baekjoon/blob/main/Tree/211115_%EB%82%98%EB%AC%B4_%ED%83%88%EC%B6%9C_15900.ipynb\" target=\"_parent\"><img src=\"https://colab.research.google.com/assets/colab-badge.svg\" alt=\"Open In Colab\"/></a>"
      ]
    },
    {
      "cell_type": "code",
      "metadata": {
        "colab": {
          "base_uri": "https://localhost:8080/"
        },
        "id": "28N85gmrEPq5",
        "outputId": "2c869b35-1557-48e5-c2cb-8cc45fafb45f"
      },
      "source": [
        "from collections import deque\n",
        "N =int(input())\n",
        "\n",
        "# 연결이 나중에 되는 경우가 있다면?\n",
        "tree=[[] for i in range(N+1)]\n",
        "visited=[False]*(N+1)\n",
        "q=deque()\n",
        "for i in range(N-1):\n",
        "    a, b = map(int, input().split())\n",
        "    tree[a].append(b)\n",
        "    tree[b].append(a)\n",
        "q.append([1,0])\n",
        "visited[1]=True\n",
        "tmp_sum=0\n",
        "while len(q)>0:\n",
        "    front=q.popleft()\n",
        "\n",
        "    is_leaf=True\n",
        "    for t in tree[front[0]]:\n",
        "        if not visited[t]:\n",
        "            is_leaf=False\n",
        "            visited[t]=True\n",
        "            q.append([t, front[1]+1])\n",
        "    if is_leaf:\n",
        "        tmp_sum+=front[1]\n",
        "\n",
        "if tmp_sum%2==0:\n",
        "    print('No')\n",
        "else:\n",
        "    print('Yes')"
      ],
      "execution_count": 1,
      "outputs": [
        {
          "output_type": "stream",
          "name": "stdout",
          "text": [
            "2\n",
            "2 1\n",
            "Yes\n"
          ]
        }
      ]
    },
    {
      "cell_type": "code",
      "metadata": {
        "id": "3DTJ6nXJEQ37"
      },
      "source": [
        ""
      ],
      "execution_count": null,
      "outputs": []
    }
  ]
}