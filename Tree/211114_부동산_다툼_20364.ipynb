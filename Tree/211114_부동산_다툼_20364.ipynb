{
  "nbformat": 4,
  "nbformat_minor": 0,
  "metadata": {
    "colab": {
      "name": "211114_부동산_다툼_20364",
      "provenance": [],
      "authorship_tag": "ABX9TyNtWEwtU1w4SkCnFqFO0U0F",
      "include_colab_link": true
    },
    "kernelspec": {
      "name": "python3",
      "display_name": "Python 3"
    },
    "language_info": {
      "name": "python"
    }
  },
  "cells": [
    {
      "cell_type": "markdown",
      "metadata": {
        "id": "view-in-github",
        "colab_type": "text"
      },
      "source": [
        "<a href=\"https://colab.research.google.com/github/Hongyongmin/baekjoon/blob/main/Tree/211114_%EB%B6%80%EB%8F%99%EC%82%B0_%EB%8B%A4%ED%88%BC_20364.ipynb\" target=\"_parent\"><img src=\"https://colab.research.google.com/assets/colab-badge.svg\" alt=\"Open In Colab\"/></a>"
      ]
    },
    {
      "cell_type": "code",
      "metadata": {
        "colab": {
          "base_uri": "https://localhost:8080/"
        },
        "id": "fiKsMoIyDeiV",
        "outputId": "e343ec91-6990-4635-89c7-5147778e1bc0"
      },
      "source": [
        "N, Q = map(int, input().split())\n",
        "ducks = [int(input())for _ in range(Q)]\n",
        "\n",
        "# 방문 검사\n",
        "visited = set()\n",
        "\n",
        "for i in range(Q):\n",
        "    result = 0\n",
        "    # 오리들 불러오기\n",
        "    duck = ducks[i]\n",
        "    # 와야하는길 탐색하기\n",
        "    while duck > 1:\n",
        "        # 누군가의 땅이라면 거기서 멈춰야함\n",
        "        # 하지만 거꾸로 거슬러 올라가기 때문에 가장 높은 조상을 계속 갱신\n",
        "        if duck in visited:\n",
        "            result = duck\n",
        "        duck //= 2\n",
        "    visited.add(ducks[i])\n",
        "\n",
        "\n",
        "    print(result)"
      ],
      "execution_count": 1,
      "outputs": [
        {
          "output_type": "stream",
          "name": "stdout",
          "text": [
            "6 4\n",
            "3\n",
            "5\n",
            "6\n",
            "2\n",
            "0\n",
            "0\n",
            "3\n",
            "0\n"
          ]
        }
      ]
    },
    {
      "cell_type": "code",
      "metadata": {
        "id": "8jt8c80FDgiS"
      },
      "source": [
        ""
      ],
      "execution_count": null,
      "outputs": []
    }
  ]
}