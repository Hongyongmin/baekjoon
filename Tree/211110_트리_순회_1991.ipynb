{
  "nbformat": 4,
  "nbformat_minor": 0,
  "metadata": {
    "colab": {
      "name": "211110_트리_순회_1991",
      "provenance": [],
      "authorship_tag": "ABX9TyO9m8WK8IqzODXXXx5Ocxt5",
      "include_colab_link": true
    },
    "kernelspec": {
      "name": "python3",
      "display_name": "Python 3"
    },
    "language_info": {
      "name": "python"
    }
  },
  "cells": [
    {
      "cell_type": "markdown",
      "metadata": {
        "id": "view-in-github",
        "colab_type": "text"
      },
      "source": [
        "<a href=\"https://colab.research.google.com/github/Hongyongmin/baekjoon/blob/main/Tree/211110_%ED%8A%B8%EB%A6%AC_%EC%88%9C%ED%9A%8C_1991.ipynb\" target=\"_parent\"><img src=\"https://colab.research.google.com/assets/colab-badge.svg\" alt=\"Open In Colab\"/></a>"
      ]
    },
    {
      "cell_type": "code",
      "metadata": {
        "colab": {
          "base_uri": "https://localhost:8080/"
        },
        "id": "sxKqCeo_Sw8q",
        "outputId": "01a3e898-f8e5-47ee-d231-12b1ba3d324b"
      },
      "source": [
        "import sys\n",
        "sys.setrecursionlimit(10**6)\n",
        "\n",
        "def preorder(node):\n",
        "    if node =='.':\n",
        "        return\n",
        "    print(node, end =\"\")\n",
        "    preorder(tree[node][0])\n",
        "    preorder(tree[node][1])\n",
        "    \n",
        "def inorder(node):\n",
        "    if node =='.':\n",
        "        return\n",
        "    inorder(tree[node][0])\n",
        "    print(node, end=\"\")\n",
        "    inorder(tree[node][1])\n",
        "    \n",
        "def postorder(node):\n",
        "    if node == '.':\n",
        "        return\n",
        "    postorder(tree[node][0])\n",
        "    postorder(tree[node][1])\n",
        "    print(node, end=\"\")\n",
        "    \n",
        "n = int(input())\n",
        "tree = {}\n",
        "\n",
        "for _ in range(n):\n",
        "    root, left, right = input().split()\n",
        "    tree[root] = (left, right)\n",
        "    \n",
        "preorder('A')\n",
        "print()\n",
        "inorder('A')\n",
        "print()\n",
        "postorder('A')"
      ],
      "execution_count": 1,
      "outputs": [
        {
          "output_type": "stream",
          "name": "stdout",
          "text": [
            "7\n",
            "A B C\n",
            "B D .\n",
            "C E F\n",
            "E . .\n",
            "F . G\n",
            "D . .\n",
            "G . .\n",
            "ABDCEFG\n",
            "DBAECFG\n",
            "DBEGFCA"
          ]
        }
      ]
    },
    {
      "cell_type": "code",
      "metadata": {
        "id": "eqOVzoyESyUa"
      },
      "source": [
        ""
      ],
      "execution_count": null,
      "outputs": []
    }
  ]
}