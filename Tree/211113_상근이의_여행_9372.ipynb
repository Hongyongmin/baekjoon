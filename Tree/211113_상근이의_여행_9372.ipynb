{
  "nbformat": 4,
  "nbformat_minor": 0,
  "metadata": {
    "colab": {
      "name": "211113_상근이의_여행_9372",
      "provenance": [],
      "authorship_tag": "ABX9TyPTw5j6b93XrqbIFm84uguV",
      "include_colab_link": true
    },
    "kernelspec": {
      "name": "python3",
      "display_name": "Python 3"
    },
    "language_info": {
      "name": "python"
    }
  },
  "cells": [
    {
      "cell_type": "markdown",
      "metadata": {
        "id": "view-in-github",
        "colab_type": "text"
      },
      "source": [
        "<a href=\"https://colab.research.google.com/github/Hongyongmin/baekjoon/blob/main/Tree/211113_%EC%83%81%EA%B7%BC%EC%9D%B4%EC%9D%98_%EC%97%AC%ED%96%89_9372.ipynb\" target=\"_parent\"><img src=\"https://colab.research.google.com/assets/colab-badge.svg\" alt=\"Open In Colab\"/></a>"
      ]
    },
    {
      "cell_type": "code",
      "metadata": {
        "colab": {
          "base_uri": "https://localhost:8080/"
        },
        "id": "5o9uddPtC-iq",
        "outputId": "aa6c495d-911d-4061-b602-8539fd17f152"
      },
      "source": [
        "import sys\n",
        " \n",
        "# tc\n",
        "T = int(input())\n",
        "ans = []\n",
        "\n",
        "for tc in range(T):\n",
        "    # N 국가 M 비행기 종류\n",
        "    N,M = map(int,input().split())\n",
        " \n",
        "    # 비행기 노선도\n",
        "    board = []\n",
        " \n",
        "    for q in range(M):\n",
        "        board.append(input().split())\n",
        "    ans.append(N-1)\n",
        "    \n",
        "for i in range(0,len(ans)):\n",
        "    print(ans[i])"
      ],
      "execution_count": 1,
      "outputs": [
        {
          "output_type": "stream",
          "name": "stdout",
          "text": [
            "2\n",
            "3 3\n",
            "1 2\n",
            "2 3\n",
            "1 3\n",
            "5 4\n",
            "2 1\n",
            "2 3\n",
            "4 3\n",
            "4 5\n",
            "2\n",
            "4\n"
          ]
        }
      ]
    },
    {
      "cell_type": "code",
      "metadata": {
        "id": "T_RMtBDcC_Xf"
      },
      "source": [
        ""
      ],
      "execution_count": null,
      "outputs": []
    }
  ]
}