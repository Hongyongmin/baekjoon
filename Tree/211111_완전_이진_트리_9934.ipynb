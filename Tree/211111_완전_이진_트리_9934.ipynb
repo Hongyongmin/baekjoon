{
  "nbformat": 4,
  "nbformat_minor": 0,
  "metadata": {
    "colab": {
      "name": "211111_완전_이진_트리_9934",
      "provenance": [],
      "authorship_tag": "ABX9TyMz6+1T99E+sLVh+IeYztpC",
      "include_colab_link": true
    },
    "kernelspec": {
      "name": "python3",
      "display_name": "Python 3"
    },
    "language_info": {
      "name": "python"
    }
  },
  "cells": [
    {
      "cell_type": "markdown",
      "metadata": {
        "id": "view-in-github",
        "colab_type": "text"
      },
      "source": [
        "<a href=\"https://colab.research.google.com/github/Hongyongmin/baekjoon/blob/main/Tree/211111_%EC%99%84%EC%A0%84_%EC%9D%B4%EC%A7%84_%ED%8A%B8%EB%A6%AC_9934.ipynb\" target=\"_parent\"><img src=\"https://colab.research.google.com/assets/colab-badge.svg\" alt=\"Open In Colab\"/></a>"
      ]
    },
    {
      "cell_type": "code",
      "metadata": {
        "colab": {
          "base_uri": "https://localhost:8080/"
        },
        "id": "jjC8e1sxQ3vu",
        "outputId": "240a58a7-25ba-47c8-c650-cdcf1a2ad29e"
      },
      "source": [
        "\n",
        "K = int(input())\n",
        "_input = list(map(int, input().split()))\n",
        "tree = [[] for _ in range(K)]\n",
        "\n",
        "def makeTree(arr,x):\n",
        "    mid = (len(arr)//2)\n",
        "    tree[x].append(arr[mid])\n",
        "    if len(arr) == 1:\n",
        "        return\n",
        "    makeTree(arr[:mid], x+1)\n",
        "    makeTree(arr[mid+1:], x+1)\n",
        "    \n",
        "makeTree(_input, 0)\n",
        "for i in range(K):\n",
        "    print(*tree[i])"
      ],
      "execution_count": 1,
      "outputs": [
        {
          "output_type": "stream",
          "name": "stdout",
          "text": [
            "2\n",
            "2 1 3\n",
            "1\n",
            "2 3\n"
          ]
        }
      ]
    },
    {
      "cell_type": "code",
      "metadata": {
        "id": "9Tt-fnaDQ6Ye"
      },
      "source": [
        ""
      ],
      "execution_count": null,
      "outputs": []
    }
  ]
}