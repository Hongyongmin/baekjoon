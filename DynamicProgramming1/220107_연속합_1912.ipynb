{
  "nbformat": 4,
  "nbformat_minor": 0,
  "metadata": {
    "colab": {
      "name": "220107_연속합_1912",
      "provenance": [],
      "authorship_tag": "ABX9TyPYrj5dvUiZtZ+eDWmQOY1k",
      "include_colab_link": true
    },
    "kernelspec": {
      "name": "python3",
      "display_name": "Python 3"
    },
    "language_info": {
      "name": "python"
    }
  },
  "cells": [
    {
      "cell_type": "markdown",
      "metadata": {
        "id": "view-in-github",
        "colab_type": "text"
      },
      "source": [
        "<a href=\"https://colab.research.google.com/github/Hongyongmin/baekjoon/blob/main/DynamicProgramming1/220107_%EC%97%B0%EC%86%8D%ED%95%A9_1912.ipynb\" target=\"_parent\"><img src=\"https://colab.research.google.com/assets/colab-badge.svg\" alt=\"Open In Colab\"/></a>"
      ]
    },
    {
      "cell_type": "code",
      "execution_count": 1,
      "metadata": {
        "colab": {
          "base_uri": "https://localhost:8080/"
        },
        "id": "pa8qx60_Waau",
        "outputId": "f43a1846-4c0d-4c90-d749-bd2885bcb1a9"
      },
      "outputs": [
        {
          "output_type": "stream",
          "name": "stdout",
          "text": [
            "10\n",
            "10 -4 3 1 5 6 -35 12 21 -1\n",
            "33\n"
          ]
        }
      ],
      "source": [
        "n = int(input())\n",
        "num = list(map(int,input().split(' ')))\n",
        "\n",
        "for i in range(1,len(num)):\n",
        "    num[i] = max(num[i],num[i-1]+num[i])\n",
        "\n",
        "print(max(num))"
      ]
    },
    {
      "cell_type": "code",
      "source": [
        ""
      ],
      "metadata": {
        "id": "j8rb50PXWb-Z"
      },
      "execution_count": null,
      "outputs": []
    }
  ]
}