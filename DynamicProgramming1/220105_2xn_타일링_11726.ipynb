{
  "nbformat": 4,
  "nbformat_minor": 0,
  "metadata": {
    "colab": {
      "name": "220105_2xn_타일링_11726",
      "provenance": [],
      "authorship_tag": "ABX9TyMfqUTJs+YxV7cLCgEO/9o5",
      "include_colab_link": true
    },
    "kernelspec": {
      "name": "python3",
      "display_name": "Python 3"
    },
    "language_info": {
      "name": "python"
    }
  },
  "cells": [
    {
      "cell_type": "markdown",
      "metadata": {
        "id": "view-in-github",
        "colab_type": "text"
      },
      "source": [
        "<a href=\"https://colab.research.google.com/github/Hongyongmin/baekjoon/blob/main/DynamicProgramming1/220105_2xn_%ED%83%80%EC%9D%BC%EB%A7%81_11726.ipynb\" target=\"_parent\"><img src=\"https://colab.research.google.com/assets/colab-badge.svg\" alt=\"Open In Colab\"/></a>"
      ]
    },
    {
      "cell_type": "code",
      "execution_count": 1,
      "metadata": {
        "colab": {
          "base_uri": "https://localhost:8080/"
        },
        "id": "gN7odYLSvUud",
        "outputId": "aeef3dc8-5d75-44ad-d530-df00d1a6910e"
      },
      "outputs": [
        {
          "output_type": "stream",
          "name": "stdout",
          "text": [
            "9\n",
            "55\n"
          ]
        }
      ],
      "source": [
        "lst = [0,1,2]\n",
        "N= int(input())\n",
        "for i in range(N-2):\n",
        "    lst.append(lst[-1]+lst[-2])\n",
        "    \n",
        "print(lst[N]%10007)"
      ]
    },
    {
      "cell_type": "code",
      "source": [
        ""
      ],
      "metadata": {
        "id": "nn4CpYBXvWQs"
      },
      "execution_count": null,
      "outputs": []
    }
  ]
}