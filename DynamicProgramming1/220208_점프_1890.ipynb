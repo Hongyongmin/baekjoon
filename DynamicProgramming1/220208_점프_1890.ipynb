{
  "nbformat": 4,
  "nbformat_minor": 0,
  "metadata": {
    "colab": {
      "name": "220208_점프_1890",
      "provenance": [],
      "authorship_tag": "ABX9TyPljbm6xz/rej5rGOXXwzZO",
      "include_colab_link": true
    },
    "kernelspec": {
      "name": "python3",
      "display_name": "Python 3"
    },
    "language_info": {
      "name": "python"
    }
  },
  "cells": [
    {
      "cell_type": "markdown",
      "metadata": {
        "id": "view-in-github",
        "colab_type": "text"
      },
      "source": [
        "<a href=\"https://colab.research.google.com/github/Hongyongmin/baekjoon/blob/main/DynamicProgramming1/220208_%EC%A0%90%ED%94%84_1890.ipynb\" target=\"_parent\"><img src=\"https://colab.research.google.com/assets/colab-badge.svg\" alt=\"Open In Colab\"/></a>"
      ]
    },
    {
      "cell_type": "code",
      "execution_count": 1,
      "metadata": {
        "colab": {
          "base_uri": "https://localhost:8080/"
        },
        "id": "LqKFS6zQso-y",
        "outputId": "e7e52d1f-b84a-4bf1-df4d-fee266703698"
      },
      "outputs": [
        {
          "output_type": "stream",
          "name": "stdout",
          "text": [
            "4\n",
            "2 3 3 1\n",
            "1 2 1 3\n",
            "1 2 3 1\n",
            "3 1 1 0\n",
            "3\n"
          ]
        }
      ],
      "source": [
        "def dfs(x, y):\n",
        "    if x == n - 1 and y == n - 1:\n",
        "        return 1\n",
        "    if dp[x][y] == -1:\n",
        "        dp[x][y] = 0\n",
        "        x1, y1 = x + s[x][y], y\n",
        "        x2, y2 = x, y + s[x][y]\n",
        "        if 0 <= x1 < n and 0 <= y1 < n: dp[x][y] += dfs(x1, y1)\n",
        "        if 0 <= x2 < n and 0 <= y2 < n: dp[x][y] += dfs(x2, y2)\n",
        "    return dp[x][y]\n",
        "n = int(input())\n",
        "s = [list(map(int, input().split())) for i in range(n)]\n",
        "dp = [[-1] * n for i in range(n)]\n",
        "print(dfs(0, 0))"
      ]
    },
    {
      "cell_type": "code",
      "source": [
        ""
      ],
      "metadata": {
        "id": "y5ufUze7sp3U"
      },
      "execution_count": null,
      "outputs": []
    }
  ]
}