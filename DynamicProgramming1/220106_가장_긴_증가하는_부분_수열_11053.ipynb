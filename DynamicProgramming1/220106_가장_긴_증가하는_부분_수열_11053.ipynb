{
  "nbformat": 4,
  "nbformat_minor": 0,
  "metadata": {
    "colab": {
      "name": "220106_가장_긴_증가하는_부분_수열_11053",
      "provenance": [],
      "authorship_tag": "ABX9TyOLoOyLWKhS7axgAKWDGRo/",
      "include_colab_link": true
    },
    "kernelspec": {
      "name": "python3",
      "display_name": "Python 3"
    },
    "language_info": {
      "name": "python"
    }
  },
  "cells": [
    {
      "cell_type": "markdown",
      "metadata": {
        "id": "view-in-github",
        "colab_type": "text"
      },
      "source": [
        "<a href=\"https://colab.research.google.com/github/Hongyongmin/baekjoon/blob/main/DynamicProgramming1/220106_%EA%B0%80%EC%9E%A5_%EA%B8%B4_%EC%A6%9D%EA%B0%80%ED%95%98%EB%8A%94_%EB%B6%80%EB%B6%84_%EC%88%98%EC%97%B4_11053.ipynb\" target=\"_parent\"><img src=\"https://colab.research.google.com/assets/colab-badge.svg\" alt=\"Open In Colab\"/></a>"
      ]
    },
    {
      "cell_type": "code",
      "execution_count": 1,
      "metadata": {
        "colab": {
          "base_uri": "https://localhost:8080/"
        },
        "id": "q2g-QKsbwgHF",
        "outputId": "0dcad270-51db-4823-d274-a577dbde8227"
      },
      "outputs": [
        {
          "output_type": "stream",
          "name": "stdout",
          "text": [
            "6\n",
            "10 20 10 30 20 50\n",
            "4\n"
          ]
        }
      ],
      "source": [
        "N = int(input())\n",
        "lst = list(map(int, input().split()))\n",
        "\n",
        "score = [0] * N\n",
        "for i in range(N):\n",
        "    for j in range(i):\n",
        "        if lst[i] > lst[j] and score[i] < score[j]:\n",
        "            score[i] = score[j]\n",
        "    score[i] += 1\n",
        "    \n",
        "print(max(score))"
      ]
    },
    {
      "cell_type": "code",
      "source": [
        ""
      ],
      "metadata": {
        "id": "3W_BxfHqwhbc"
      },
      "execution_count": null,
      "outputs": []
    }
  ]
}