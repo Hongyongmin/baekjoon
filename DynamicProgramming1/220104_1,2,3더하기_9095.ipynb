{
  "nbformat": 4,
  "nbformat_minor": 0,
  "metadata": {
    "colab": {
      "name": "220104_1,2,3더하기_9095",
      "provenance": [],
      "authorship_tag": "ABX9TyN2kSFm9aMn7QUQ8hnrRPQJ",
      "include_colab_link": true
    },
    "kernelspec": {
      "name": "python3",
      "display_name": "Python 3"
    },
    "language_info": {
      "name": "python"
    }
  },
  "cells": [
    {
      "cell_type": "markdown",
      "metadata": {
        "id": "view-in-github",
        "colab_type": "text"
      },
      "source": [
        "<a href=\"https://colab.research.google.com/github/Hongyongmin/baekjoon/blob/main/DynamicProgramming1/220104_1%2C2%2C3%EB%8D%94%ED%95%98%EA%B8%B0_9095.ipynb\" target=\"_parent\"><img src=\"https://colab.research.google.com/assets/colab-badge.svg\" alt=\"Open In Colab\"/></a>"
      ]
    },
    {
      "cell_type": "code",
      "execution_count": 1,
      "metadata": {
        "colab": {
          "base_uri": "https://localhost:8080/"
        },
        "id": "lbJPW5USbB9C",
        "outputId": "322d5215-f94e-4fbb-e8e2-344505b46b06"
      },
      "outputs": [
        {
          "output_type": "stream",
          "name": "stdout",
          "text": [
            "3\n",
            "4\n",
            "7\n",
            "10\n",
            "7\n",
            "44\n",
            "274\n"
          ]
        }
      ],
      "source": [
        "lst = [0]*11\n",
        "lst[1] = 1\n",
        "lst[2] = 2\n",
        "lst[3] = 4\n",
        "for i in range(4,11):\n",
        "    lst[i] = lst[i-1] + lst[i-2] + lst[i-3]\n",
        "    \n",
        "ans = []\n",
        "N = int(input())\n",
        "for i in range(N):\n",
        "    tmp = int(input())\n",
        "    ans.append(lst[tmp])\n",
        "\n",
        "for i in range(len(ans)):\n",
        "    print(ans[i])"
      ]
    },
    {
      "cell_type": "code",
      "source": [
        ""
      ],
      "metadata": {
        "id": "wptZJyhEbOLc"
      },
      "execution_count": null,
      "outputs": []
    }
  ]
}