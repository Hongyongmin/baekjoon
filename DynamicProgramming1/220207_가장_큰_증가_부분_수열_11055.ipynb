{
  "nbformat": 4,
  "nbformat_minor": 0,
  "metadata": {
    "colab": {
      "name": "220207_가장_큰_증가_부분_수열_11055",
      "provenance": [],
      "authorship_tag": "ABX9TyPYqOolcDj78tcUF2uruMCL",
      "include_colab_link": true
    },
    "kernelspec": {
      "name": "python3",
      "display_name": "Python 3"
    },
    "language_info": {
      "name": "python"
    }
  },
  "cells": [
    {
      "cell_type": "markdown",
      "metadata": {
        "id": "view-in-github",
        "colab_type": "text"
      },
      "source": [
        "<a href=\"https://colab.research.google.com/github/Hongyongmin/baekjoon/blob/main/DynamicProgramming1/220207_%EA%B0%80%EC%9E%A5_%ED%81%B0_%EC%A6%9D%EA%B0%80_%EB%B6%80%EB%B6%84_%EC%88%98%EC%97%B4_11055.ipynb\" target=\"_parent\"><img src=\"https://colab.research.google.com/assets/colab-badge.svg\" alt=\"Open In Colab\"/></a>"
      ]
    },
    {
      "cell_type": "code",
      "execution_count": null,
      "metadata": {
        "colab": {
          "base_uri": "https://localhost:8080/"
        },
        "id": "facs61JUDNij",
        "outputId": "aee2e6f3-9e0a-4f20-cb33-8af56bd2d46c"
      },
      "outputs": [
        {
          "output_type": "stream",
          "name": "stdout",
          "text": [
            "10\n",
            "1 100 2 50 60 4 5 6 7 8\n",
            "113\n"
          ]
        }
      ],
      "source": [
        "n = int(input())\n",
        "a = [int(x) for x in input().split()] \n",
        "dp = a[:] \n",
        "\n",
        "for i in range(n): \n",
        "    for j in range(i): \n",
        "        if a[i] > a[j]: \n",
        "            dp[i] = max(dp[i], dp[j] + a[i]) \n",
        "            \n",
        "print(max(dp))\n",
        "\n"
      ]
    },
    {
      "cell_type": "code",
      "source": [
        ""
      ],
      "metadata": {
        "id": "_OmeKuYBDPle"
      },
      "execution_count": null,
      "outputs": []
    }
  ]
}