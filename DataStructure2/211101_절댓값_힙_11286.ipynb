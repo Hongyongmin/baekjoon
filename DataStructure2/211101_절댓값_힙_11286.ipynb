{
  "nbformat": 4,
  "nbformat_minor": 0,
  "metadata": {
    "colab": {
      "name": "211101_절댓값_힙_11286",
      "provenance": [],
      "authorship_tag": "ABX9TyM+a+b/2YXRDvqqOPZ8vQOY",
      "include_colab_link": true
    },
    "kernelspec": {
      "name": "python3",
      "display_name": "Python 3"
    },
    "language_info": {
      "name": "python"
    }
  },
  "cells": [
    {
      "cell_type": "markdown",
      "metadata": {
        "id": "view-in-github",
        "colab_type": "text"
      },
      "source": [
        "<a href=\"https://colab.research.google.com/github/Hongyongmin/baekjoon/blob/main/DataStructure2/211101_%EC%A0%88%EB%8C%93%EA%B0%92_%ED%9E%99_11286.ipynb\" target=\"_parent\"><img src=\"https://colab.research.google.com/assets/colab-badge.svg\" alt=\"Open In Colab\"/></a>"
      ]
    },
    {
      "cell_type": "code",
      "metadata": {
        "colab": {
          "base_uri": "https://localhost:8080/"
        },
        "id": "I7ynweleAjGV",
        "outputId": "784ee557-3f8d-4b43-8c54-a4ad55011366"
      },
      "source": [
        "import heapq\n",
        "\n",
        "N = int(input())\n",
        "heap = []\n",
        "answer = []\n",
        "for i in range(0,N):\n",
        "    tmp = int(input())\n",
        "    if tmp == 0:\n",
        "        if heap:\n",
        "            answer.append(heapq.heappop(heap)[1])\n",
        "        else:\n",
        "            answer.append(0)\n",
        "    else:\n",
        "        heapq.heappush(heap, [abs(tmp),tmp])\n",
        "    \n",
        "for i in range(0, len(answer)):\n",
        "    print(answer[i])"
      ],
      "execution_count": 1,
      "outputs": [
        {
          "output_type": "stream",
          "name": "stdout",
          "text": [
            "18\n",
            "1\n",
            "-1\n",
            "0\n",
            "0\n",
            "0\n",
            "1\n",
            "1\n",
            "-1\n",
            "-1\n",
            "2\n",
            "-2\n",
            "0\n",
            "0\n",
            "0\n",
            "0\n",
            "0\n",
            "0\n",
            "0\n",
            "-1\n",
            "1\n",
            "0\n",
            "-1\n",
            "-1\n",
            "1\n",
            "1\n",
            "-2\n",
            "2\n",
            "0\n"
          ]
        }
      ]
    },
    {
      "cell_type": "code",
      "metadata": {
        "id": "AkPyaeTGAm3w"
      },
      "source": [
        ""
      ],
      "execution_count": null,
      "outputs": []
    }
  ]
}