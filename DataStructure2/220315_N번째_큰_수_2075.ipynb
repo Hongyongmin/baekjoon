{
  "nbformat": 4,
  "nbformat_minor": 0,
  "metadata": {
    "colab": {
      "name": "220315_N번째_큰_수_2075",
      "provenance": [],
      "authorship_tag": "ABX9TyM91V+LtnvBAQijF6A7nIBs",
      "include_colab_link": true
    },
    "kernelspec": {
      "name": "python3",
      "display_name": "Python 3"
    },
    "language_info": {
      "name": "python"
    }
  },
  "cells": [
    {
      "cell_type": "markdown",
      "metadata": {
        "id": "view-in-github",
        "colab_type": "text"
      },
      "source": [
        "<a href=\"https://colab.research.google.com/github/Hongyongmin/baekjoon/blob/main/DataStructure2/220315_N%EB%B2%88%EC%A7%B8_%ED%81%B0_%EC%88%98_2075.ipynb\" target=\"_parent\"><img src=\"https://colab.research.google.com/assets/colab-badge.svg\" alt=\"Open In Colab\"/></a>"
      ]
    },
    {
      "cell_type": "code",
      "execution_count": 1,
      "metadata": {
        "colab": {
          "base_uri": "https://localhost:8080/"
        },
        "id": "s0RL1GJhJSbC",
        "outputId": "60488125-9303-4027-9ad8-3376355c3931"
      },
      "outputs": [
        {
          "output_type": "stream",
          "name": "stdout",
          "text": [
            "5\n",
            "12 7 9 15 5\n",
            "13 8 11 19 6\n",
            "21 10 26 31 16\n",
            "48 14 28 35 25\n",
            "52 20 32 41 49\n",
            "35\n"
          ]
        }
      ],
      "source": [
        "import heapq\n",
        "n = int(input())\n",
        "total_list = []\n",
        "for i in map(int, input().split()):\n",
        "    heapq.heappush(total_list, i)\n",
        "\n",
        "for i in range(1, n):\n",
        "    a = list(map(int, input().split()))\n",
        "    for j in range(n):\n",
        "        if a[j] > total_list[0]:\n",
        "            heapq.heappush(total_list, a[j])\n",
        "            heapq.heappop(total_list)\n",
        "print(total_list[0])"
      ]
    },
    {
      "cell_type": "code",
      "source": [
        ""
      ],
      "metadata": {
        "id": "O3TA8kCZJTO_"
      },
      "execution_count": null,
      "outputs": []
    }
  ]
}