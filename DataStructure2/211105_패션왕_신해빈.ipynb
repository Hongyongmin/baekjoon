{
  "nbformat": 4,
  "nbformat_minor": 0,
  "metadata": {
    "colab": {
      "name": "211105_패션왕_신해빈",
      "provenance": [],
      "authorship_tag": "ABX9TyMWrBRjYrJvQd1pI8n8t9I3",
      "include_colab_link": true
    },
    "kernelspec": {
      "name": "python3",
      "display_name": "Python 3"
    },
    "language_info": {
      "name": "python"
    }
  },
  "cells": [
    {
      "cell_type": "markdown",
      "metadata": {
        "id": "view-in-github",
        "colab_type": "text"
      },
      "source": [
        "<a href=\"https://colab.research.google.com/github/Hongyongmin/baekjoon/blob/main/DataStructure2/211105_%ED%8C%A8%EC%85%98%EC%99%95_%EC%8B%A0%ED%95%B4%EB%B9%88.ipynb\" target=\"_parent\"><img src=\"https://colab.research.google.com/assets/colab-badge.svg\" alt=\"Open In Colab\"/></a>"
      ]
    },
    {
      "cell_type": "code",
      "metadata": {
        "colab": {
          "base_uri": "https://localhost:8080/"
        },
        "id": "LwP_pphn4Wve",
        "outputId": "4354e858-9751-4361-df19-b5f95009128a"
      },
      "source": [
        "N = int(input())\n",
        "\n",
        "for i in range(0,N):\n",
        "    fashion = {}\n",
        "    M = int(input())\n",
        "    for i in range(0,M):\n",
        "        clothes, kind = input().split()\n",
        "        if kind in fashion:\n",
        "            fashion[kind] += 1\n",
        "        else:\n",
        "            fashion[kind] =1\n",
        "    ans = 1\n",
        "    for i in fashion.values():\n",
        "        ans *= (i+1)\n",
        "    print(ans -1)"
      ],
      "execution_count": 1,
      "outputs": [
        {
          "output_type": "stream",
          "name": "stdout",
          "text": [
            "2\n",
            "3\n",
            "hat headgear\n",
            "sunglasses eyewear\n",
            "turban headgear\n",
            "5\n",
            "3\n",
            "mask face\n",
            "sunglasses face\n",
            "makeup face\n",
            "3\n"
          ]
        }
      ]
    },
    {
      "cell_type": "code",
      "metadata": {
        "id": "ocTR4YO9799c"
      },
      "source": [
        ""
      ],
      "execution_count": null,
      "outputs": []
    }
  ]
}