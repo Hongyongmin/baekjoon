{
  "nbformat": 4,
  "nbformat_minor": 0,
  "metadata": {
    "colab": {
      "name": "211106_대칭_차집합_1269",
      "provenance": [],
      "authorship_tag": "ABX9TyNYtuBXJ/VOIhVfc854M8ku",
      "include_colab_link": true
    },
    "kernelspec": {
      "name": "python3",
      "display_name": "Python 3"
    },
    "language_info": {
      "name": "python"
    }
  },
  "cells": [
    {
      "cell_type": "markdown",
      "metadata": {
        "id": "view-in-github",
        "colab_type": "text"
      },
      "source": [
        "<a href=\"https://colab.research.google.com/github/Hongyongmin/baekjoon/blob/main/DataStructure2/211106_%EB%8C%80%EC%B9%AD_%EC%B0%A8%EC%A7%91%ED%95%A9_1269.ipynb\" target=\"_parent\"><img src=\"https://colab.research.google.com/assets/colab-badge.svg\" alt=\"Open In Colab\"/></a>"
      ]
    },
    {
      "cell_type": "code",
      "metadata": {
        "colab": {
          "base_uri": "https://localhost:8080/"
        },
        "id": "HdGa3A_BFp9G",
        "outputId": "75d5bdbd-e2b9-4a6c-f042-e01ca17c57b4"
      },
      "source": [
        "N, M = map(int, input().split())\n",
        "a = set(map(int, input().split()))\n",
        "b = set(map(int, input().split()))\n",
        "print(len(a-b)+len(b-a))"
      ],
      "execution_count": 1,
      "outputs": [
        {
          "output_type": "stream",
          "name": "stdout",
          "text": [
            "3 5\n",
            "1 2 4\n",
            "2 3 4 5 6\n",
            "4\n"
          ]
        }
      ]
    },
    {
      "cell_type": "code",
      "metadata": {
        "id": "ut5VC2M-Fra3"
      },
      "source": [
        ""
      ],
      "execution_count": null,
      "outputs": []
    }
  ]
}