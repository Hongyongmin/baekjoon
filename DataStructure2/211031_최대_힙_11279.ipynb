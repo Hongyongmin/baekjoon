{
  "nbformat": 4,
  "nbformat_minor": 0,
  "metadata": {
    "colab": {
      "name": "211031_최대_힙_11279",
      "provenance": [],
      "authorship_tag": "ABX9TyOXJp39Y42MQb0XVdhi47Ew",
      "include_colab_link": true
    },
    "kernelspec": {
      "name": "python3",
      "display_name": "Python 3"
    },
    "language_info": {
      "name": "python"
    }
  },
  "cells": [
    {
      "cell_type": "markdown",
      "metadata": {
        "id": "view-in-github",
        "colab_type": "text"
      },
      "source": [
        "<a href=\"https://colab.research.google.com/github/Hongyongmin/baekjoon/blob/main/DataStructure2/211031_%EC%B5%9C%EB%8C%80_%ED%9E%99_11279.ipynb\" target=\"_parent\"><img src=\"https://colab.research.google.com/assets/colab-badge.svg\" alt=\"Open In Colab\"/></a>"
      ]
    },
    {
      "cell_type": "code",
      "metadata": {
        "colab": {
          "base_uri": "https://localhost:8080/"
        },
        "id": "BNr5aYTNUxs8",
        "outputId": "589871b0-9fbe-4bd4-ddad-a23820b12b96"
      },
      "source": [
        "import heapq\n",
        "\n",
        "N = int(input())\n",
        "heap = []\n",
        "answer = []\n",
        "for i in range(0,N):\n",
        "    tmp = int(input())\n",
        "    if tmp == 0:\n",
        "        if heap:\n",
        "            answer.append(-heapq.heappop(heap))\n",
        "        else:\n",
        "            answer.append(0)\n",
        "    heapq.heappush(heap, -tmp)\n",
        "\n",
        "for i in range(0,len(answer)):\n",
        "    print(answer[i])"
      ],
      "execution_count": 1,
      "outputs": [
        {
          "output_type": "stream",
          "name": "stdout",
          "text": [
            "13\n",
            "0\n",
            "1\n",
            "2\n",
            "0\n",
            "0\n",
            "1\n",
            "2\n",
            "3\n",
            "0\n",
            "0\n",
            "0\n",
            "0\n",
            "0\n",
            "0\n",
            "2\n",
            "1\n",
            "3\n",
            "2\n",
            "1\n",
            "0\n",
            "0\n"
          ]
        }
      ]
    },
    {
      "cell_type": "code",
      "metadata": {
        "id": "037c65xvU2aR"
      },
      "source": [
        ""
      ],
      "execution_count": null,
      "outputs": []
    }
  ]
}