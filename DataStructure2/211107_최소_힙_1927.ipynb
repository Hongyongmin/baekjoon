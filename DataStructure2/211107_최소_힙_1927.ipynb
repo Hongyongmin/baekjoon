{
  "nbformat": 4,
  "nbformat_minor": 0,
  "metadata": {
    "colab": {
      "name": "211107_최소_힙_1927",
      "provenance": [],
      "authorship_tag": "ABX9TyM58GtoGg8Fpy0NCiwE5tpq",
      "include_colab_link": true
    },
    "kernelspec": {
      "name": "python3",
      "display_name": "Python 3"
    },
    "language_info": {
      "name": "python"
    }
  },
  "cells": [
    {
      "cell_type": "markdown",
      "metadata": {
        "id": "view-in-github",
        "colab_type": "text"
      },
      "source": [
        "<a href=\"https://colab.research.google.com/github/Hongyongmin/baekjoon/blob/main/DataStructure2/211107_%EC%B5%9C%EC%86%8C_%ED%9E%99_1927.ipynb\" target=\"_parent\"><img src=\"https://colab.research.google.com/assets/colab-badge.svg\" alt=\"Open In Colab\"/></a>"
      ]
    },
    {
      "cell_type": "code",
      "metadata": {
        "colab": {
          "base_uri": "https://localhost:8080/"
        },
        "id": "fxxX2aX3G-K0",
        "outputId": "fcfe2fd0-0f65-414c-d817-0aa500e73707"
      },
      "source": [
        "import heapq\n",
        "\n",
        "N = int(input())\n",
        "heap = []\n",
        "ans = []\n",
        "for i in range(0,N):\n",
        "    tmp = int(input())\n",
        "    if tmp == 0:\n",
        "        if not heap:\n",
        "            ans.append(0)\n",
        "        else:\n",
        "            ans.append(heapq.heappop(heap))\n",
        "            \n",
        "    else:\n",
        "        heapq.heappush(heap,tmp)\n",
        "        \n",
        "for i in range(0, len(ans)):\n",
        "    print(ans[i])"
      ],
      "execution_count": 1,
      "outputs": [
        {
          "output_type": "stream",
          "name": "stdout",
          "text": [
            "9\n",
            "0\n",
            "12345678\n",
            "1\n",
            "2\n",
            "0\n",
            "0\n",
            "0\n",
            "0\n",
            "32\n",
            "0\n",
            "1\n",
            "2\n",
            "12345678\n",
            "0\n"
          ]
        }
      ]
    },
    {
      "cell_type": "code",
      "metadata": {
        "id": "7e51pX4lG-xp"
      },
      "source": [
        ""
      ],
      "execution_count": null,
      "outputs": []
    }
  ]
}