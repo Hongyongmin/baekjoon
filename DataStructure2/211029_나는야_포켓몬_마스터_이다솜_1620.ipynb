{
  "nbformat": 4,
  "nbformat_minor": 0,
  "metadata": {
    "colab": {
      "name": "211029_나는야_포켓몬_마스터_이다솜_1620",
      "provenance": [],
      "authorship_tag": "ABX9TyMy4nkIaWEsuolDd30GftH7",
      "include_colab_link": true
    },
    "kernelspec": {
      "name": "python3",
      "display_name": "Python 3"
    },
    "language_info": {
      "name": "python"
    }
  },
  "cells": [
    {
      "cell_type": "markdown",
      "metadata": {
        "id": "view-in-github",
        "colab_type": "text"
      },
      "source": [
        "<a href=\"https://colab.research.google.com/github/Hongyongmin/baekjoon/blob/main/DataStructure2/211029_%EB%82%98%EB%8A%94%EC%95%BC_%ED%8F%AC%EC%BC%93%EB%AA%AC_%EB%A7%88%EC%8A%A4%ED%84%B0_%EC%9D%B4%EB%8B%A4%EC%86%9C_1620.ipynb\" target=\"_parent\"><img src=\"https://colab.research.google.com/assets/colab-badge.svg\" alt=\"Open In Colab\"/></a>"
      ]
    },
    {
      "cell_type": "code",
      "metadata": {
        "colab": {
          "base_uri": "https://localhost:8080/"
        },
        "id": "yRYNBvfR28cB",
        "outputId": "4c1846db-b0c8-4833-8cb4-90dc8ffc3d46"
      },
      "source": [
        "N,M = map(int, input().split())\n",
        "\n",
        "dogam = []\n",
        "for i in range(0,N):\n",
        "    tmp = input()\n",
        "    dogam.append(tmp)\n",
        "\n",
        "answer = []\n",
        "\n",
        "for i in range(0,M):\n",
        "    tmp = input()\n",
        "    if tmp.isdigit():\n",
        "        tmp = int(tmp)\n",
        "        answer.append(dogam[tmp-1])\n",
        "    else:\n",
        "        answer.append(dogam.index(tmp)+1)\n",
        "\n",
        "for i in range(0,len(answer)):\n",
        "    print(answer[i])"
      ],
      "execution_count": 3,
      "outputs": [
        {
          "output_type": "stream",
          "name": "stdout",
          "text": [
            "26 5\n",
            "Bulbasaur\n",
            "Ivysaur\n",
            "Venusaur\n",
            "Charmander\n",
            "Charmeleon\n",
            "Charizard\n",
            "Squirtle\n",
            "Wartortle\n",
            "Blastoise\n",
            "Caterpie\n",
            "Metapod\n",
            "Butterfree\n",
            "Weedle\n",
            "Kakuna\n",
            "Beedrill\n",
            "Pidgey\n",
            "Pidgeotoo\n",
            "Pidgeot\n",
            "Rattata\n",
            "Raticate\n",
            "Spearow\n",
            "Fearow\n",
            "Ekans\n",
            "Arbok\n",
            "Pikachu\n",
            "Raichu\n",
            "25\n",
            "Raichu\n",
            "3\n",
            "Pidgey\n",
            "Kakuna\n",
            "Pikachu\n",
            "26\n",
            "Venusaur\n",
            "16\n",
            "14\n"
          ]
        }
      ]
    },
    {
      "cell_type": "code",
      "metadata": {
        "id": "wskARsct3HWq"
      },
      "source": [
        ""
      ],
      "execution_count": null,
      "outputs": []
    }
  ]
}