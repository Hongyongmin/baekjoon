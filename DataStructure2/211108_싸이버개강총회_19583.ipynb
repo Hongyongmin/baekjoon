{
  "nbformat": 4,
  "nbformat_minor": 0,
  "metadata": {
    "colab": {
      "name": "211108_싸이버개강총회_19583",
      "provenance": [],
      "authorship_tag": "ABX9TyPUd4L9vSxyUMgCdKG0FNu1",
      "include_colab_link": true
    },
    "kernelspec": {
      "name": "python3",
      "display_name": "Python 3"
    },
    "language_info": {
      "name": "python"
    }
  },
  "cells": [
    {
      "cell_type": "markdown",
      "metadata": {
        "id": "view-in-github",
        "colab_type": "text"
      },
      "source": [
        "<a href=\"https://colab.research.google.com/github/Hongyongmin/baekjoon/blob/main/DataStructure2/211108_%EC%8B%B8%EC%9D%B4%EB%B2%84%EA%B0%9C%EA%B0%95%EC%B4%9D%ED%9A%8C_19583.ipynb\" target=\"_parent\"><img src=\"https://colab.research.google.com/assets/colab-badge.svg\" alt=\"Open In Colab\"/></a>"
      ]
    },
    {
      "cell_type": "code",
      "metadata": {
        "colab": {
          "base_uri": "https://localhost:8080/"
        },
        "id": "gzYp55GTHgt8",
        "outputId": "7115106b-a613-4f37-9173-869ac65a8031"
      },
      "source": [
        "import sys\n",
        "start, end, streaming = map(str, input().split())\n",
        "start = int(\"\".join(start.split(':')))\n",
        "end = int(\"\".join(end.split(':')))\n",
        "streaming = int(\"\".join(streaming.split(':')))\n",
        "\n",
        "dic = {}\n",
        "count = 0\n",
        "while(True):\n",
        "    line = sys.stdin.readline()\n",
        "    if len(line) < 5:\n",
        "        break\n",
        "    time, name = map(str, line.split())\n",
        "    time = int(\"\".join(time.split(':')))\n",
        "    if start >= time:\n",
        "        dic[name] = 1\n",
        "    elif end <= time <= streaming:\n",
        "        if dic.get(name) == 1:\n",
        "            dic[name] += 1\n",
        "            count += 1\n",
        "\n",
        "print(count)"
      ],
      "execution_count": 1,
      "outputs": [
        {
          "output_type": "stream",
          "name": "stdout",
          "text": [
            "22:00 23:00 23:30\n",
            "0\n"
          ]
        }
      ]
    },
    {
      "cell_type": "code",
      "metadata": {
        "id": "z9OclRMKHkfi"
      },
      "source": [
        ""
      ],
      "execution_count": null,
      "outputs": []
    }
  ]
}