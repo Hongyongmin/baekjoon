{
  "nbformat": 4,
  "nbformat_minor": 0,
  "metadata": {
    "colab": {
      "name": "211109_트리의_부모_찾기_11725",
      "provenance": [],
      "authorship_tag": "ABX9TyN6VCrUpZlgTJz0xSFkqwGb",
      "include_colab_link": true
    },
    "kernelspec": {
      "name": "python3",
      "display_name": "Python 3"
    },
    "language_info": {
      "name": "python"
    }
  },
  "cells": [
    {
      "cell_type": "markdown",
      "metadata": {
        "id": "view-in-github",
        "colab_type": "text"
      },
      "source": [
        "<a href=\"https://colab.research.google.com/github/Hongyongmin/baekjoon/blob/main/DataStructure2/211109_%ED%8A%B8%EB%A6%AC%EC%9D%98_%EB%B6%80%EB%AA%A8_%EC%B0%BE%EA%B8%B0_11725.ipynb\" target=\"_parent\"><img src=\"https://colab.research.google.com/assets/colab-badge.svg\" alt=\"Open In Colab\"/></a>"
      ]
    },
    {
      "cell_type": "code",
      "metadata": {
        "colab": {
          "base_uri": "https://localhost:8080/"
        },
        "id": "BmzGTzptOBtQ",
        "outputId": "862277b3-331d-4a1c-a534-99a2bfd1d3b8"
      },
      "source": [
        "n = int(input())\n",
        "tree = [[] for i in range(n+1)]\n",
        "\n",
        "for i in range(n-1):\n",
        "    a,b = list(map(int,input().split()))\n",
        "    tree[a].append(b)\n",
        "    tree[b].append(a)\n",
        "    \n",
        "q = [1]\n",
        "ans = {}\n",
        "check = [False for i in range(n+1)]\n",
        "\n",
        "while len(q) >0 :\n",
        "    parent = q.pop(0)\n",
        "    for i in tree[parent]:\n",
        "        if not check[i]:\n",
        "            ans[i] = parent\n",
        "            q.append(i)\n",
        "            check[i] = True\n",
        "for i in range(2,n+1):\n",
        "    print(ans[i])"
      ],
      "execution_count": 2,
      "outputs": [
        {
          "output_type": "stream",
          "name": "stdout",
          "text": [
            "7\n",
            "1 6\n",
            "6 3\n",
            "3 5\n",
            "4 1\n",
            "2 4\n",
            "4 7\n",
            "4\n",
            "6\n",
            "1\n",
            "3\n",
            "1\n",
            "4\n"
          ]
        }
      ]
    },
    {
      "cell_type": "code",
      "metadata": {
        "id": "600ngxYvODhy"
      },
      "source": [
        ""
      ],
      "execution_count": null,
      "outputs": []
    }
  ]
}