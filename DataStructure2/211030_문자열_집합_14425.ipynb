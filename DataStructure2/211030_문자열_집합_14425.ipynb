{
  "nbformat": 4,
  "nbformat_minor": 0,
  "metadata": {
    "colab": {
      "name": "211030_문자열_집합_14425",
      "provenance": [],
      "authorship_tag": "ABX9TyOEIMwPT027oE7G9VogwmE6",
      "include_colab_link": true
    },
    "kernelspec": {
      "name": "python3",
      "display_name": "Python 3"
    },
    "language_info": {
      "name": "python"
    }
  },
  "cells": [
    {
      "cell_type": "markdown",
      "metadata": {
        "id": "view-in-github",
        "colab_type": "text"
      },
      "source": [
        "<a href=\"https://colab.research.google.com/github/Hongyongmin/baekjoon/blob/main/DataStructure2/211030_%EB%AC%B8%EC%9E%90%EC%97%B4_%EC%A7%91%ED%95%A9_14425.ipynb\" target=\"_parent\"><img src=\"https://colab.research.google.com/assets/colab-badge.svg\" alt=\"Open In Colab\"/></a>"
      ]
    },
    {
      "cell_type": "code",
      "metadata": {
        "colab": {
          "base_uri": "https://localhost:8080/"
        },
        "id": "WjXsJLLKyLd6",
        "outputId": "ed0f5ab2-7a57-45d7-de5d-076d85b618f1"
      },
      "source": [
        "N, M = map(int, input().split())\n",
        "S = {}\n",
        "for i in range(0,N):\n",
        "    tmp = input()\n",
        "    S[tmp]=1\n",
        "ans = 0\n",
        "\n",
        "for i in range(0,M):\n",
        "    tmp = input()\n",
        "    if tmp in S:\n",
        "        ans=ans+1\n",
        "print(ans)"
      ],
      "execution_count": 1,
      "outputs": [
        {
          "output_type": "stream",
          "name": "stdout",
          "text": [
            "5 11\n",
            "baekjoononlinejudge\n",
            "startlink\n",
            "codeplus\n",
            "sundaycoding\n",
            "codingsh\n",
            "baekjoon\n",
            "codeplus\n",
            "codeminus\n",
            "startlink\n",
            "starlink\n",
            "sundaycoding\n",
            "condingsh\n",
            "codinghs\n",
            "sondayconding\n",
            "startrink\n",
            "icerink\n",
            "3\n"
          ]
        }
      ]
    },
    {
      "cell_type": "code",
      "metadata": {
        "id": "yNA3DMY11EgI"
      },
      "source": [
        ""
      ],
      "execution_count": null,
      "outputs": []
    }
  ]
}