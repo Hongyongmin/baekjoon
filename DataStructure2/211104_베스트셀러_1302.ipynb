{
  "nbformat": 4,
  "nbformat_minor": 0,
  "metadata": {
    "colab": {
      "name": "211104_베스트셀러_1302",
      "provenance": [],
      "authorship_tag": "ABX9TyPw4ndtEepZR/jGW75NvfN5",
      "include_colab_link": true
    },
    "kernelspec": {
      "name": "python3",
      "display_name": "Python 3"
    },
    "language_info": {
      "name": "python"
    }
  },
  "cells": [
    {
      "cell_type": "markdown",
      "metadata": {
        "id": "view-in-github",
        "colab_type": "text"
      },
      "source": [
        "<a href=\"https://colab.research.google.com/github/Hongyongmin/baekjoon/blob/main/DataStructure2/211104_%EB%B2%A0%EC%8A%A4%ED%8A%B8%EC%85%80%EB%9F%AC_1302.ipynb\" target=\"_parent\"><img src=\"https://colab.research.google.com/assets/colab-badge.svg\" alt=\"Open In Colab\"/></a>"
      ]
    },
    {
      "cell_type": "code",
      "metadata": {
        "colab": {
          "base_uri": "https://localhost:8080/"
        },
        "id": "J4A1Dub1nZ4D",
        "outputId": "fd579668-74e9-41a3-d804-4ccc3bd5e797"
      },
      "source": [
        "N = int(input())\n",
        "\n",
        "sell = {}\n",
        "for i in range(0,N):\n",
        "    book = input()\n",
        "    if book not in sell:\n",
        "        sell[book] = 1\n",
        "    else:\n",
        "        sell[book] += 1\n",
        "\n",
        "        \n",
        "sell = list(sell.items())\n",
        "sell.sort(key = lambda x : (-x[1],x[0]))\n",
        "print(sell[0][0])"
      ],
      "execution_count": 1,
      "outputs": [
        {
          "output_type": "stream",
          "name": "stdout",
          "text": [
            "9\n",
            "TABLE\n",
            "CHAIR\n",
            "TABLE\n",
            "TABLE\n",
            "LAMP\n",
            "DOOR\n",
            "LAMP\n",
            "TABLE\n",
            "CHAIR\n",
            "TABLE\n"
          ]
        }
      ]
    },
    {
      "cell_type": "code",
      "metadata": {
        "id": "tSjLE941ncim"
      },
      "source": [
        ""
      ],
      "execution_count": null,
      "outputs": []
    }
  ]
}