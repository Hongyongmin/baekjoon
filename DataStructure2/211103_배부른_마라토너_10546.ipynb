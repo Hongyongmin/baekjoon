{
  "nbformat": 4,
  "nbformat_minor": 0,
  "metadata": {
    "colab": {
      "name": "211103_배부른_마라토너_10546",
      "provenance": [],
      "authorship_tag": "ABX9TyMNg1fx2pM8XUkrWpeW9pPs",
      "include_colab_link": true
    },
    "kernelspec": {
      "name": "python3",
      "display_name": "Python 3"
    },
    "language_info": {
      "name": "python"
    }
  },
  "cells": [
    {
      "cell_type": "markdown",
      "metadata": {
        "id": "view-in-github",
        "colab_type": "text"
      },
      "source": [
        "<a href=\"https://colab.research.google.com/github/Hongyongmin/baekjoon/blob/main/DataStructure2/211103_%EB%B0%B0%EB%B6%80%EB%A5%B8_%EB%A7%88%EB%9D%BC%ED%86%A0%EB%84%88_10546.ipynb\" target=\"_parent\"><img src=\"https://colab.research.google.com/assets/colab-badge.svg\" alt=\"Open In Colab\"/></a>"
      ]
    },
    {
      "cell_type": "code",
      "metadata": {
        "colab": {
          "base_uri": "https://localhost:8080/"
        },
        "id": "S8hsAqYYa2__",
        "outputId": "7caafff5-f61d-4994-8ef8-229007672909"
      },
      "source": [
        "N = int(input())\n",
        "\n",
        "member = {}\n",
        "for i in range(0,N):\n",
        "    tmp = input()\n",
        "    member[tmp] = member.get(tmp,0)+1\n",
        "for i in range(0,N-1):\n",
        "    tmp = input()\n",
        "    member[tmp] -=1\n",
        "\n",
        "dic_list = list(member.items())\n",
        "dic_list.sort(key = lambda x: (-x[1], x[0]))\n",
        "print(dic_list[0][0])"
      ],
      "execution_count": 1,
      "outputs": [
        {
          "output_type": "stream",
          "name": "stdout",
          "text": [
            "3\n",
            "leo\n",
            "kiki\n",
            "eden\n",
            "eden\n",
            "kiki\n",
            "leo\n"
          ]
        }
      ]
    },
    {
      "cell_type": "code",
      "metadata": {
        "id": "pGyCjlyca4rK"
      },
      "source": [
        ""
      ],
      "execution_count": null,
      "outputs": []
    }
  ]
}