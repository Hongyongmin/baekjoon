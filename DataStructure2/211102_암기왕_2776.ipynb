{
  "nbformat": 4,
  "nbformat_minor": 0,
  "metadata": {
    "colab": {
      "name": "211102_암기왕_2776",
      "provenance": [],
      "authorship_tag": "ABX9TyMJENRmQKUUP/14uijwIro9",
      "include_colab_link": true
    },
    "kernelspec": {
      "name": "python3",
      "display_name": "Python 3"
    },
    "language_info": {
      "name": "python"
    }
  },
  "cells": [
    {
      "cell_type": "markdown",
      "metadata": {
        "id": "view-in-github",
        "colab_type": "text"
      },
      "source": [
        "<a href=\"https://colab.research.google.com/github/Hongyongmin/baekjoon/blob/main/DataStructure2/211102_%EC%95%94%EA%B8%B0%EC%99%95_2776.ipynb\" target=\"_parent\"><img src=\"https://colab.research.google.com/assets/colab-badge.svg\" alt=\"Open In Colab\"/></a>"
      ]
    },
    {
      "cell_type": "code",
      "metadata": {
        "colab": {
          "base_uri": "https://localhost:8080/"
        },
        "id": "_sz-Y45Y-pU5",
        "outputId": "e3fbfa0c-5da0-418a-bdeb-7b71c3952b07"
      },
      "source": [
        "for _ in range(int(input())):\n",
        "    N = int(input())\n",
        "    li1 = set(map(int, input().split()))\n",
        "    M = int(input())\n",
        "    li2 = list(map(int, input().split()))\n",
        "    for n in li2:\n",
        "        print(1 if n in li1 else 0)"
      ],
      "execution_count": 1,
      "outputs": [
        {
          "output_type": "stream",
          "name": "stdout",
          "text": [
            "1\n",
            "5\n",
            "4 1 5 2 3\n",
            "5\n",
            "1 3 7 9 5\n",
            "1\n",
            "1\n",
            "0\n",
            "0\n",
            "1\n"
          ]
        }
      ]
    },
    {
      "cell_type": "code",
      "metadata": {
        "id": "2mQrAsNd-tmA"
      },
      "source": [
        ""
      ],
      "execution_count": null,
      "outputs": []
    }
  ]
}