{
  "nbformat": 4,
  "nbformat_minor": 0,
  "metadata": {
    "colab": {
      "name": "220127_IF문_좀_대신_써줘_19637",
      "provenance": [],
      "authorship_tag": "ABX9TyMmvnOjLnBHbc68N/Sgq/qE",
      "include_colab_link": true
    },
    "kernelspec": {
      "name": "python3",
      "display_name": "Python 3"
    },
    "language_info": {
      "name": "python"
    }
  },
  "cells": [
    {
      "cell_type": "markdown",
      "metadata": {
        "id": "view-in-github",
        "colab_type": "text"
      },
      "source": [
        "<a href=\"https://colab.research.google.com/github/Hongyongmin/baekjoon/blob/main/BinarySearch/220127_IF%EB%AC%B8_%EC%A2%80_%EB%8C%80%EC%8B%A0_%EC%8D%A8%EC%A4%98_19637.ipynb\" target=\"_parent\"><img src=\"https://colab.research.google.com/assets/colab-badge.svg\" alt=\"Open In Colab\"/></a>"
      ]
    },
    {
      "cell_type": "code",
      "execution_count": 1,
      "metadata": {
        "colab": {
          "base_uri": "https://localhost:8080/"
        },
        "id": "M9Yc3svQZO2M",
        "outputId": "aa185b8f-7f08-4a89-872b-533316e2a51e"
      },
      "outputs": [
        {
          "output_type": "stream",
          "name": "stdout",
          "text": [
            "3 8\n",
            "WEAK 10000\n",
            "NORMAL 100000\n",
            "STRONG 1000000\n",
            "0\n",
            "WEAK\n",
            "9999\n",
            "WEAK\n",
            "10000\n",
            "WEAK\n",
            "10001\n",
            "NORMAL\n",
            "50000\n",
            "NORMAL\n",
            "100000\n",
            "NORMAL\n",
            "500000\n",
            "STRONG\n",
            "1000000\n",
            "STRONG\n"
          ]
        }
      ],
      "source": [
        "n, m = map(int, input().split())\n",
        "powerList = []\n",
        "nameList = []\n",
        "for i in range(n):\n",
        "    name, power = input().split()\n",
        "    power = int(power)\n",
        "    if powerList and powerList[-1] == power:  # 가장 처음 칭호만 저장해주기 위해\n",
        "        continue\n",
        "    powerList.append(power)\n",
        "    nameList.append(name)\n",
        "\n",
        "\n",
        "def binary_search(p):\n",
        "    left = 0\n",
        "    right = len(powerList) - 1\n",
        "    while left <= right:\n",
        "        mid = (left + right) // 2\n",
        "        if p > powerList[mid]:\n",
        "            left = mid + 1\n",
        "        else:\n",
        "            right = mid - 1\n",
        "    print(nameList[right+1])\n",
        "\n",
        "\n",
        "mList = []\n",
        "for _ in range(m):\n",
        "    p = int(input())\n",
        "    binary_search(p)ㅉ"
      ]
    },
    {
      "cell_type": "code",
      "source": [
        ""
      ],
      "metadata": {
        "id": "Zcpu2YJKZP4f"
      },
      "execution_count": null,
      "outputs": []
    }
  ]
}