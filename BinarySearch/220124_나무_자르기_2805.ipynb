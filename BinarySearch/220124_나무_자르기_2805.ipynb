{
  "nbformat": 4,
  "nbformat_minor": 0,
  "metadata": {
    "colab": {
      "name": "220124_나무_자르기_2805",
      "provenance": [],
      "authorship_tag": "ABX9TyM+xvo4FbAdkifxHEg420b6",
      "include_colab_link": true
    },
    "kernelspec": {
      "name": "python3",
      "display_name": "Python 3"
    },
    "language_info": {
      "name": "python"
    }
  },
  "cells": [
    {
      "cell_type": "markdown",
      "metadata": {
        "id": "view-in-github",
        "colab_type": "text"
      },
      "source": [
        "<a href=\"https://colab.research.google.com/github/Hongyongmin/baekjoon/blob/main/BinarySearch/220124_%EB%82%98%EB%AC%B4_%EC%9E%90%EB%A5%B4%EA%B8%B0_2805.ipynb\" target=\"_parent\"><img src=\"https://colab.research.google.com/assets/colab-badge.svg\" alt=\"Open In Colab\"/></a>"
      ]
    },
    {
      "cell_type": "code",
      "execution_count": 1,
      "metadata": {
        "colab": {
          "base_uri": "https://localhost:8080/"
        },
        "id": "cLqc7F4npCM-",
        "outputId": "c9142b1e-74eb-4cd7-950a-8de5e878b257"
      },
      "outputs": [
        {
          "output_type": "stream",
          "name": "stdout",
          "text": [
            "4 7\n",
            "20 15 10 17\n",
            "15\n"
          ]
        }
      ],
      "source": [
        "def binary_search():\n",
        "    global ans\n",
        "    start, end = 0, max(arr)\n",
        "\n",
        "    while start <= end:\n",
        "        mid = (start + end) // 2\n",
        "        total_length = 0\n",
        "        for i in arr:\n",
        "            if i - mid >= 0:\n",
        "                total_length += i - mid\n",
        "\n",
        "        if total_length < M:\n",
        "            end = mid - 1\n",
        "        else:\n",
        "            start = mid + 1\n",
        "    ans = end\n",
        "\n",
        "N, M = map(int, input().split())\n",
        "arr = list(map(int, input().split()))\n",
        "ans = 0\n",
        "binary_search()\n",
        "print(ans)"
      ]
    },
    {
      "cell_type": "code",
      "source": [
        ""
      ],
      "metadata": {
        "id": "b-aVQx-2pDGj"
      },
      "execution_count": null,
      "outputs": []
    }
  ]
}