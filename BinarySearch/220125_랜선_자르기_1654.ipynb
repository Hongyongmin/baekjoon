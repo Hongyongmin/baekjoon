{
  "nbformat": 4,
  "nbformat_minor": 0,
  "metadata": {
    "colab": {
      "name": "220125_랜선_자르기_1654",
      "provenance": [],
      "authorship_tag": "ABX9TyMNU5qI0eEMPN3Dwkx69P27",
      "include_colab_link": true
    },
    "kernelspec": {
      "name": "python3",
      "display_name": "Python 3"
    },
    "language_info": {
      "name": "python"
    }
  },
  "cells": [
    {
      "cell_type": "markdown",
      "metadata": {
        "id": "view-in-github",
        "colab_type": "text"
      },
      "source": [
        "<a href=\"https://colab.research.google.com/github/Hongyongmin/baekjoon/blob/main/BinarySearch/220125_%EB%9E%9C%EC%84%A0_%EC%9E%90%EB%A5%B4%EA%B8%B0_1654.ipynb\" target=\"_parent\"><img src=\"https://colab.research.google.com/assets/colab-badge.svg\" alt=\"Open In Colab\"/></a>"
      ]
    },
    {
      "cell_type": "code",
      "execution_count": 1,
      "metadata": {
        "colab": {
          "base_uri": "https://localhost:8080/"
        },
        "id": "G3evES-OuDm2",
        "outputId": "0012d0f7-2b65-4de3-fc65-4558d9d08f6e"
      },
      "outputs": [
        {
          "output_type": "stream",
          "name": "stdout",
          "text": [
            "4 11\n",
            "802\n",
            "743\n",
            "457\n",
            "539\n",
            "200\n"
          ]
        }
      ],
      "source": [
        "K,N = map(int,input().split())\n",
        "arr = [int(input()) for _ in range(K)]\n",
        "left, right = 1, max(arr)\n",
        "while(left<= right):\n",
        "    mid= (left+right)//2\n",
        "    sum = 0\n",
        "    for i in arr:\n",
        "        sum += i//mid\n",
        "    \n",
        "    if sum >= N:  # 정답보다 잘게 잘랐으면\n",
        "        left = mid+1 # 시작점을 방금값 + 1로\n",
        "    else : \n",
        "        right = mid-1\n",
        "\n",
        "print(right)"
      ]
    },
    {
      "cell_type": "code",
      "source": [
        ""
      ],
      "metadata": {
        "id": "AYH-PX6fuEKu"
      },
      "execution_count": null,
      "outputs": []
    }
  ]
}