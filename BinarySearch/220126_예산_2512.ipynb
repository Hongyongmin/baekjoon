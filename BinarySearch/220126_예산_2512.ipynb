{
  "nbformat": 4,
  "nbformat_minor": 0,
  "metadata": {
    "colab": {
      "name": "220126_예산_2512",
      "provenance": [],
      "authorship_tag": "ABX9TyNRazeVvze74zdSCbxP2va8",
      "include_colab_link": true
    },
    "kernelspec": {
      "name": "python3",
      "display_name": "Python 3"
    },
    "language_info": {
      "name": "python"
    }
  },
  "cells": [
    {
      "cell_type": "markdown",
      "metadata": {
        "id": "view-in-github",
        "colab_type": "text"
      },
      "source": [
        "<a href=\"https://colab.research.google.com/github/Hongyongmin/baekjoon/blob/main/BinarySearch/220126_%EC%98%88%EC%82%B0_2512.ipynb\" target=\"_parent\"><img src=\"https://colab.research.google.com/assets/colab-badge.svg\" alt=\"Open In Colab\"/></a>"
      ]
    },
    {
      "cell_type": "code",
      "execution_count": 1,
      "metadata": {
        "colab": {
          "base_uri": "https://localhost:8080/"
        },
        "id": "2wn87DszwHe7",
        "outputId": "2521d3ac-5ad4-42b0-dba9-e6ab817e4ad9"
      },
      "outputs": [
        {
          "output_type": "stream",
          "name": "stdout",
          "text": [
            "4\n",
            "120 110 140 150\n",
            "485\n",
            "127\n"
          ]
        }
      ],
      "source": [
        "n = int(input())\n",
        "s = list(map(int, input().split()))\n",
        "m = int(input())\n",
        "low, high = 0, max(s)\n",
        "while low <= high:\n",
        "    mid = (low + high) // 2\n",
        "    num = 0\n",
        "    for i in s:\n",
        "        if i >= mid: num += mid\n",
        "        else: num += i\n",
        "    if num <= m: low = mid + 1\n",
        "    else: high = mid - 1\n",
        "print(high)"
      ]
    },
    {
      "cell_type": "code",
      "source": [
        ""
      ],
      "metadata": {
        "id": "XwHG1EXFwRdR"
      },
      "execution_count": null,
      "outputs": []
    }
  ]
}