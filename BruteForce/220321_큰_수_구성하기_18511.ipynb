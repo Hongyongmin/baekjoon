{
  "nbformat": 4,
  "nbformat_minor": 0,
  "metadata": {
    "colab": {
      "name": "220321_큰_수_구성하기_18511",
      "provenance": [],
      "authorship_tag": "ABX9TyNmy6KZdYAxf3bkFdflV76J",
      "include_colab_link": true
    },
    "kernelspec": {
      "name": "python3",
      "display_name": "Python 3"
    },
    "language_info": {
      "name": "python"
    }
  },
  "cells": [
    {
      "cell_type": "markdown",
      "metadata": {
        "id": "view-in-github",
        "colab_type": "text"
      },
      "source": [
        "<a href=\"https://colab.research.google.com/github/Hongyongmin/baekjoon/blob/main/BruteForce/220321_%ED%81%B0_%EC%88%98_%EA%B5%AC%EC%84%B1%ED%95%98%EA%B8%B0_18511.ipynb\" target=\"_parent\"><img src=\"https://colab.research.google.com/assets/colab-badge.svg\" alt=\"Open In Colab\"/></a>"
      ]
    },
    {
      "cell_type": "code",
      "execution_count": 1,
      "metadata": {
        "colab": {
          "base_uri": "https://localhost:8080/"
        },
        "id": "isQJ3yEfXZHC",
        "outputId": "38c2ae0c-bda2-4921-a1fd-69884aca7bdd"
      },
      "outputs": [
        {
          "output_type": "stream",
          "name": "stdout",
          "text": [
            "657 3\n",
            "1 5 7\n",
            "577\n"
          ]
        }
      ],
      "source": [
        "from itertools import product\n",
        "\n",
        "N,K = map(int,input().split())\n",
        "arr = list(map(str,input().split()))\n",
        "length = len(str(N))\n",
        "\n",
        "while(True):\n",
        "    temp = list(product( arr, repeat=length))\n",
        "    answer = []\n",
        "\n",
        "    for i in temp :\n",
        "        if int(\"\".join(i)) <= N :\n",
        "            answer.append(int(\"\".join(i)))\n",
        "\n",
        "    if len(answer)>= 1:\n",
        "        print(max(answer))\n",
        "        break\n",
        "    else : \n",
        "        length -=1"
      ]
    },
    {
      "cell_type": "code",
      "source": [
        ""
      ],
      "metadata": {
        "id": "4MZ9pMGsXawX"
      },
      "execution_count": null,
      "outputs": []
    }
  ]
}