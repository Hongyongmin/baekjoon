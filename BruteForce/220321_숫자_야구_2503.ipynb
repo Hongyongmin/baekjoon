{
  "nbformat": 4,
  "nbformat_minor": 0,
  "metadata": {
    "colab": {
      "name": "220321_숫자_야구_2503",
      "provenance": [],
      "authorship_tag": "ABX9TyM48E8ICayjgVRKHQurN4Lq",
      "include_colab_link": true
    },
    "kernelspec": {
      "name": "python3",
      "display_name": "Python 3"
    },
    "language_info": {
      "name": "python"
    }
  },
  "cells": [
    {
      "cell_type": "markdown",
      "metadata": {
        "id": "view-in-github",
        "colab_type": "text"
      },
      "source": [
        "<a href=\"https://colab.research.google.com/github/Hongyongmin/baekjoon/blob/main/BruteForce/220321_%EC%88%AB%EC%9E%90_%EC%95%BC%EA%B5%AC_2503.ipynb\" target=\"_parent\"><img src=\"https://colab.research.google.com/assets/colab-badge.svg\" alt=\"Open In Colab\"/></a>"
      ]
    },
    {
      "cell_type": "code",
      "execution_count": 2,
      "metadata": {
        "colab": {
          "base_uri": "https://localhost:8080/"
        },
        "id": "U1RTK1nVXqZl",
        "outputId": "151b8bb6-9c06-488e-d1f7-b19fcee0eda1"
      },
      "outputs": [
        {
          "output_type": "stream",
          "name": "stdout",
          "text": [
            "4\n",
            "123 1 1\n",
            "356 1 0\n",
            "327 2 0\n",
            "489 0 1\n",
            "2\n"
          ]
        }
      ],
      "source": [
        "def check(one, two, three, s, b):\n",
        "    for i in range(100,1000):\n",
        "        ns, nb = 0, 0\n",
        "        if(res[i]):\n",
        "            n_one = int(i/100)\n",
        "            n_two = int((i%100)/10)\n",
        "            n_three = int((i%100)%10)\n",
        "            \n",
        "            if(one == n_one):\n",
        "                ns += 1\n",
        "            if(two == n_two):\n",
        "                ns += 1\n",
        "            if(three == n_three):\n",
        "                ns += 1\n",
        "            \n",
        "            if(one != n_one and (one == n_two or one == n_three)):\n",
        "                nb += 1\n",
        "            if(two != n_two and (two == n_one or two == n_three)):\n",
        "                nb += 1\n",
        "            if(three != n_three and (three == n_one or three == n_two)):\n",
        "                nb += 1\n",
        "            \n",
        "            if(ns != s or nb != b):\n",
        "                res[i] = False\n",
        "\n",
        "N = int(input())\n",
        "res = [True for i in range(1000)]\n",
        "\n",
        "for i in range(100,1000):\n",
        "    one = int(i/100)\n",
        "    two = int((i%100)/10)\n",
        "    three = int((i%100)%10)\n",
        "    if(one == two or two == three or three == one):\n",
        "        res[i] = False\n",
        "    if(one == 0 or two == 0 or three == 0):\n",
        "        res[i] = False\n",
        "\n",
        "for n in range(N):\n",
        "    num, s, b = map(int, input().split())        \n",
        "    num = str(num)\n",
        "    one, two, three = int(num[0]),int(num[1]),int(num[2])\n",
        "    check(one, two, three, s, b)\n",
        "\n",
        "cnt = 0\n",
        "for i in range(100,1000):\n",
        "    if(res[i]):\n",
        "        cnt += 1\n",
        "\n",
        "print(cnt)"
      ]
    },
    {
      "cell_type": "code",
      "source": [
        ""
      ],
      "metadata": {
        "id": "YibXEhedX1-X"
      },
      "execution_count": null,
      "outputs": []
    }
  ]
}