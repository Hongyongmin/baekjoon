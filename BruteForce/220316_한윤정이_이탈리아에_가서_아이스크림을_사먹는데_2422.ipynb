{
  "nbformat": 4,
  "nbformat_minor": 0,
  "metadata": {
    "colab": {
      "name": "220316_한윤정이_이탈리아에_가서_아이스크림을_사먹는데_2422",
      "provenance": [],
      "authorship_tag": "ABX9TyPSbVNpjbWPkDdhykMxZIxi",
      "include_colab_link": true
    },
    "kernelspec": {
      "name": "python3",
      "display_name": "Python 3"
    },
    "language_info": {
      "name": "python"
    }
  },
  "cells": [
    {
      "cell_type": "markdown",
      "metadata": {
        "id": "view-in-github",
        "colab_type": "text"
      },
      "source": [
        "<a href=\"https://colab.research.google.com/github/Hongyongmin/baekjoon/blob/main/BruteForce/220316_%ED%95%9C%EC%9C%A4%EC%A0%95%EC%9D%B4_%EC%9D%B4%ED%83%88%EB%A6%AC%EC%95%84%EC%97%90_%EA%B0%80%EC%84%9C_%EC%95%84%EC%9D%B4%EC%8A%A4%ED%81%AC%EB%A6%BC%EC%9D%84_%EC%82%AC%EB%A8%B9%EB%8A%94%EB%8D%B0_2422.ipynb\" target=\"_parent\"><img src=\"https://colab.research.google.com/assets/colab-badge.svg\" alt=\"Open In Colab\"/></a>"
      ]
    },
    {
      "cell_type": "code",
      "execution_count": 1,
      "metadata": {
        "colab": {
          "base_uri": "https://localhost:8080/"
        },
        "id": "nHKOKLucZlHK",
        "outputId": "c7dcdd53-d927-453c-a961-f889b2987786"
      },
      "outputs": [
        {
          "output_type": "stream",
          "name": "stdout",
          "text": [
            "5 3\n",
            "1 2\n",
            "3 4\n",
            "1 3\n",
            "3\n"
          ]
        }
      ],
      "source": [
        "n, m = map(int, input().split())\n",
        "ice = [[False for _ in range(n)] for _ in range(n)]\n",
        "for i in range(m):\n",
        "    i1, i2 = map(int, input().split())\n",
        "    ice[i1 - 1][i2 - 1] = True\n",
        "    ice[i2 - 1][i1 - 1] = True\n",
        "\n",
        "result = 0\n",
        "\n",
        "for i in range(n):\n",
        "    for j in range(i + 1, n):\n",
        "        for k in range(j + 1, n):\n",
        "            if not ice[i][j] and not ice[i][k] and not ice[j][k]:\n",
        "                result += 1\n",
        "\n",
        "print(result)"
      ]
    },
    {
      "cell_type": "code",
      "source": [
        ""
      ],
      "metadata": {
        "id": "Czj492z_Zl1M"
      },
      "execution_count": null,
      "outputs": []
    }
  ]
}