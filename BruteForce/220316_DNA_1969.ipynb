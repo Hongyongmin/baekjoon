{
  "nbformat": 4,
  "nbformat_minor": 0,
  "metadata": {
    "colab": {
      "name": "220316_DNA_1969",
      "provenance": [],
      "authorship_tag": "ABX9TyOFQfeP0C0CHZP5i9xKdOWc",
      "include_colab_link": true
    },
    "kernelspec": {
      "name": "python3",
      "display_name": "Python 3"
    },
    "language_info": {
      "name": "python"
    }
  },
  "cells": [
    {
      "cell_type": "markdown",
      "metadata": {
        "id": "view-in-github",
        "colab_type": "text"
      },
      "source": [
        "<a href=\"https://colab.research.google.com/github/Hongyongmin/baekjoon/blob/main/BruteForce/220316_DNA_1969.ipynb\" target=\"_parent\"><img src=\"https://colab.research.google.com/assets/colab-badge.svg\" alt=\"Open In Colab\"/></a>"
      ]
    },
    {
      "cell_type": "code",
      "execution_count": 1,
      "metadata": {
        "colab": {
          "base_uri": "https://localhost:8080/"
        },
        "id": "u8B80LX_ZQX2",
        "outputId": "c073f1f0-c537-4892-eda8-88982fa6c987"
      },
      "outputs": [
        {
          "output_type": "stream",
          "name": "stdout",
          "text": [
            "5 8\n",
            "TATGATAC\n",
            "TAAGCTAC\n",
            "AAAGATCC\n",
            "TGAGATAC\n",
            "TAAGATGT\n",
            "TAAGATAC\n",
            "7\n"
          ]
        }
      ],
      "source": [
        "n,m = map(int,input().split())\n",
        "\n",
        "dnalist = [str(input().replace('\\n','')) for i in range(n)]\n",
        "dnadic = dict()\n",
        "hamdistance = 0\n",
        "for i in range(m):\n",
        "    for j in range(n):\n",
        "        if dnalist[j][i] not in dnadic:\n",
        "            dnadic[dnalist[j][i]] = 1\n",
        "        else:\n",
        "            dnadic[dnalist[j][i]] +=1\n",
        "    print(sorted(dnadic.items(),key=lambda x : (-x[1], x[0]))[0][0],end='')\n",
        "    hamdistance += n-max(dnadic.values())\n",
        "    dnadic.clear()\n",
        "print()\n",
        "print(hamdistance)"
      ]
    },
    {
      "cell_type": "code",
      "source": [
        ""
      ],
      "metadata": {
        "id": "SH40elJUZRdD"
      },
      "execution_count": null,
      "outputs": []
    }
  ]
}