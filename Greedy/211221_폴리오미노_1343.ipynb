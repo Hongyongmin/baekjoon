{
  "nbformat": 4,
  "nbformat_minor": 0,
  "metadata": {
    "colab": {
      "name": "211221_폴리오미노_1343",
      "provenance": [],
      "authorship_tag": "ABX9TyOnfOc1cHEhzfP/HMLdvcDv",
      "include_colab_link": true
    },
    "kernelspec": {
      "name": "python3",
      "display_name": "Python 3"
    },
    "language_info": {
      "name": "python"
    }
  },
  "cells": [
    {
      "cell_type": "markdown",
      "metadata": {
        "id": "view-in-github",
        "colab_type": "text"
      },
      "source": [
        "<a href=\"https://colab.research.google.com/github/Hongyongmin/baekjoon/blob/main/Greedy/211221_%ED%8F%B4%EB%A6%AC%EC%98%A4%EB%AF%B8%EB%85%B8_1343.ipynb\" target=\"_parent\"><img src=\"https://colab.research.google.com/assets/colab-badge.svg\" alt=\"Open In Colab\"/></a>"
      ]
    },
    {
      "cell_type": "code",
      "execution_count": 1,
      "metadata": {
        "colab": {
          "base_uri": "https://localhost:8080/"
        },
        "id": "S8WE5dgtY6tI",
        "outputId": "4ff00340-4eaf-42d4-98e7-829fb100fb1b"
      },
      "outputs": [
        {
          "output_type": "stream",
          "name": "stdout",
          "text": [
            "XX.XX\n",
            "BB.BB\n"
          ]
        }
      ],
      "source": [
        "N = input().split('.')\n",
        "\n",
        "def polyomino(N):\n",
        "    ans = '' ##정답으로 쓸 문자열 정의\n",
        "\n",
        "    for i in N:\n",
        "        if len(i)%2 != 0: ## .으로 나눴을때 특정 X가 홀수 개 있으면 불가능\n",
        "            print(-1)\n",
        "        else:\n",
        "            tmp = len(i) ## .으로 나눈 각 부분의 길이\n",
        "            while True:\n",
        "                if tmp <2: # 그 길이가 2보다 작아지면 while문 탈출\n",
        "                    break\n",
        "                elif tmp >= 4: # 4보다 크면 AAAA 출력후 길이 4개 삭제\n",
        "                    ans += 'AAAA'\n",
        "                    tmp -= 4\n",
        "                else:\n",
        "                    ans += 'BB' ## BB 출력 후 길이 2개 삭제\n",
        "                    tmp -= 2\n",
        "        ans += '.' # # .으로 나눳으니까 다시 붙히기\n",
        "    return ans[:-1] # 마지막에 . 있으니까 이거 빼고 리턴\n",
        "\n",
        "print(polyomino(N))"
      ]
    },
    {
      "cell_type": "code",
      "source": [
        ""
      ],
      "metadata": {
        "id": "d4vCV7JkY9mP"
      },
      "execution_count": null,
      "outputs": []
    }
  ]
}