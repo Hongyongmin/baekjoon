{
  "nbformat": 4,
  "nbformat_minor": 0,
  "metadata": {
    "colab": {
      "name": "211220_거스름돈_14916",
      "provenance": [],
      "authorship_tag": "ABX9TyPRQadnr90zt8DSMar22I6W",
      "include_colab_link": true
    },
    "kernelspec": {
      "name": "python3",
      "display_name": "Python 3"
    },
    "language_info": {
      "name": "python"
    }
  },
  "cells": [
    {
      "cell_type": "markdown",
      "metadata": {
        "id": "view-in-github",
        "colab_type": "text"
      },
      "source": [
        "<a href=\"https://colab.research.google.com/github/Hongyongmin/baekjoon/blob/main/Greedy/211220_%EA%B1%B0%EC%8A%A4%EB%A6%84%EB%8F%88_14916.ipynb\" target=\"_parent\"><img src=\"https://colab.research.google.com/assets/colab-badge.svg\" alt=\"Open In Colab\"/></a>"
      ]
    },
    {
      "cell_type": "code",
      "execution_count": 1,
      "metadata": {
        "colab": {
          "base_uri": "https://localhost:8080/"
        },
        "id": "jKRNajKvb2g7",
        "outputId": "3681d474-ecf2-46bc-bff5-0152434026b9"
      },
      "outputs": [
        {
          "output_type": "stream",
          "name": "stdout",
          "text": [
            "13\n",
            "5\n"
          ]
        }
      ],
      "source": [
        "N = int(input())\n",
        "cnt = 0\n",
        "\n",
        "if N < 5:\n",
        "    if N % 2 != 0:\n",
        "        ans = -1 # 5보다 작을때 2로 안나누어 떨어지면 불가능\n",
        "    else:\n",
        "        ans = N // 2 # 5보다 작을때 2로 나눠지면 답 은 N 나누기 2\n",
        "else:\n",
        "    ct, N = divmod(N, 5) # ct는 몫, N은 나머지\n",
        "    if N == 0: # 5로 나눈 나머지가 없다면, == 5의 배수라면\n",
        "        ans = ct # 몫이 답이됨\n",
        "    else: # 5로 나누어 떨어지지 않는다면\n",
        "        if N % 2 == 0: # 그상태에서 나머지가 2의 배수라면\n",
        "            ct += N // 2 # 몫에 나머지/2의 몫을 더하고\n",
        "            ans = ct # 이게 답이 됨\n",
        "        else: # 나머지가 2의 배수가 아니라면\n",
        "            ct += (N + 5) // 2 - 1 # 5원짜리 하나를 더한다음에 2원짜리로 거스름돈 계산 ( 5원짜리 하나 빠져서 1빼줌)\n",
        "            ans = ct\n",
        "print(ans)"
      ]
    },
    {
      "cell_type": "code",
      "source": [
        ""
      ],
      "metadata": {
        "id": "0v18zTnEb331"
      },
      "execution_count": null,
      "outputs": []
    }
  ]
}