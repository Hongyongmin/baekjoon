{
  "nbformat": 4,
  "nbformat_minor": 0,
  "metadata": {
    "colab": {
      "name": "211227_2+1세일_11508",
      "provenance": [],
      "authorship_tag": "ABX9TyM1TLIVXbFwMfrCGWa3dGii",
      "include_colab_link": true
    },
    "kernelspec": {
      "name": "python3",
      "display_name": "Python 3"
    },
    "language_info": {
      "name": "python"
    }
  },
  "cells": [
    {
      "cell_type": "markdown",
      "metadata": {
        "id": "view-in-github",
        "colab_type": "text"
      },
      "source": [
        "<a href=\"https://colab.research.google.com/github/Hongyongmin/baekjoon/blob/main/Greedy/211227_2%2B1%EC%84%B8%EC%9D%BC_11508.ipynb\" target=\"_parent\"><img src=\"https://colab.research.google.com/assets/colab-badge.svg\" alt=\"Open In Colab\"/></a>"
      ]
    },
    {
      "cell_type": "code",
      "execution_count": 1,
      "metadata": {
        "colab": {
          "base_uri": "https://localhost:8080/"
        },
        "id": "_e-yQz_zZXNz",
        "outputId": "62f56e63-b821-4e79-a625-397fe202954a"
      },
      "outputs": [
        {
          "output_type": "stream",
          "name": "stdout",
          "text": [
            "4\n",
            "3\n",
            "2\n",
            "3\n",
            "2\n",
            "8\n"
          ]
        }
      ],
      "source": [
        "N = int(input())\n",
        "array = []\n",
        "for i in range(N):\n",
        "    array.append(int(input()))\n",
        "    \n",
        "array.sort()\n",
        "array.reverse()\n",
        "ct = 1\n",
        "ans = 0\n",
        "for i in range(N):\n",
        "    if ct % 3 == 0:\n",
        "        ct = 1\n",
        "        continue\n",
        "    \n",
        "    ans += array[i]\n",
        "    ct += 1\n",
        "    \n",
        "print(ans)"
      ]
    },
    {
      "cell_type": "code",
      "source": [
        ""
      ],
      "metadata": {
        "id": "fWGafNz_ZYUm"
      },
      "execution_count": null,
      "outputs": []
    }
  ]
}