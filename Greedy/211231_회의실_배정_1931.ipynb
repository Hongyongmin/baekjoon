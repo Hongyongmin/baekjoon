{
  "nbformat": 4,
  "nbformat_minor": 0,
  "metadata": {
    "colab": {
      "name": "211231_회의실_배정_1931",
      "provenance": [],
      "authorship_tag": "ABX9TyMp2gFdLWXTAakhnq3/C+fH",
      "include_colab_link": true
    },
    "kernelspec": {
      "name": "python3",
      "display_name": "Python 3"
    },
    "language_info": {
      "name": "python"
    }
  },
  "cells": [
    {
      "cell_type": "markdown",
      "metadata": {
        "id": "view-in-github",
        "colab_type": "text"
      },
      "source": [
        "<a href=\"https://colab.research.google.com/github/Hongyongmin/baekjoon/blob/main/Greedy/211231_%ED%9A%8C%EC%9D%98%EC%8B%A4_%EB%B0%B0%EC%A0%95_1931.ipynb\" target=\"_parent\"><img src=\"https://colab.research.google.com/assets/colab-badge.svg\" alt=\"Open In Colab\"/></a>"
      ]
    },
    {
      "cell_type": "code",
      "execution_count": 1,
      "metadata": {
        "colab": {
          "base_uri": "https://localhost:8080/"
        },
        "id": "YMI3HRbIpL1m",
        "outputId": "4b825cf6-1cdd-4627-b240-404cb2b3c796"
      },
      "outputs": [
        {
          "output_type": "stream",
          "name": "stdout",
          "text": [
            "11\n",
            "1 4\n",
            "3 5\n",
            "0 6\n",
            "5 7\n",
            "3 8\n",
            "5 9\n",
            "6 10\n",
            "8 11\n",
            "8 12\n",
            "2 13\n",
            "12 14\n",
            "4\n"
          ]
        }
      ],
      "source": [
        "N = int(input())\n",
        "arr = []\n",
        "total = 1\n",
        "\n",
        "for i in range(N):\n",
        "    a,b = map(int, input().split())\n",
        "    arr.append((a,b))\n",
        "\n",
        "arr.sort(key = lambda x : (x[1],x[0]))\n",
        "end_time = arr[0][1]\n",
        "\n",
        "for i in range(1,N):\n",
        "    if arr[i][0] >= end_time:\n",
        "        end_time = arr[i][1]\n",
        "        total += 1\n",
        "\n",
        "print(total)"
      ]
    },
    {
      "cell_type": "code",
      "source": [
        ""
      ],
      "metadata": {
        "id": "qGI7vPxipOX9"
      },
      "execution_count": null,
      "outputs": []
    }
  ]
}