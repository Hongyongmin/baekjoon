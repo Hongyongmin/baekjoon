{
  "nbformat": 4,
  "nbformat_minor": 0,
  "metadata": {
    "colab": {
      "name": "211222_로프_2217",
      "provenance": [],
      "authorship_tag": "ABX9TyNtQ6KAP6a4rowRoAStltXY",
      "include_colab_link": true
    },
    "kernelspec": {
      "name": "python3",
      "display_name": "Python 3"
    },
    "language_info": {
      "name": "python"
    }
  },
  "cells": [
    {
      "cell_type": "markdown",
      "metadata": {
        "id": "view-in-github",
        "colab_type": "text"
      },
      "source": [
        "<a href=\"https://colab.research.google.com/github/Hongyongmin/baekjoon/blob/main/Greedy/211222_%EB%A1%9C%ED%94%84_2217.ipynb\" target=\"_parent\"><img src=\"https://colab.research.google.com/assets/colab-badge.svg\" alt=\"Open In Colab\"/></a>"
      ]
    },
    {
      "cell_type": "code",
      "execution_count": 1,
      "metadata": {
        "colab": {
          "base_uri": "https://localhost:8080/"
        },
        "id": "Dqh6yPlYuWjH",
        "outputId": "2816a842-76f3-4b6a-950d-c9c013661c0f"
      },
      "outputs": [
        {
          "output_type": "stream",
          "name": "stdout",
          "text": [
            "2\n",
            "10\n",
            "15\n",
            "20\n"
          ]
        }
      ],
      "source": [
        "N = int(input())\n",
        "rope = []\n",
        "for i in range(N):\n",
        "    tmp = int(input())\n",
        "    rope.append(tmp)\n",
        "\n",
        "rope.sort()\n",
        "rope.reverse()\n",
        "\n",
        "result = [rope[i]*(i+1) for i in range(N)]\n",
        "\n",
        "print(max(result))"
      ]
    },
    {
      "cell_type": "code",
      "source": [
        ""
      ],
      "metadata": {
        "id": "y7Po6VtQuXWv"
      },
      "execution_count": null,
      "outputs": []
    }
  ]
}