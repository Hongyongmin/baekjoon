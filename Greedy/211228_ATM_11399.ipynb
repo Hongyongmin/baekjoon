{
  "nbformat": 4,
  "nbformat_minor": 0,
  "metadata": {
    "colab": {
      "name": "211228_ATM_11399",
      "provenance": [],
      "authorship_tag": "ABX9TyOmtXj9rTdsIW34vzT4/x11",
      "include_colab_link": true
    },
    "kernelspec": {
      "name": "python3",
      "display_name": "Python 3"
    },
    "language_info": {
      "name": "python"
    }
  },
  "cells": [
    {
      "cell_type": "markdown",
      "metadata": {
        "id": "view-in-github",
        "colab_type": "text"
      },
      "source": [
        "<a href=\"https://colab.research.google.com/github/Hongyongmin/baekjoon/blob/main/Greedy/211228_ATM_11399.ipynb\" target=\"_parent\"><img src=\"https://colab.research.google.com/assets/colab-badge.svg\" alt=\"Open In Colab\"/></a>"
      ]
    },
    {
      "cell_type": "code",
      "execution_count": 1,
      "metadata": {
        "colab": {
          "base_uri": "https://localhost:8080/"
        },
        "id": "vWtJ5KlRdxzZ",
        "outputId": "60e9aba9-48e8-490f-951e-16fe9f917eeb"
      },
      "outputs": [
        {
          "output_type": "stream",
          "name": "stdout",
          "text": [
            "5\n",
            "3 1 4 3 2\n",
            "32\n"
          ]
        }
      ],
      "source": [
        "N = int(input())\n",
        "arr = list(map(int, input().split()))\n",
        "arr.sort()\n",
        "ans = 0\n",
        "for i in range(len(arr)):\n",
        "    tmp = arr[i] * (N-i)\n",
        "    ans += tmp\n",
        "print(ans)"
      ]
    },
    {
      "cell_type": "code",
      "source": [
        ""
      ],
      "metadata": {
        "id": "_quJ9mr1d0zS"
      },
      "execution_count": null,
      "outputs": []
    }
  ]
}