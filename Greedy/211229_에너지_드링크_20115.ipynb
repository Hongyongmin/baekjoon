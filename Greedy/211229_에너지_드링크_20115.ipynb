{
  "nbformat": 4,
  "nbformat_minor": 0,
  "metadata": {
    "colab": {
      "name": "211229_에너지_드링크_20115",
      "provenance": [],
      "authorship_tag": "ABX9TyMTSYBjrRkzlaHnGIs2s1Zi",
      "include_colab_link": true
    },
    "kernelspec": {
      "name": "python3",
      "display_name": "Python 3"
    },
    "language_info": {
      "name": "python"
    }
  },
  "cells": [
    {
      "cell_type": "markdown",
      "metadata": {
        "id": "view-in-github",
        "colab_type": "text"
      },
      "source": [
        "<a href=\"https://colab.research.google.com/github/Hongyongmin/baekjoon/blob/main/Greedy/211229_%EC%97%90%EB%84%88%EC%A7%80_%EB%93%9C%EB%A7%81%ED%81%AC_20115.ipynb\" target=\"_parent\"><img src=\"https://colab.research.google.com/assets/colab-badge.svg\" alt=\"Open In Colab\"/></a>"
      ]
    },
    {
      "cell_type": "code",
      "execution_count": 1,
      "metadata": {
        "colab": {
          "base_uri": "https://localhost:8080/"
        },
        "id": "SVjwlk9dlsos",
        "outputId": "72b35c33-9eb9-4416-af43-fd50f810ded5"
      },
      "outputs": [
        {
          "output_type": "stream",
          "name": "stdout",
          "text": [
            "10\n",
            "100 9 77 65 39 27 45 1 80 495\n",
            "716.5\n"
          ]
        }
      ],
      "source": [
        "N = int(input())\n",
        "arr = list(map(int, input().split()))\n",
        "arr.sort()\n",
        "\n",
        "for i in range(len(arr)-1):\n",
        "    arr[-1] += arr[i] / 2\n",
        "print(arr[-1])"
      ]
    },
    {
      "cell_type": "code",
      "source": [
        ""
      ],
      "metadata": {
        "id": "Ge3ILaNtlxVr"
      },
      "execution_count": null,
      "outputs": []
    }
  ]
}