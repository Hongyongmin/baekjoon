{
  "nbformat": 4,
  "nbformat_minor": 0,
  "metadata": {
    "colab": {
      "name": "211224_알바생_강호_1758",
      "provenance": [],
      "authorship_tag": "ABX9TyN5rd8kpD6PU475DVr9UyNQ",
      "include_colab_link": true
    },
    "kernelspec": {
      "name": "python3",
      "display_name": "Python 3"
    },
    "language_info": {
      "name": "python"
    }
  },
  "cells": [
    {
      "cell_type": "markdown",
      "metadata": {
        "id": "view-in-github",
        "colab_type": "text"
      },
      "source": [
        "<a href=\"https://colab.research.google.com/github/Hongyongmin/baekjoon/blob/main/Greedy/211224_%EC%95%8C%EB%B0%94%EC%83%9D_%EA%B0%95%ED%98%B8_1758.ipynb\" target=\"_parent\"><img src=\"https://colab.research.google.com/assets/colab-badge.svg\" alt=\"Open In Colab\"/></a>"
      ]
    },
    {
      "cell_type": "code",
      "execution_count": 1,
      "metadata": {
        "colab": {
          "base_uri": "https://localhost:8080/"
        },
        "id": "6KHI6IKmWgYE",
        "outputId": "d7c6cc61-3850-4b80-9357-0eff5fd13454"
      },
      "outputs": [
        {
          "output_type": "stream",
          "name": "stdout",
          "text": [
            "4\n",
            "3\n",
            "3\n",
            "3\n",
            "3\n",
            "6\n"
          ]
        }
      ],
      "source": [
        "N = int(input())\n",
        "\n",
        "guest = []\n",
        "for i in range(N):\n",
        "    guest.append(int(input()))\n",
        "    \n",
        "ans = 0\n",
        "guest.sort()\n",
        "guest.reverse()\n",
        "for i in range(len(guest)):\n",
        "    tip = guest[i] - i\n",
        "    if tip >0:\n",
        "        ans += tip\n",
        "        \n",
        "print(ans)"
      ]
    },
    {
      "cell_type": "code",
      "source": [
        ""
      ],
      "metadata": {
        "id": "1cBYWDOPWhNU"
      },
      "execution_count": null,
      "outputs": []
    }
  ]
}