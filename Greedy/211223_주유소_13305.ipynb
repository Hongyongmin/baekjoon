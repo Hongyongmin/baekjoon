{
  "nbformat": 4,
  "nbformat_minor": 0,
  "metadata": {
    "colab": {
      "name": "211223_주유소_13305",
      "provenance": [],
      "authorship_tag": "ABX9TyPXYEfvGldXWA1cj69M0lJs",
      "include_colab_link": true
    },
    "kernelspec": {
      "name": "python3",
      "display_name": "Python 3"
    },
    "language_info": {
      "name": "python"
    }
  },
  "cells": [
    {
      "cell_type": "markdown",
      "metadata": {
        "id": "view-in-github",
        "colab_type": "text"
      },
      "source": [
        "<a href=\"https://colab.research.google.com/github/Hongyongmin/baekjoon/blob/main/Greedy/211223_%EC%A3%BC%EC%9C%A0%EC%86%8C_13305.ipynb\" target=\"_parent\"><img src=\"https://colab.research.google.com/assets/colab-badge.svg\" alt=\"Open In Colab\"/></a>"
      ]
    },
    {
      "cell_type": "code",
      "execution_count": 1,
      "metadata": {
        "colab": {
          "base_uri": "https://localhost:8080/"
        },
        "id": "BhqYdgxvskCO",
        "outputId": "62d2a7af-3cc4-446c-d6c9-2f2f3e79e17f"
      },
      "outputs": [
        {
          "output_type": "stream",
          "name": "stdout",
          "text": [
            "4\n",
            "3 3 4\n",
            "1 1 1 1\n",
            "10\n"
          ]
        }
      ],
      "source": [
        "N = int(input())\n",
        "city = list(map(int, input().split()))\n",
        "price = list(map(int, input().split()))\n",
        "ans = city[0] * price[0]\n",
        "m = price[0]\n",
        "dist = 0\n",
        "for i in range(1, N-1):\n",
        "    if price[i] < m:\n",
        "        ans += m*dist\n",
        "        dist = city[i]\n",
        "        m = price[i]\n",
        "    else:\n",
        "        dist += city[i]\n",
        "        \n",
        "    if i == N-2:\n",
        "        ans += m*dist\n",
        "print(ans)"
      ]
    },
    {
      "cell_type": "code",
      "source": [
        ""
      ],
      "metadata": {
        "id": "GS5B3icuslqe"
      },
      "execution_count": null,
      "outputs": []
    }
  ]
}