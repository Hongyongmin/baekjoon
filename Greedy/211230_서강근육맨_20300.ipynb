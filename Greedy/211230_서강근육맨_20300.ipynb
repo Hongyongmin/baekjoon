{
  "nbformat": 4,
  "nbformat_minor": 0,
  "metadata": {
    "colab": {
      "name": "211230_서강근육맨_20300",
      "provenance": [],
      "authorship_tag": "ABX9TyPDWvwTJEcNbWPlSpkssRBv",
      "include_colab_link": true
    },
    "kernelspec": {
      "name": "python3",
      "display_name": "Python 3"
    },
    "language_info": {
      "name": "python"
    }
  },
  "cells": [
    {
      "cell_type": "markdown",
      "metadata": {
        "id": "view-in-github",
        "colab_type": "text"
      },
      "source": [
        "<a href=\"https://colab.research.google.com/github/Hongyongmin/baekjoon/blob/main/Greedy/211230_%EC%84%9C%EA%B0%95%EA%B7%BC%EC%9C%A1%EB%A7%A8_20300.ipynb\" target=\"_parent\"><img src=\"https://colab.research.google.com/assets/colab-badge.svg\" alt=\"Open In Colab\"/></a>"
      ]
    },
    {
      "cell_type": "code",
      "execution_count": 1,
      "metadata": {
        "colab": {
          "base_uri": "https://localhost:8080/"
        },
        "id": "cEuEVCzrJVWQ",
        "outputId": "432c30eb-4282-4175-9335-4e8b4a5ff46b"
      },
      "outputs": [
        {
          "output_type": "stream",
          "name": "stdout",
          "text": [
            "5\n",
            "1 2 3 4 5\n",
            "5\n"
          ]
        }
      ],
      "source": [
        "N = int(input())\n",
        "arr = list(map(int, input().split()))\n",
        "M = 0\n",
        "arr.sort()\n",
        "\n",
        "if len(arr) % 2 == 0:\n",
        "    for i in range(N // 2):\n",
        "        M = max(M, arr[i] + arr[N - 1 - i])\n",
        "else:\n",
        "    for i in range(N // 2):\n",
        "        M = max(M, arr[i] + arr[N - 2 - i])\n",
        "    M = max(M, arr[-1])\n",
        "print(M)"
      ]
    },
    {
      "cell_type": "code",
      "source": [
        ""
      ],
      "metadata": {
        "id": "FHPQ0IgcJXPK"
      },
      "execution_count": null,
      "outputs": []
    }
  ]
}