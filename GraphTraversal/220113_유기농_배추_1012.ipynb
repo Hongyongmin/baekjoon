{
  "nbformat": 4,
  "nbformat_minor": 0,
  "metadata": {
    "colab": {
      "name": "220113_유기농_배추_1012",
      "provenance": [],
      "authorship_tag": "ABX9TyO9qzuDSROFsD9gmLl+St/P",
      "include_colab_link": true
    },
    "kernelspec": {
      "name": "python3",
      "display_name": "Python 3"
    },
    "language_info": {
      "name": "python"
    }
  },
  "cells": [
    {
      "cell_type": "markdown",
      "metadata": {
        "id": "view-in-github",
        "colab_type": "text"
      },
      "source": [
        "<a href=\"https://colab.research.google.com/github/Hongyongmin/baekjoon/blob/main/GraphTraversal/220113_%EC%9C%A0%EA%B8%B0%EB%86%8D_%EB%B0%B0%EC%B6%94_1012.ipynb\" target=\"_parent\"><img src=\"https://colab.research.google.com/assets/colab-badge.svg\" alt=\"Open In Colab\"/></a>"
      ]
    },
    {
      "cell_type": "code",
      "execution_count": 1,
      "metadata": {
        "colab": {
          "base_uri": "https://localhost:8080/"
        },
        "id": "bMluBEk3q_pf",
        "outputId": "3aef0a77-3bbd-4c60-dcb2-0742231340c3"
      },
      "outputs": [
        {
          "output_type": "stream",
          "name": "stdout",
          "text": [
            "2\n",
            "10 8 17\n",
            "0 0\n",
            "1 0\n",
            "1 1\n",
            "4 2\n",
            "4 3\n",
            "4 5\n",
            "2 4\n",
            "3 4\n",
            "7 4\n",
            "8 4\n",
            "9 4\n",
            "7 5\n",
            "8 5\n",
            "9 5\n",
            "7 6\n",
            "8 6\n",
            "9 6\n",
            "10 10 1\n",
            "5 5\n",
            "5\n",
            "1\n"
          ]
        }
      ],
      "source": [
        "def dfs(x: int, y: int):\n",
        "    # 배추가 아님\n",
        "    if x < 0 or x >= N or \\\n",
        "        y < 0 or y >= M :\n",
        "        return False\n",
        "    \n",
        "    # 배추임\n",
        "    if graph[x][y] == 1:\n",
        "        graph[x][y] = 0 # 방문\n",
        "\n",
        "        dfs(x, y + 1) # 상\n",
        "        dfs(x, y - 1) # 하\n",
        "        dfs(x - 1, y) # 좌\n",
        "        dfs(x + 1, y) # 우 \n",
        "\n",
        "\n",
        "        return True\n",
        "    \n",
        "    return False\n",
        "\n",
        "\n",
        "\n",
        "T = int(input())\n",
        "\n",
        "result = []\n",
        "\n",
        "for i in range(T) :\n",
        "    M, N, K =  map(int, input().split())\n",
        "    graph = [[0] * M for i in range(N)] # 0 으로 초기화\n",
        "\n",
        "    for _ in range(K):\n",
        "        y, x = map(int, input().split())\n",
        "        graph[x][y] = 1 # 배추 있는곳 1\n",
        "    \n",
        "    count = 0\n",
        "\n",
        "    for i in range(N):\n",
        "        for j in range(M):\n",
        "            if graph[i][j] == 1:\n",
        "                if dfs(i, j):\n",
        "                    count += 1\n",
        "\n",
        "    result.append(count)\n",
        "\n",
        "for n in result:\n",
        "    print(n)"
      ]
    },
    {
      "cell_type": "code",
      "source": [
        ""
      ],
      "metadata": {
        "id": "Y95Qt3lTrAOs"
      },
      "execution_count": null,
      "outputs": []
    }
  ]
}