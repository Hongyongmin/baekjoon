{
  "nbformat": 4,
  "nbformat_minor": 0,
  "metadata": {
    "colab": {
      "name": "210111_DFS와_BFS_1260",
      "provenance": [],
      "authorship_tag": "ABX9TyOcwn7431V0tyop6LV0eeiB",
      "include_colab_link": true
    },
    "kernelspec": {
      "name": "python3",
      "display_name": "Python 3"
    },
    "language_info": {
      "name": "python"
    }
  },
  "cells": [
    {
      "cell_type": "markdown",
      "metadata": {
        "id": "view-in-github",
        "colab_type": "text"
      },
      "source": [
        "<a href=\"https://colab.research.google.com/github/Hongyongmin/baekjoon/blob/main/GraphTraversal/210111_DFS%EC%99%80_BFS_1260.ipynb\" target=\"_parent\"><img src=\"https://colab.research.google.com/assets/colab-badge.svg\" alt=\"Open In Colab\"/></a>"
      ]
    },
    {
      "cell_type": "code",
      "execution_count": 1,
      "metadata": {
        "colab": {
          "base_uri": "https://localhost:8080/"
        },
        "id": "SVuRTQgrvina",
        "outputId": "9d1bd8a0-761f-408d-b868-df08face04b8"
      },
      "outputs": [
        {
          "output_type": "stream",
          "name": "stdout",
          "text": [
            "4 5 1\n",
            "1 2\n",
            "1 3\n",
            "1 4\n",
            "2 4\n",
            "3 4\n",
            "1 2 4 3\n",
            "1 2 3 4\n"
          ]
        }
      ],
      "source": [
        "from collections import deque\n",
        "\n",
        "#정점 개수 n, 간선 개수 m, 탐색을 시작할 정점 번호 v\n",
        "n, m, v = map(int,(input().rstrip().rsplit()))\n",
        "nodes = []\n",
        "graph = {}\n",
        "\n",
        "\n",
        "def dfs(graph, start_node):\n",
        "    visit = []\n",
        "    stack = []\n",
        "    \n",
        "    stack.append(start_node)\n",
        "    while stack:\n",
        "        #가장 뒤에 있는 요소 pop\n",
        "        node = stack.pop()\n",
        "        if node not in visit:\n",
        "            visit.append(node)\n",
        "            if node in graph:\n",
        "                temp = list(set(graph[node])-set(visit))\n",
        "                temp.sort(reverse=True)\n",
        "                stack += temp\n",
        "    return \" \".join(str(i) for i in visit)\n",
        "\n",
        "def bfs(graph, start_node):\n",
        "    visit = []\n",
        "    queue = deque()\n",
        "\n",
        "    queue.append(start_node)\n",
        "    while queue:\n",
        "        #가장 앞에 있는 요소 pop\n",
        "        node = queue.popleft()\n",
        "        if node not in visit:\n",
        "            visit.append(node)\n",
        "            if node in graph:\n",
        "                temp = list(set(graph[node])-set(visit))\n",
        "                temp.sort()\n",
        "                queue += temp\n",
        "    return \" \".join(str(i) for i in visit)\n",
        "\n",
        "for i in range(m):\n",
        "    x,y = map(int,input().rstrip().rsplit())\n",
        "    nodes.append([x,y])\n",
        "\n",
        "    if x not in graph:\n",
        "        graph[x]=[y]\n",
        "    else:\n",
        "        graph[x].append(y)\n",
        "\n",
        "    if y not in graph:\n",
        "        graph[y]=[x]\n",
        "    else:\n",
        "        graph[y].append(x)\n",
        "\n",
        "print(dfs(graph,v))\n",
        "print(bfs(graph,v))"
      ]
    },
    {
      "cell_type": "code",
      "source": [
        ""
      ],
      "metadata": {
        "id": "_DkdUoUEvjck"
      },
      "execution_count": null,
      "outputs": []
    }
  ]
}