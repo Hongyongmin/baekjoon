{
  "nbformat": 4,
  "nbformat_minor": 0,
  "metadata": {
    "colab": {
      "name": "220110_바이러스_2606",
      "provenance": [],
      "authorship_tag": "ABX9TyOXUE8ObfeGgz2xLDdGl+Nh",
      "include_colab_link": true
    },
    "kernelspec": {
      "name": "python3",
      "display_name": "Python 3"
    },
    "language_info": {
      "name": "python"
    }
  },
  "cells": [
    {
      "cell_type": "markdown",
      "metadata": {
        "id": "view-in-github",
        "colab_type": "text"
      },
      "source": [
        "<a href=\"https://colab.research.google.com/github/Hongyongmin/baekjoon/blob/main/GraphTraversal/220110_%EB%B0%94%EC%9D%B4%EB%9F%AC%EC%8A%A4_2606.ipynb\" target=\"_parent\"><img src=\"https://colab.research.google.com/assets/colab-badge.svg\" alt=\"Open In Colab\"/></a>"
      ]
    },
    {
      "cell_type": "code",
      "execution_count": 1,
      "metadata": {
        "colab": {
          "base_uri": "https://localhost:8080/"
        },
        "id": "4CHQARWclyyM",
        "outputId": "fab0ac8c-12f0-45c1-c554-e5e4ded7892e"
      },
      "outputs": [
        {
          "output_type": "stream",
          "name": "stdout",
          "text": [
            "7\n",
            "6\n",
            "1 2\n",
            "1 3\n",
            "1 5\n",
            "2 5\n",
            "5 6\n",
            "4 7\n",
            "4\n"
          ]
        }
      ],
      "source": [
        "from collections import deque\n",
        "\n",
        "\n",
        "v = int(input())\n",
        "e = int(input())\n",
        "edges = [[] for _ in range(v + 1)]\n",
        "for _ in range(e):\n",
        "    a, b = map(int, input().split())\n",
        "    edges[a].append(b)\n",
        "    edges[b].append(a)\n",
        "\n",
        "q = deque([1])\n",
        "visited = [False] * (v + 1)\n",
        "visited[1] = True\n",
        "\n",
        "while q:\n",
        "    now = q.popleft()\n",
        "\n",
        "    for e in edges[now]:\n",
        "        if not visited[e]:\n",
        "            q.append(e)\n",
        "            visited[e] = True\n",
        "\n",
        "print(visited[2:].count(True))"
      ]
    },
    {
      "cell_type": "code",
      "source": [
        ""
      ],
      "metadata": {
        "id": "mKOJZdjHl75E"
      },
      "execution_count": null,
      "outputs": []
    }
  ]
}