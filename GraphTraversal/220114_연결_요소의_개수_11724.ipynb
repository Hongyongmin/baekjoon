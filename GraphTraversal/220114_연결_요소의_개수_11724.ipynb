{
  "nbformat": 4,
  "nbformat_minor": 0,
  "metadata": {
    "colab": {
      "name": "220114_연결_요소의_개수_11724",
      "provenance": [],
      "authorship_tag": "ABX9TyP+WCdqqsnDcHAOKFf/7DH6",
      "include_colab_link": true
    },
    "kernelspec": {
      "name": "python3",
      "display_name": "Python 3"
    },
    "language_info": {
      "name": "python"
    }
  },
  "cells": [
    {
      "cell_type": "markdown",
      "metadata": {
        "id": "view-in-github",
        "colab_type": "text"
      },
      "source": [
        "<a href=\"https://colab.research.google.com/github/Hongyongmin/baekjoon/blob/main/GraphTraversal/220114_%EC%97%B0%EA%B2%B0_%EC%9A%94%EC%86%8C%EC%9D%98_%EA%B0%9C%EC%88%98_11724.ipynb\" target=\"_parent\"><img src=\"https://colab.research.google.com/assets/colab-badge.svg\" alt=\"Open In Colab\"/></a>"
      ]
    },
    {
      "cell_type": "code",
      "execution_count": 1,
      "metadata": {
        "colab": {
          "base_uri": "https://localhost:8080/"
        },
        "id": "v-qa5nQaOP9b",
        "outputId": "482ca9b2-5102-4aa5-8305-1db10067016f"
      },
      "outputs": [
        {
          "output_type": "stream",
          "name": "stdout",
          "text": [
            "6 5\n",
            "1 2\n",
            "2 5\n",
            "5 1\n",
            "3 4\n",
            "4 6\n",
            "2\n"
          ]
        }
      ],
      "source": [
        "n, m = map(int,input().rstrip().rsplit())\n",
        "graph, visited = {}, [0]*(n+1)\n",
        "cnt = 0\n",
        "\n",
        "for _ in range(m):\n",
        "    u,v = map(int,input().rstrip().rsplit())\n",
        "    if u not in graph:\n",
        "        graph[u] = [v]\n",
        "    else:\n",
        "        graph[u].append(v)\n",
        "\n",
        "    if v not in graph:\n",
        "        graph[v] = [u]\n",
        "    else:\n",
        "        graph[v].append(u)\n",
        "\n",
        "def dfs(u):\n",
        "    visited[u] = 1\n",
        "    if u in graph:\n",
        "        for v in graph[u]:\n",
        "            if visited[v] == 0:\n",
        "                dfs(v)\n",
        "\n",
        "    return 1\n",
        "\n",
        "for i in range(1,n+1):\n",
        "    if visited[i] == 0:\n",
        "        cnt += dfs(i)\n",
        "\n",
        "print(cnt)"
      ]
    },
    {
      "cell_type": "code",
      "source": [
        ""
      ],
      "metadata": {
        "id": "q8St0HAEOQ7H"
      },
      "execution_count": null,
      "outputs": []
    }
  ]
}