{
  "nbformat": 4,
  "nbformat_minor": 0,
  "metadata": {
    "colab": {
      "name": "220120_음유시인_영재_19948",
      "provenance": [],
      "authorship_tag": "ABX9TyPzngQtMtPUq2V4wRiOuv9l",
      "include_colab_link": true
    },
    "kernelspec": {
      "name": "python3",
      "display_name": "Python 3"
    },
    "language_info": {
      "name": "python"
    }
  },
  "cells": [
    {
      "cell_type": "markdown",
      "metadata": {
        "id": "view-in-github",
        "colab_type": "text"
      },
      "source": [
        "<a href=\"https://colab.research.google.com/github/Hongyongmin/baekjoon/blob/main/String/220120_%EC%9D%8C%EC%9C%A0%EC%8B%9C%EC%9D%B8_%EC%98%81%EC%9E%AC_19948.ipynb\" target=\"_parent\"><img src=\"https://colab.research.google.com/assets/colab-badge.svg\" alt=\"Open In Colab\"/></a>"
      ]
    },
    {
      "cell_type": "code",
      "execution_count": 1,
      "metadata": {
        "colab": {
          "base_uri": "https://localhost:8080/"
        },
        "id": "GS3uxOWiFsq_",
        "outputId": "4016ef01-63d8-46bc-957d-b1763b34b76e"
      },
      "outputs": [
        {
          "output_type": "stream",
          "name": "stdout",
          "text": [
            "There is no cow level\n",
            "5\n",
            "1 0 2 0 4 3 0 1 2 0 0 3 0 2 2 0 4 1 1 2 0 1 1 0 0 0\n",
            "TINCL\n"
          ]
        }
      ],
      "source": [
        "strings = input().split()\n",
        "space = int(input())\n",
        "counts = list(map(int, input().split()))\n",
        "\n",
        "if len(strings) -1 > space:\n",
        "    print(-1)\n",
        "else:\n",
        "    answer = True\n",
        "    title = ''\n",
        "    idx = 0\n",
        "    while answer and idx < len(strings):\n",
        "        string = strings[idx]\n",
        "        i = 0\n",
        "        while i < len(string):\n",
        "            if i >= 1 and string[i] == string[i-1]:\n",
        "                i+=1\n",
        "                continue\n",
        "            if counts[ord(string[i].lower())-97]:\n",
        "                counts[ord(string[i].lower())-97] -=1\n",
        "            else:\n",
        "                answer = False\n",
        "                break\n",
        "            i+=1\n",
        "        idx +=1\n",
        "        if answer:\n",
        "            title += string[0].upper()\n",
        "    if answer:\n",
        "        temp = title.lower()\n",
        "        i = 0\n",
        "        while i < len(temp):\n",
        "            if i>=1 and temp[i] == temp[i-1]:\n",
        "                i+=1\n",
        "                continue\n",
        "            if counts[ord(temp[i])-97]:\n",
        "                counts[ord(temp[i])-97] -=1\n",
        "            else:\n",
        "                answer = False\n",
        "                break\n",
        "            i+=1\n",
        "        if answer:\n",
        "            print(title)\n",
        "        else:\n",
        "            print(-1)\n",
        "    else:\n",
        "        print(-1)"
      ]
    },
    {
      "cell_type": "code",
      "source": [
        ""
      ],
      "metadata": {
        "id": "o9zEjpbhFtvU"
      },
      "execution_count": null,
      "outputs": []
    }
  ]
}