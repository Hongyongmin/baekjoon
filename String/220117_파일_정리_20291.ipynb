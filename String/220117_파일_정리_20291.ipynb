{
  "nbformat": 4,
  "nbformat_minor": 0,
  "metadata": {
    "colab": {
      "name": "220117_파일_정리_20291",
      "provenance": [],
      "authorship_tag": "ABX9TyMi415BlGXIuGTkbHA9MHiK",
      "include_colab_link": true
    },
    "kernelspec": {
      "name": "python3",
      "display_name": "Python 3"
    },
    "language_info": {
      "name": "python"
    }
  },
  "cells": [
    {
      "cell_type": "markdown",
      "metadata": {
        "id": "view-in-github",
        "colab_type": "text"
      },
      "source": [
        "<a href=\"https://colab.research.google.com/github/Hongyongmin/baekjoon/blob/main/String/220117_%ED%8C%8C%EC%9D%BC_%EC%A0%95%EB%A6%AC_20291.ipynb\" target=\"_parent\"><img src=\"https://colab.research.google.com/assets/colab-badge.svg\" alt=\"Open In Colab\"/></a>"
      ]
    },
    {
      "cell_type": "code",
      "execution_count": 1,
      "metadata": {
        "colab": {
          "base_uri": "https://localhost:8080/"
        },
        "id": "CDbtiBKWzmTe",
        "outputId": "cb6fec94-37e6-4ee1-f121-e4ad5fddf4f2"
      },
      "outputs": [
        {
          "output_type": "stream",
          "name": "stdout",
          "text": [
            "8\n",
            "sbrus.txt\n",
            "spc.spc\n",
            "acm.icpc\n",
            "korea.icpc\n",
            "sample.txt\n",
            "hello.world\n",
            "sogang.spc\n",
            "example.txt\n",
            "icpc 2\n",
            "spc 2\n",
            "txt 3\n",
            "world 1\n"
          ]
        }
      ],
      "source": [
        "from collections import defaultdict\n",
        "\n",
        "n = int(input())\n",
        "dic = defaultdict(int)\n",
        " \n",
        "for _ in range(n):\n",
        "    file = input().rstrip().split('.')[1]\n",
        "    dic[file] += 1\n",
        "\n",
        "for i in sorted(dic.items()):\n",
        "    print(' '.join(map(str, i)))"
      ]
    },
    {
      "cell_type": "code",
      "source": [
        ""
      ],
      "metadata": {
        "id": "G3V7JXkVznov"
      },
      "execution_count": null,
      "outputs": []
    }
  ]
}