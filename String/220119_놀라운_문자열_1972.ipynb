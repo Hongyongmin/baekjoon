{
  "nbformat": 4,
  "nbformat_minor": 0,
  "metadata": {
    "colab": {
      "name": "220119_놀라운_문자열_1972",
      "provenance": [],
      "authorship_tag": "ABX9TyO/Dpf2DxcPW8s+cDcJKbx2",
      "include_colab_link": true
    },
    "kernelspec": {
      "name": "python3",
      "display_name": "Python 3"
    },
    "language_info": {
      "name": "python"
    }
  },
  "cells": [
    {
      "cell_type": "markdown",
      "metadata": {
        "id": "view-in-github",
        "colab_type": "text"
      },
      "source": [
        "<a href=\"https://colab.research.google.com/github/Hongyongmin/baekjoon/blob/main/String/220119_%EB%86%80%EB%9D%BC%EC%9A%B4_%EB%AC%B8%EC%9E%90%EC%97%B4_1972.ipynb\" target=\"_parent\"><img src=\"https://colab.research.google.com/assets/colab-badge.svg\" alt=\"Open In Colab\"/></a>"
      ]
    },
    {
      "cell_type": "code",
      "execution_count": 1,
      "metadata": {
        "colab": {
          "base_uri": "https://localhost:8080/"
        },
        "id": "nl9Yt-0uKtna",
        "outputId": "56c81556-824f-4911-e283-c06e3847fd6e"
      },
      "outputs": [
        {
          "name": "stdout",
          "output_type": "stream",
          "text": [
            "ZGZG\n",
            "ZGZG is NOT surprising.\n",
            "X\n",
            "X is surprising.\n",
            "EE\n",
            "EE is surprising.\n",
            "AAB\n",
            "AAB is surprising.\n",
            "AABA\n",
            "AABA is surprising.\n",
            "BCBABCC\n",
            "BCBABCC is NOT surprising.\n",
            "*\n"
          ]
        }
      ],
      "source": [
        "while True:\n",
        "    s = input()\n",
        "    if s == ('*'):\n",
        "        break\n",
        "    for i in range(len(s)-1):X\n",
        "        check = []\n",
        "        state = False\n",
        "        for j in range(len(s)-1-i):\n",
        "            t = [s[j], s[j+1+i]]\n",
        "            if t in check:\n",
        "                state = True\n",
        "                print(\"{} is NOT surprising.\".format(s))\n",
        "                break\n",
        "            else:\n",
        "                check.append(t)\n",
        "        if state:\n",
        "            break\n",
        "    else:\n",
        "        print('{} is surprising.'.format(s))"
      ]
    },
    {
      "cell_type": "code",
      "source": [
        ""
      ],
      "metadata": {
        "id": "q4bQJa70KuX9"
      },
      "execution_count": null,
      "outputs": []
    }
  ]
}