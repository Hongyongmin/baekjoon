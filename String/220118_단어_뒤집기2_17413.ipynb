{
  "nbformat": 4,
  "nbformat_minor": 0,
  "metadata": {
    "colab": {
      "name": "220118_단어_뒤집기2_17413",
      "provenance": [],
      "authorship_tag": "ABX9TyN6dFZJ4E8EzYePAsaAbp4f",
      "include_colab_link": true
    },
    "kernelspec": {
      "name": "python3",
      "display_name": "Python 3"
    },
    "language_info": {
      "name": "python"
    }
  },
  "cells": [
    {
      "cell_type": "markdown",
      "metadata": {
        "id": "view-in-github",
        "colab_type": "text"
      },
      "source": [
        "<a href=\"https://colab.research.google.com/github/Hongyongmin/baekjoon/blob/main/String/220118_%EB%8B%A8%EC%96%B4_%EB%92%A4%EC%A7%91%EA%B8%B02_17413.ipynb\" target=\"_parent\"><img src=\"https://colab.research.google.com/assets/colab-badge.svg\" alt=\"Open In Colab\"/></a>"
      ]
    },
    {
      "cell_type": "code",
      "execution_count": 1,
      "metadata": {
        "colab": {
          "base_uri": "https://localhost:8080/"
        },
        "id": "rKpSY24GocPp",
        "outputId": "b27cc942-add2-4601-8b1d-c42c14e93f79"
      },
      "outputs": [
        {
          "output_type": "stream",
          "name": "stdout",
          "text": [
            "baekjoon online judge\n",
            "noojkeab enilno egduj\n"
          ]
        }
      ],
      "source": [
        "s=list(input().rstrip())\n",
        "ptr=0\n",
        "parse_word=''\n",
        "bracket_flag=False\n",
        "res=''\n",
        "while ptr<len(s):\n",
        "    if s[ptr]=='<':\n",
        "        parse_word+=s[ptr]\n",
        "        bracket_flag=True\n",
        "    elif s[ptr]=='>' and bracket_flag==True:\n",
        "        parse_word+=s[ptr]\n",
        "        res+=parse_word\n",
        "        parse_word=''\n",
        "        bracket_flag=False\n",
        "    elif bracket_flag==True:\n",
        "        parse_word+=s[ptr]\n",
        "    elif bracket_flag==False:\n",
        "        if s[ptr]==' ':\n",
        "            parse_word+=s[ptr]\n",
        "            res+=parse_word\n",
        "            parse_word=''\n",
        "        else:\n",
        "            parse_word=s[ptr]+parse_word\n",
        "         \n",
        "    ptr+=1\n",
        "    \n",
        "print(res+parse_word)"
      ]
    },
    {
      "cell_type": "code",
      "source": [
        ""
      ],
      "metadata": {
        "id": "Q6Wpxwtcof2x"
      },
      "execution_count": null,
      "outputs": []
    }
  ]
}