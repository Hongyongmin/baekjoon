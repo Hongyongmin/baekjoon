{
  "nbformat": 4,
  "nbformat_minor": 0,
  "metadata": {
    "colab": {
      "name": "220103_1로_만들기_1463",
      "provenance": [],
      "authorship_tag": "ABX9TyN84PwrFXaiJ7GHNrCpdxj+",
      "include_colab_link": true
    },
    "kernelspec": {
      "name": "python3",
      "display_name": "Python 3"
    },
    "language_info": {
      "name": "python"
    }
  },
  "cells": [
    {
      "cell_type": "markdown",
      "metadata": {
        "id": "view-in-github",
        "colab_type": "text"
      },
      "source": [
        "<a href=\"https://colab.research.google.com/github/Hongyongmin/baekjoon/blob/main/hongjisubabo/220103_1%EB%A1%9C_%EB%A7%8C%EB%93%A4%EA%B8%B0_1463.ipynb\" target=\"_parent\"><img src=\"https://colab.research.google.com/assets/colab-badge.svg\" alt=\"Open In Colab\"/></a>"
      ]
    },
    {
      "cell_type": "code",
      "execution_count": null,
      "metadata": {
        "colab": {
          "base_uri": "https://localhost:8080/"
        },
        "id": "1qOL-f1DXQk1",
        "outputId": "6c787693-95a6-42b1-8b00-fd6609279340"
      },
      "outputs": [
        {
          "output_type": "stream",
          "name": "stdout",
          "text": [
            "10\n",
            "3\n"
          ]
        }
      ],
      "source": [
        "n = int(input())\n",
        "\n",
        "dp = [0] * (n+1)\n",
        "\n",
        "for i in range(2, n+1):\n",
        "    dp[i] = dp[i-1] + 1\n",
        "    if i % 3 == 0:\n",
        "        dp[i] = min(dp[i], dp[i//3]+1)\n",
        "    if i % 2 == 0:\n",
        "        dp[i] = min(dp[i], dp[i//2]+1)\n",
        "ans = dp[n]\n",
        "print(ans)"
      ]
    },
    {
      "cell_type": "code",
      "source": [
        ""
      ],
      "metadata": {
        "id": "C5qZGqr5XSY_"
      },
      "execution_count": null,
      "outputs": []
    }
  ]
}