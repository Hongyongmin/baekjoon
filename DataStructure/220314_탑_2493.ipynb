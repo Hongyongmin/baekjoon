{
  "nbformat": 4,
  "nbformat_minor": 0,
  "metadata": {
    "colab": {
      "name": "220314_탑_2493",
      "provenance": [],
      "authorship_tag": "ABX9TyOHymQCT6Xm3vMHfkTwzyaE",
      "include_colab_link": true
    },
    "kernelspec": {
      "name": "python3",
      "display_name": "Python 3"
    },
    "language_info": {
      "name": "python"
    }
  },
  "cells": [
    {
      "cell_type": "markdown",
      "metadata": {
        "id": "view-in-github",
        "colab_type": "text"
      },
      "source": [
        "<a href=\"https://colab.research.google.com/github/Hongyongmin/baekjoon/blob/main/DataStructure/220314_%ED%83%91_2493.ipynb\" target=\"_parent\"><img src=\"https://colab.research.google.com/assets/colab-badge.svg\" alt=\"Open In Colab\"/></a>"
      ]
    },
    {
      "cell_type": "code",
      "execution_count": 1,
      "metadata": {
        "colab": {
          "base_uri": "https://localhost:8080/"
        },
        "id": "IZaRPvZ3KXjC",
        "outputId": "f3985905-111f-4247-ae6f-7600f2054383"
      },
      "outputs": [
        {
          "output_type": "stream",
          "name": "stdout",
          "text": [
            "5\n",
            "6 9 5 7 4\n",
            "0 0 2 2 4\n"
          ]
        }
      ],
      "source": [
        "N = int(input())  # 탑의 개수\n",
        "top_list = list(map(int, input().split()))  # 탑 리스트\n",
        "stack = []\n",
        "answer = []\n",
        "\n",
        "for i in range(N):\n",
        "    while stack:\n",
        "        if stack[-1][1] > top_list[i]:  # 수신 가능한 상황\n",
        "            answer.append(stack[-1][0] + 1)\n",
        "            break\n",
        "        else:\n",
        "            stack.pop()\n",
        "    if not stack:  # 스택이 비면 레이저를 수신할 탑이 없다.\n",
        "        answer.append(0)\n",
        "    stack.append([i, top_list[i]])  # 인덱스, 값\n",
        "\n",
        "print(\" \".join(map(str, answer)))\n"
      ]
    },
    {
      "cell_type": "code",
      "source": [
        ""
      ],
      "metadata": {
        "id": "zv8Bnal2KhJC"
      },
      "execution_count": null,
      "outputs": []
    }
  ]
}