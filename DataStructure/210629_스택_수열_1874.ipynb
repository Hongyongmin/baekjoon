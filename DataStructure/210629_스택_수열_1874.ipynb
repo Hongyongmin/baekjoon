{
  "nbformat": 4,
  "nbformat_minor": 0,
  "metadata": {
    "colab": {
      "name": "210629_스택_수열_1874",
      "provenance": [],
      "authorship_tag": "ABX9TyPoYxfoiEyiKG3WhZBxzgkQ",
      "include_colab_link": true
    },
    "kernelspec": {
      "name": "python3",
      "display_name": "Python 3"
    },
    "language_info": {
      "name": "python"
    }
  },
  "cells": [
    {
      "cell_type": "markdown",
      "metadata": {
        "id": "view-in-github",
        "colab_type": "text"
      },
      "source": [
        "<a href=\"https://colab.research.google.com/github/Hongyongmin/baekjoon/blob/main/DataStructure/210629_%EC%8A%A4%ED%83%9D_%EC%88%98%EC%97%B4_1874.ipynb\" target=\"_parent\"><img src=\"https://colab.research.google.com/assets/colab-badge.svg\" alt=\"Open In Colab\"/></a>"
      ]
    },
    {
      "cell_type": "markdown",
      "metadata": {
        "id": "0X14G_PujzNe"
      },
      "source": [
        "스택 (stack)은 기본적인 자료구조 중 하나로, 컴퓨터 프로그램을 작성할 때 자주 이용되는 개념이다. 스택은 자료를 넣는 (push) 입구와 자료를 뽑는 (pop) 입구가 같아 제일 나중에 들어간 자료가 제일 먼저 나오는 (LIFO, Last in First out) 특성을 가지고 있다.\n",
        "\n",
        "1부터 n까지의 수를 스택에 넣었다가 뽑아 늘어놓음으로써, 하나의 수열을 만들 수 있다. 이때, 스택에 push하는 순서는 반드시 오름차순을 지키도록 한다고 하자. 임의의 수열이 주어졌을 때 스택을 이용해 그 수열을 만들 수 있는지 없는지, 있다면 어떤 순서로 push와 pop 연산을 수행해야 하는지를 알아낼 수 있다. 이를 계산하는 프로그램을 작성하라."
      ]
    },
    {
      "cell_type": "code",
      "metadata": {
        "colab": {
          "base_uri": "https://localhost:8080/"
        },
        "id": "fzaAI-hxsyLf",
        "outputId": "ec8825f7-91dc-4aaa-8d0f-c1d98e8911ec"
      },
      "source": [
        "n = int(input())\n",
        "s = []\n",
        "op = []\n",
        "count = 1\n",
        "temp = True\n",
        "\n",
        "for i in range(n):\n",
        "    num = int(input())\n",
        "    while count <= num:\n",
        "        s.append(count)\n",
        "        op.append('+')\n",
        "        count += 1\n",
        "\n",
        "    if s[-1] == num:\n",
        "        s.pop()\n",
        "        op.append('-')\n",
        "\n",
        "    else:\n",
        "        temp = False\n",
        "\n",
        "if temp == False:\n",
        "    print('NO')\n",
        "\n",
        "else:\n",
        "    for i in op:\n",
        "        print(i)"
      ],
      "execution_count": 48,
      "outputs": [
        {
          "output_type": "stream",
          "text": [
            "8\n",
            "4\n",
            "3\n",
            "6\n",
            "5\n",
            "8\n",
            "7\n",
            "2\n",
            "1\n",
            "+\n",
            "+\n",
            "+\n",
            "+\n",
            "-\n",
            "-\n",
            "+\n",
            "+\n",
            "-\n",
            "-\n",
            "+\n",
            "+\n",
            "-\n",
            "-\n",
            "-\n",
            "-\n"
          ],
          "name": "stdout"
        }
      ]
    },
    {
      "cell_type": "code",
      "metadata": {
        "id": "F3xsA5LOs6YD"
      },
      "source": [
        ""
      ],
      "execution_count": null,
      "outputs": []
    }
  ]
}