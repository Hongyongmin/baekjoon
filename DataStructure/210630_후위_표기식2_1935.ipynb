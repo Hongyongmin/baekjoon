{
  "nbformat": 4,
  "nbformat_minor": 0,
  "metadata": {
    "colab": {
      "name": "210630_후위_표기식2_1935",
      "provenance": [],
      "authorship_tag": "ABX9TyO6/ruDaeBLnEP2xWxvK7Vr",
      "include_colab_link": true
    },
    "kernelspec": {
      "name": "python3",
      "display_name": "Python 3"
    },
    "language_info": {
      "name": "python"
    }
  },
  "cells": [
    {
      "cell_type": "markdown",
      "metadata": {
        "id": "view-in-github",
        "colab_type": "text"
      },
      "source": [
        "<a href=\"https://colab.research.google.com/github/Hongyongmin/baekjoon/blob/main/DataStructure/210630_%ED%9B%84%EC%9C%84_%ED%91%9C%EA%B8%B0%EC%8B%9D2_1935.ipynb\" target=\"_parent\"><img src=\"https://colab.research.google.com/assets/colab-badge.svg\" alt=\"Open In Colab\"/></a>"
      ]
    },
    {
      "cell_type": "markdown",
      "metadata": {
        "id": "betrnhKVv3Ok"
      },
      "source": [
        "후위 표기식과 각 피연산자에 대응하는 값들이 주어져 있을 때, 그 식을 계산하는 프로그램을 작성하시오.\n",
        "\n",
        "\n",
        "\n",
        "첫째 줄에 피연산자의 개수(1 ≤ N ≤ 26) 가 주어진다. 그리고 둘째 줄에는 후위 표기식이 주어진다. (여기서 피연산자는 A~Z의 영대문자이며, A부터 순서대로 N개의 영대문자만이 사용되며, 길이는 100을 넘지 않는다) 그리고 셋째 줄부터 N+2번째 줄까지는 각 피연산자에 대응하는 값이 주어진다. (3번째 줄에는 A에 해당하는 값, 4번째 줄에는 B에 해당하는값 , 5번째 줄에는 C ...이 주어진다, 그리고 피연산자에 대응 하는 값은 정수이다)"
      ]
    },
    {
      "cell_type": "code",
      "metadata": {
        "colab": {
          "base_uri": "https://localhost:8080/"
        },
        "id": "0zcGYyKrwlt7",
        "outputId": "d23b6860-1e44-4912-c6d6-630ab8124ce9"
      },
      "source": [
        "from collections import deque\n",
        "\n",
        "N = int(input())\n",
        "arr = input()\n",
        "oper = '+-*/'\n",
        "dic = {}\n",
        "stack = []\n",
        "num = deque()\n",
        "\n",
        "for i in range(N):\n",
        "    num.append(int(input()))\n",
        "\n",
        "for i in arr:\n",
        "    if i not in dic and i not in oper:\n",
        "        dic[i] = num.popleft()\n",
        "\n",
        "for i in arr:\n",
        "    if i not in oper:\n",
        "        stack.append(dic[i])\n",
        "    else:\n",
        "        if i == '+':\n",
        "            a = stack.pop()\n",
        "            b = stack.pop()\n",
        "            stack.append(b+a)\n",
        "        elif i == '-':\n",
        "            a = stack.pop()\n",
        "            b = stack.pop()\n",
        "            stack.append(b-a)\n",
        "        elif i == '*':\n",
        "            a = stack.pop()\n",
        "            b = stack.pop()\n",
        "            stack.append(b*a)\n",
        "        else:\n",
        "            a = stack.pop()\n",
        "            b = stack.pop()\n",
        "            stack.append(b/a)\n",
        "\n",
        "print(f\"{stack[0]:.2f}\")"
      ],
      "execution_count": 1,
      "outputs": [
        {
          "output_type": "stream",
          "text": [
            "5\n",
            "ABC*+DE/-\n",
            "1\n",
            "2\n",
            "3\n",
            "4\n",
            "5\n",
            "6.20\n"
          ],
          "name": "stdout"
        }
      ]
    },
    {
      "cell_type": "code",
      "metadata": {
        "id": "juWEK9AZxvg7"
      },
      "source": [
        ""
      ],
      "execution_count": null,
      "outputs": []
    }
  ]
}