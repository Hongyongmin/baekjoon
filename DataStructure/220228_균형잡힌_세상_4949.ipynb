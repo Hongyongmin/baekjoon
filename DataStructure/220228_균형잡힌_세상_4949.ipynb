{
  "nbformat": 4,
  "nbformat_minor": 0,
  "metadata": {
    "colab": {
      "name": "220228_균형잡힌_세상_4949",
      "provenance": [],
      "authorship_tag": "ABX9TyMcjzXKlM2pcM0lsRPTxjPU",
      "include_colab_link": true
    },
    "kernelspec": {
      "name": "python3",
      "display_name": "Python 3"
    },
    "language_info": {
      "name": "python"
    }
  },
  "cells": [
    {
      "cell_type": "markdown",
      "metadata": {
        "id": "view-in-github",
        "colab_type": "text"
      },
      "source": [
        "<a href=\"https://colab.research.google.com/github/Hongyongmin/baekjoon/blob/main/DataStructure/220228_%EA%B7%A0%ED%98%95%EC%9E%A1%ED%9E%8C_%EC%84%B8%EC%83%81_4949.ipynb\" target=\"_parent\"><img src=\"https://colab.research.google.com/assets/colab-badge.svg\" alt=\"Open In Colab\"/></a>"
      ]
    },
    {
      "cell_type": "code",
      "execution_count": 1,
      "metadata": {
        "colab": {
          "base_uri": "https://localhost:8080/"
        },
        "id": "eMMF1h-l6cvb",
        "outputId": "b06765ef-3509-4274-cb2a-b10dd93687d5"
      },
      "outputs": [
        {
          "name": "stdout",
          "output_type": "stream",
          "text": [
            "So when I die (the [first] I will see in (heaven) is a score list).\n",
            "yes\n",
            ".\n"
          ]
        }
      ],
      "source": [
        "while True:\n",
        "    s = input()\n",
        "    if s == '.':\n",
        "        break\n",
        "    stk = []\n",
        "    temp = True\n",
        "    for i in s:\n",
        "        if i == '(' or i == '[':\n",
        "            stk.append(i)\n",
        "        elif i == ')':\n",
        "            if not stk or stk[-1] == '[':\n",
        "                temp = False\n",
        "                break\n",
        "            elif stk[-1] == '(':\n",
        "                stk.pop()\n",
        "        elif i == ']':\n",
        "            if not stk or stk[-1] == '(':\n",
        "                temp = False\n",
        "                break\n",
        "            elif stk[-1] == '[':\n",
        "                stk.pop()\n",
        "    if temp == True and not stk:\n",
        "        print('yes')\n",
        "    else:\n",
        "        print('no')"
      ]
    },
    {
      "cell_type": "code",
      "source": [
        ""
      ],
      "metadata": {
        "id": "yIdHzv2j6fLa"
      },
      "execution_count": null,
      "outputs": []
    }
  ]
}