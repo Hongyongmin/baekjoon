{
  "nbformat": 4,
  "nbformat_minor": 0,
  "metadata": {
    "colab": {
      "name": "210702_프린터_큐_1966",
      "provenance": [],
      "authorship_tag": "ABX9TyNZ9c+kULzqTrHaUBmpE97J",
      "include_colab_link": true
    },
    "kernelspec": {
      "name": "python3",
      "display_name": "Python 3"
    },
    "language_info": {
      "name": "python"
    }
  },
  "cells": [
    {
      "cell_type": "markdown",
      "metadata": {
        "id": "view-in-github",
        "colab_type": "text"
      },
      "source": [
        "<a href=\"https://colab.research.google.com/github/Hongyongmin/baekjoon/blob/main/DataStructure/210702_%ED%94%84%EB%A6%B0%ED%84%B0_%ED%81%90_1966.ipynb\" target=\"_parent\"><img src=\"https://colab.research.google.com/assets/colab-badge.svg\" alt=\"Open In Colab\"/></a>"
      ]
    },
    {
      "cell_type": "markdown",
      "metadata": {
        "id": "Owza5zD45BDF"
      },
      "source": [
        "여러분도 알다시피 여러분의 프린터 기기는 여러분이 인쇄하고자 하는 문서를 인쇄 명령을 받은 ‘순서대로’, 즉 먼저 요청된 것을 먼저 인쇄한다. 여러 개의 문서가 쌓인다면 Queue 자료구조에 쌓여서 FIFO - First In First Out - 에 따라 인쇄가 되게 된다. 하지만 상근이는 새로운 프린터기 내부 소프트웨어를 개발하였는데, 이 프린터기는 다음과 같은 조건에 따라 인쇄를 하게 된다.\n",
        "\n",
        "현재 Queue의 가장 앞에 있는 문서의 ‘중요도’를 확인한다.\n",
        "나머지 문서들 중 현재 문서보다 중요도가 높은 문서가 하나라도 있다면, 이 문서를 인쇄하지 않고 Queue의 가장 뒤에 재배치 한다. 그렇지 않다면 바로 인쇄를 한다.\n",
        "예를 들어 Queue에 4개의 문서(A B C D)가 있고, 중요도가 2 1 4 3 라면 C를 인쇄하고, 다음으로 D를 인쇄하고 A, B를 인쇄하게 된다.\n",
        "\n",
        "여러분이 할 일은, 현재 Queue에 있는 문서의 수와 중요도가 주어졌을 때, 어떤 한 문서가 몇 번째로 인쇄되는지 알아내는 것이다. 예를 들어 위의 예에서 C문서는 1번째로, A문서는 3번째로 인쇄되게 된다."
      ]
    },
    {
      "cell_type": "code",
      "metadata": {
        "colab": {
          "base_uri": "https://localhost:8080/"
        },
        "id": "8CJwg9E06Hvz",
        "outputId": "6bafb0d2-ead4-4b99-da03-d33c1b06dd63"
      },
      "source": [
        "N = int(input(\"테스트 케이스의 개수를 입력하시오:\"))"
      ],
      "execution_count": 1,
      "outputs": [
        {
          "output_type": "stream",
          "text": [
            "테스트 케이스의 개수를 입력하시오:3\n"
          ],
          "name": "stdout"
        }
      ]
    },
    {
      "cell_type": "code",
      "metadata": {
        "colab": {
          "base_uri": "https://localhost:8080/"
        },
        "id": "xnBcup7i6kTq",
        "outputId": "b3bb84cc-022b-409d-fca4-d0f3b46601f1"
      },
      "source": [
        "for i in range(N):\n",
        "  N,M = map(int,input(\"문서의 수와 출력순서를 확인하려는 문서의 인덱스를 입력하시오:\").split())\n",
        "  order = [[i, int(j)] for i, j in enumerate(input(\"중요도를 입력하시오:\").split())]\n",
        "  cnt = 0\n",
        "\n",
        "  while True:\n",
        "    if order[0][1] == max(order, key = lambda x : x[1])[1]:\n",
        "      cnt += 1\n",
        "\n",
        "      if order[0][0] == M:\n",
        "        print(cnt)\n",
        "        break\n",
        "\n",
        "      else:\n",
        "        order.pop(0)\n",
        "\n",
        "    else:\n",
        "      order.append(order.pop(0))"
      ],
      "execution_count": 4,
      "outputs": [
        {
          "output_type": "stream",
          "text": [
            "문서의 수와 출력순서를 확인하려는 문서의 인덱스를 입력하시오:1 0\n",
            "중요도를 입력하시오:5\n",
            "1\n",
            "문서의 수와 출력순서를 확인하려는 문서의 인덱스를 입력하시오:4 2\n",
            "중요도를 입력하시오:1 2 3 4\n",
            "2\n",
            "문서의 수와 출력순서를 확인하려는 문서의 인덱스를 입력하시오:6 0\n",
            "중요도를 입력하시오:1 1 9 1 1 1\n",
            "5\n"
          ],
          "name": "stdout"
        }
      ]
    },
    {
      "cell_type": "code",
      "metadata": {
        "id": "tvCZVGJX73S0"
      },
      "source": [
        ""
      ],
      "execution_count": null,
      "outputs": []
    }
  ]
}