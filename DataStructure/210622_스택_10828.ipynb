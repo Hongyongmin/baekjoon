{
  "nbformat": 4,
  "nbformat_minor": 0,
  "metadata": {
    "colab": {
      "name": "210622_스택_10828",
      "provenance": [],
      "authorship_tag": "ABX9TyPr3V7OUfDozwWv+qDpAQha",
      "include_colab_link": true
    },
    "kernelspec": {
      "name": "python3",
      "display_name": "Python 3"
    },
    "language_info": {
      "name": "python"
    }
  },
  "cells": [
    {
      "cell_type": "markdown",
      "metadata": {
        "id": "view-in-github",
        "colab_type": "text"
      },
      "source": [
        "<a href=\"https://colab.research.google.com/github/Hongyongmin/baekjoon/blob/main/DataStructure/210622_%EC%8A%A4%ED%83%9D_10828.ipynb\" target=\"_parent\"><img src=\"https://colab.research.google.com/assets/colab-badge.svg\" alt=\"Open In Colab\"/></a>"
      ]
    },
    {
      "cell_type": "markdown",
      "metadata": {
        "id": "jzQZ72Qs99SJ"
      },
      "source": [
        "정수를 저장하는 스택을 구현한 다음, 입력으로 주어지는 명령을 처리하는 프로그램을 작성하시오.\n",
        "\n",
        "명령은 총 다섯 가지이다.\n",
        "\n",
        "push X: 정수 X를 스택에 넣는 연산이다.\n",
        "\n",
        "pop: 스택에서 가장 위에 있는 정수를 빼고, 그 수를 출력한다. 만약 스택에 들어있는 정수가 없는 경우에는 -1을 출력한다.\n",
        "\n",
        "size: 스택에 들어있는 정수의 개수를 출력한다.\n",
        "\n",
        "empty: 스택이 비어있으면 1, 아니면 0을 출력한다.\n",
        "\n",
        "top: 스택의 가장 위에 있는 정수를 출력한다. 만약 스택에 들어있는 정수가 없는 경우에는 -1을 출력한다."
      ]
    },
    {
      "cell_type": "code",
      "metadata": {
        "id": "fh7mgjCd9_cQ"
      },
      "source": [
        "import sys\n",
        "\n",
        "def input():\n",
        "  return sys.stdin.readline().rstrip()"
      ],
      "execution_count": 5,
      "outputs": []
    },
    {
      "cell_type": "code",
      "metadata": {
        "id": "I6uvd7a--fGX"
      },
      "source": [
        "N = 14\n",
        "\n",
        "for i in range(N):\n",
        "  cmd = input().split()\n",
        "  X = 0\n",
        "  if len(cmd) == 2:\n",
        "    X = cmd[1]\n",
        "    cmd = cmd[0]\n",
        "\n",
        "  if cmd == \"push\":\n",
        "    stack.append(X)\n",
        "  elif cmd == \"pop\":\n",
        "    if len(stack) == 0:\n",
        "      print(-1)\n",
        "    else:\n",
        "      print(stack[-1])\n",
        "      stack.pop(-1)\n",
        "  elif cmd == \"size\":\n",
        "    print(len(stack))\n",
        "  elif cmd == \"empty\":\n",
        "    print(0 if len(stack) else 1)\n",
        "  elif cmd == \"top\":\n",
        "    if len(stack) == 0:\n",
        "      print(-1)\n",
        "    else:\n",
        "      print(stack[-1])"
      ],
      "execution_count": 10,
      "outputs": []
    }
  ]
}