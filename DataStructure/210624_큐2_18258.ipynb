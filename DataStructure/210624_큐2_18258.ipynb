{
  "nbformat": 4,
  "nbformat_minor": 0,
  "metadata": {
    "colab": {
      "name": "210624_큐2_18258",
      "provenance": [],
      "authorship_tag": "ABX9TyOQeMqGU/8/+trtqycYlSb9",
      "include_colab_link": true
    },
    "kernelspec": {
      "name": "python3",
      "display_name": "Python 3"
    },
    "language_info": {
      "name": "python"
    }
  },
  "cells": [
    {
      "cell_type": "markdown",
      "metadata": {
        "id": "view-in-github",
        "colab_type": "text"
      },
      "source": [
        "<a href=\"https://colab.research.google.com/github/Hongyongmin/baekjoon/blob/main/DataStructure/210624_%ED%81%902_18258.ipynb\" target=\"_parent\"><img src=\"https://colab.research.google.com/assets/colab-badge.svg\" alt=\"Open In Colab\"/></a>"
      ]
    },
    {
      "cell_type": "markdown",
      "metadata": {
        "id": "R3MrX-paLmMs"
      },
      "source": [
        "정수를 저장하는 큐를 구현한 다음, 입력으로 주어지는 명령을 처리하는 프로그램을 작성하시오.\n",
        "\n",
        "명령은 총 여섯 가지이다.\n",
        "\n",
        "push X: 정수 X를 큐에 넣는 연산이다.\n",
        "pop: 큐에서 가장 앞에 있는 정수를 빼고, 그 수를 출력한다. 만약 큐에 들어있는 정수가 없는 경우에는 -1을 출력한다.\n",
        "size: 큐에 들어있는 정수의 개수를 출력한다.\n",
        "empty: 큐가 비어있으면 1, 아니면 0을 출력한다.\n",
        "front: 큐의 가장 앞에 있는 정수를 출력한다. 만약 큐에 들어있는 정수가 없는 경우에는 -1을 출력한다.\n",
        "back: 큐의 가장 뒤에 있는 정수를 출력한다. 만약 큐에 들어있는 정수가 없는 경우에는 -1을 출력한다."
      ]
    },
    {
      "cell_type": "code",
      "metadata": {
        "colab": {
          "base_uri": "https://localhost:8080/"
        },
        "id": "8j15TcCtLtID",
        "outputId": "00b0f5c1-6762-42aa-d650-23c76bacd56c"
      },
      "source": [
        "N = int(input(\"명령을 몇번 수행할 것인지 입력하시오\"))"
      ],
      "execution_count": 1,
      "outputs": [
        {
          "output_type": "stream",
          "text": [
            "명령을 몇번 수행할 것인지 입력하시오15\n"
          ],
          "name": "stdout"
        }
      ]
    },
    {
      "cell_type": "code",
      "metadata": {
        "colab": {
          "base_uri": "https://localhost:8080/"
        },
        "id": "4SCtOZccL2GP",
        "outputId": "e9aeb21e-afd1-46e6-96e6-ba03234071c0"
      },
      "source": [
        "from collections import deque\n",
        "\n",
        "queue = deque()\n",
        "for i in range(N):\n",
        "  com = input().split()\n",
        "  if com[0] == 'push':\n",
        "      queue.append(com[1])\n",
        "  elif com[0] == 'pop':\n",
        "      if queue:\n",
        "          print(queue.popleft())\n",
        "      else:\n",
        "          print(-1)\n",
        "  elif com[0] == 'size':\n",
        "      print(len(queue))\n",
        "  elif com[0] == 'front':\n",
        "      if queue:\n",
        "          print(queue[0])\n",
        "      else:\n",
        "          print(-1)\n",
        "  elif com[0] == 'back':\n",
        "      if queue:\n",
        "          print(queue[-1])\n",
        "      else:\n",
        "          print(-1)\n",
        "  elif com[0] == 'empty':\n",
        "      if not queue:\n",
        "          print(1)\n",
        "      else:\n",
        "          print(0)"
      ],
      "execution_count": 2,
      "outputs": [
        {
          "output_type": "stream",
          "text": [
            "push 1\n",
            "push 2\n",
            "front\n",
            "1\n",
            "back\n",
            "2\n",
            "size\n",
            "2\n",
            "empty\n",
            "0\n",
            "pop\n",
            "1\n",
            "pop\n",
            "2\n",
            "pop\n",
            "-1\n",
            "size\n",
            "0\n",
            "empty\n",
            "1\n",
            "pop\n",
            "-1\n",
            "push 3\n",
            "empty\n",
            "0\n",
            "front\n",
            "3\n"
          ],
          "name": "stdout"
        }
      ]
    },
    {
      "cell_type": "code",
      "metadata": {
        "id": "Ob0gSy6fMchq"
      },
      "source": [
        ""
      ],
      "execution_count": null,
      "outputs": []
    }
  ]
}