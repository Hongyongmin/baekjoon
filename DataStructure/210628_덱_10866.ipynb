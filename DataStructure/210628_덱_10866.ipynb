{
  "nbformat": 4,
  "nbformat_minor": 0,
  "metadata": {
    "colab": {
      "name": "210628_덱_10866",
      "provenance": [],
      "authorship_tag": "ABX9TyOjM6f/dLcDlX/W3l16xnXx",
      "include_colab_link": true
    },
    "kernelspec": {
      "name": "python3",
      "display_name": "Python 3"
    },
    "language_info": {
      "name": "python"
    }
  },
  "cells": [
    {
      "cell_type": "markdown",
      "metadata": {
        "id": "view-in-github",
        "colab_type": "text"
      },
      "source": [
        "<a href=\"https://colab.research.google.com/github/Hongyongmin/baekjoon/blob/main/DataStructure/210628_%EB%8D%B1_10866.ipynb\" target=\"_parent\"><img src=\"https://colab.research.google.com/assets/colab-badge.svg\" alt=\"Open In Colab\"/></a>"
      ]
    },
    {
      "cell_type": "markdown",
      "metadata": {
        "id": "ajlBoe9t5FWq"
      },
      "source": [
        "정수를 저장하는 덱(Deque)를 구현한 다음, 입력으로 주어지는 명령을 처리하는 프로그램을 작성하시오.\n",
        "\n",
        "명령은 총 여덟 가지이다.\n",
        "\n",
        "push_front X: 정수 X를 덱의 앞에 넣는다.\n",
        "\n",
        "push_back X: 정수 X를 덱의 뒤에 넣는다.\n",
        "\n",
        "pop_front: 덱의 가장 앞에 있는 수를 빼고, 그 수를 출력한다. 만약, 덱에 들어있는 정수가 없는 경우에는 -1을 출력한다.\n",
        "\n",
        "pop_back: 덱의 가장 뒤에 있는 수를 빼고, 그 수를 출력한다. 만약, 덱에 들어있는 정수가 없는 경우에는 -1을 출력한다.\n",
        "\n",
        "size: 덱에 들어있는 정수의 개수를 출력한다.\n",
        "\n",
        "empty: 덱이 비어있으면 1을, 아니면 0을 출력한다.\n",
        "\n",
        "front: 덱의 가장 앞에 있는 정수를 출력한다. 만약 덱에 들어있는 정수가 없는 경우에는 -1을 출력한다.\n",
        "\n",
        "back: 덱의 가장 뒤에 있는 정수를 출력한다. 만약 덱에 들어있는 정수가 없는 경우에는 -1을 출력한다."
      ]
    },
    {
      "cell_type": "code",
      "metadata": {
        "colab": {
          "base_uri": "https://localhost:8080/"
        },
        "id": "gGMvyZ075Net",
        "outputId": "2af7dc1c-8fc9-41a3-ac1a-b28e20372f89"
      },
      "source": [
        "from collections import deque\n",
        "\n",
        "queue = deque()\n",
        "N = int(input(\"명령의 개수를 정해주시오: \"))"
      ],
      "execution_count": 1,
      "outputs": [
        {
          "output_type": "stream",
          "text": [
            "명령의 개수를 정해주시오: 15\n"
          ],
          "name": "stdout"
        }
      ]
    },
    {
      "cell_type": "code",
      "metadata": {
        "colab": {
          "base_uri": "https://localhost:8080/"
        },
        "id": "AjbWOhBH6nHu",
        "outputId": "3bd1156e-5681-4651-e318-60e5af36b600"
      },
      "source": [
        "for i in range(N):\n",
        "    command = input().split()\n",
        "    if command[0] == 'push_front':\n",
        "        queue.appendleft(command[1])\n",
        "    elif command[0] == 'push_back':\n",
        "        queue.append(command[1])\n",
        "    elif command[0] == 'pop_front':\n",
        "        if queue:\n",
        "            print(queue.popleft())\n",
        "        else:\n",
        "            print(-1)\n",
        "    elif command[0] == 'pop_back':\n",
        "        if queue:\n",
        "            print(queue.pop())\n",
        "        else:\n",
        "            print(-1)\n",
        "    elif command[0] == 'size':\n",
        "        print(len(queue))\n",
        "    elif command[0] == 'empty':\n",
        "        if not queue:\n",
        "            print(1)\n",
        "        else:\n",
        "            print(0)\n",
        "    elif command[0] == 'front':\n",
        "        if queue:\n",
        "            print(queue[0])\n",
        "        else:\n",
        "            print(-1)\n",
        "    elif command[0] == 'back':\n",
        "        if queue:\n",
        "            print(queue[-1])\n",
        "        else:\n",
        "            print(-1)"
      ],
      "execution_count": 2,
      "outputs": [
        {
          "output_type": "stream",
          "text": [
            "push_back 1\n",
            "push_front 2\n",
            "front\n",
            "2\n",
            "back\n",
            "1\n",
            "size\n",
            "2\n",
            "empty\n",
            "0\n",
            "pop_front\n",
            "2\n",
            "pop_back\n",
            "1\n",
            "pop_front\n",
            "-1\n",
            "size\n",
            "0\n",
            "empty\n",
            "1\n",
            "pop_back\n",
            "-1\n",
            "push_front 3\n",
            "empty\n",
            "0\n",
            "front\n",
            "3\n"
          ],
          "name": "stdout"
        }
      ]
    }
  ]
}