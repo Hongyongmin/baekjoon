{
  "nbformat": 4,
  "nbformat_minor": 0,
  "metadata": {
    "colab": {
      "name": "210623_괄호_9012",
      "provenance": [],
      "authorship_tag": "ABX9TyMuMFvbsjc1nN5Q1qZpUEK5",
      "include_colab_link": true
    },
    "kernelspec": {
      "name": "python3",
      "display_name": "Python 3"
    },
    "language_info": {
      "name": "python"
    }
  },
  "cells": [
    {
      "cell_type": "markdown",
      "metadata": {
        "id": "view-in-github",
        "colab_type": "text"
      },
      "source": [
        "<a href=\"https://colab.research.google.com/github/Hongyongmin/baekjoon/blob/main/DataStructure/210623_%EA%B4%84%ED%98%B8_9012.ipynb\" target=\"_parent\"><img src=\"https://colab.research.google.com/assets/colab-badge.svg\" alt=\"Open In Colab\"/></a>"
      ]
    },
    {
      "cell_type": "markdown",
      "metadata": {
        "id": "ZNud1t3AAWZZ"
      },
      "source": [
        "괄호 문자열(Parenthesis String, PS)은 두 개의 괄호 기호인 ‘(’ 와 ‘)’ 만으로 구성되어 있는 문자열이다. 그 중에서 괄호의 모양이 바르게 구성된 문자열을 올바른 괄호 문자열(Valid PS, VPS)이라고 부른다. 한 쌍의 괄호 기호로 된 “( )” 문자열은 기본 VPS 이라고 부른다. 만일 x 가 VPS 라면 이것을 하나의 괄호에 넣은 새로운 문자열 “(x)”도 VPS 가 된다. 그리고 두 VPS x 와 y를 접합(concatenation)시킨 새로운 문자열 xy도 VPS 가 된다. 예를 들어 “(())()”와 “((()))” 는 VPS 이지만 “(()(”, “(())()))” , 그리고 “(()” 는 모두 VPS 가 아닌 문자열이다. \n",
        "\n",
        "여러분은 입력으로 주어진 괄호 문자열이 VPS 인지 아닌지를 판단해서 그 결과를 YES 와 NO 로 나타내어야 한다. "
      ]
    },
    {
      "cell_type": "code",
      "metadata": {
        "colab": {
          "base_uri": "https://localhost:8080/"
        },
        "id": "8oXAfP1AAyv4",
        "outputId": "be2ab11f-a35a-4f96-d280-540904d0f5b0"
      },
      "source": [
        "N = int(input(\"몇번 수행할건지 입력하시오: \"))"
      ],
      "execution_count": 3,
      "outputs": [
        {
          "output_type": "stream",
          "text": [
            "몇번 수행할건지 입력하시오: 7\n"
          ],
          "name": "stdout"
        }
      ]
    },
    {
      "cell_type": "code",
      "metadata": {
        "colab": {
          "base_uri": "https://localhost:8080/"
        },
        "id": "qFeDMX5FClzh",
        "outputId": "0597e273-585f-40d3-d918-7450271bdaed"
      },
      "source": [
        "for i in range(1,N):\n",
        "  text = input(\"괄호를 입력하시오:\")\n",
        "  count = 0\n",
        "  if (text[0]==\")\"):\n",
        "    print(\"NO\")\n",
        "  else:\n",
        "    for i in range(0,len(text)):\n",
        "      if (text[i] == \"(\"):\n",
        "        count += 1\n",
        "      else:\n",
        "        count -= 1\n",
        "    if (count == 0):\n",
        "      print(\"YES\")\n",
        "    else:\n",
        "      print(\"NO\")"
      ],
      "execution_count": null,
      "outputs": [
        {
          "output_type": "stream",
          "text": [
            "괄호를 입력하시오:(())())\n",
            "NO\n",
            "괄호를 입력하시오:()()()()\n",
            "YES\n",
            "괄호를 입력하시오:(())(())(()\n",
            "NO\n",
            "괄호를 입력하시오:((()()))\n",
            "YES\n"
          ],
          "name": "stdout"
        }
      ]
    },
    {
      "cell_type": "code",
      "metadata": {
        "id": "dpceh85RDZGn"
      },
      "source": [
        ""
      ],
      "execution_count": null,
      "outputs": []
    }
  ]
}