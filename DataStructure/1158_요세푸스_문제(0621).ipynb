{
  "nbformat": 4,
  "nbformat_minor": 0,
  "metadata": {
    "colab": {
      "name": "1158_요세푸스 문제",
      "provenance": [],
      "authorship_tag": "ABX9TyN4iAgph/iusO+2BzP89YN1",
      "include_colab_link": true
    },
    "kernelspec": {
      "name": "python3",
      "display_name": "Python 3"
    },
    "language_info": {
      "name": "python"
    }
  },
  "cells": [
    {
      "cell_type": "markdown",
      "metadata": {
        "id": "view-in-github",
        "colab_type": "text"
      },
      "source": [
        "<a href=\"https://colab.research.google.com/github/Hongyongmin/baekjoon/blob/main/DataStructure/1158_%EC%9A%94%EC%84%B8%ED%91%B8%EC%8A%A4_%EB%AC%B8%EC%A0%9C(0621).ipynb\" target=\"_parent\"><img src=\"https://colab.research.google.com/assets/colab-badge.svg\" alt=\"Open In Colab\"/></a>"
      ]
    },
    {
      "cell_type": "markdown",
      "metadata": {
        "id": "bYz159n-2MUL"
      },
      "source": [
        "요세푸스 문제는 다음과 같다.\n",
        "\n",
        "1번부터 N번까지 N명의 사람이 원을 이루면서 앉아있고, 양의 정수 K(≤ N)가 주어진다. 이제 순서대로 K번째 사람을 제거한다. 한 사람이 제거되면 남은 사람들로 이루어진 원을 따라 이 과정을 계속해 나간다. 이 과정은 N명의 사람이 모두 제거될 때까지 계속된다. 원에서 사람들이 제거되는 순서를 (N, K)-요세푸스 순열이라고 한다. 예를 들어 (7, 3)-요세푸스 순열은 <3, 6, 2, 7, 5, 1, 4>이다.\n",
        "\n",
        "N과 K가 주어지면 (N, K)-요세푸스 순열을 구하는 프로그램을 작성하시오."
      ]
    },
    {
      "cell_type": "code",
      "metadata": {
        "id": "4_TTCHtH2dqk",
        "colab": {
          "base_uri": "https://localhost:8080/"
        },
        "outputId": "db6e1c75-7e83-4d40-95bb-fcb05ef5d5e8"
      },
      "source": [
        "circle_list = []\n",
        "answer_list = []\n",
        "\n",
        "N= 7\n",
        "k =3 \n",
        "for i in range (1, N+1):\n",
        "  circle_list.append(i)\n",
        "\n",
        "print(circle_list)"
      ],
      "execution_count": 22,
      "outputs": [
        {
          "output_type": "stream",
          "text": [
            "[1, 2, 3, 4, 5, 6, 7]\n"
          ],
          "name": "stdout"
        }
      ]
    },
    {
      "cell_type": "code",
      "metadata": {
        "colab": {
          "base_uri": "https://localhost:8080/"
        },
        "id": "9CiA_0faotk6",
        "outputId": "148f9232-f966-4b77-b604-9224ebad275f"
      },
      "source": [
        "location = -1\n",
        "while (len(circle_list)!=0):\n",
        "  location += k\n",
        "  while (location+1 > len(circle_list)):\n",
        "    location = location - len(circle_list)\n",
        "  answer_list.append(circle_list[location])\n",
        "  del circle_list[location]\n",
        "  location = location - 1\n",
        "  print(circle_list)\n",
        "  print(answer_list)"
      ],
      "execution_count": 23,
      "outputs": [
        {
          "output_type": "stream",
          "text": [
            "[1, 2, 4, 5, 6, 7]\n",
            "[3]\n",
            "[1, 2, 4, 5, 7]\n",
            "[3, 6]\n",
            "[1, 4, 5, 7]\n",
            "[3, 6, 2]\n",
            "[1, 4, 5]\n",
            "[3, 6, 2, 7]\n",
            "[1, 4]\n",
            "[3, 6, 2, 7, 5]\n",
            "[4]\n",
            "[3, 6, 2, 7, 5, 1]\n",
            "[]\n",
            "[3, 6, 2, 7, 5, 1, 4]\n"
          ],
          "name": "stdout"
        }
      ]
    },
    {
      "cell_type": "code",
      "metadata": {
        "id": "74V-l-xssbQt"
      },
      "source": [
        ""
      ],
      "execution_count": null,
      "outputs": []
    },
    {
      "cell_type": "code",
      "metadata": {
        "id": "xRb-7MDnsjk7"
      },
      "source": [
        ""
      ],
      "execution_count": null,
      "outputs": []
    }
  ]
}