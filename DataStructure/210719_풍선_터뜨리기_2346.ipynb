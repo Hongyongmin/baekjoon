{
  "nbformat": 4,
  "nbformat_minor": 0,
  "metadata": {
    "colab": {
      "name": "210719_풍선_터뜨리기_2346",
      "provenance": [],
      "authorship_tag": "ABX9TyPygK56kXWB8P+eXVsfoH2k",
      "include_colab_link": true
    },
    "kernelspec": {
      "name": "python3",
      "display_name": "Python 3"
    },
    "language_info": {
      "name": "python"
    }
  },
  "cells": [
    {
      "cell_type": "markdown",
      "metadata": {
        "id": "view-in-github",
        "colab_type": "text"
      },
      "source": [
        "<a href=\"https://colab.research.google.com/github/Hongyongmin/baekjoon/blob/main/DataStructure/210719_%ED%92%8D%EC%84%A0_%ED%84%B0%EB%9C%A8%EB%A6%AC%EA%B8%B0_2346.ipynb\" target=\"_parent\"><img src=\"https://colab.research.google.com/assets/colab-badge.svg\" alt=\"Open In Colab\"/></a>"
      ]
    },
    {
      "cell_type": "markdown",
      "metadata": {
        "id": "i0Rc2Phbc_VC"
      },
      "source": [
        "## 문제\n",
        "N개의 풍선이 있다. 각 풍선 안에는 -N부터 N까지의 수가 적혀있는 종이가 들어 있다. 이 풍선들을 다음과 같은 규칙으로 터뜨린다.\n",
        "\n",
        "우선, 제일 처음에는 1번 풍선을 터뜨린다. 다음에는 풍선 안에 있는 종이를 꺼내어 그 종이에 적혀있는 값만큼 이동하여 다음 풍선을 터뜨린다. 양수가 적혀 있을 경우에는 오른쪽으로, 음수가 적혀 있을 때는 왼쪽으로 이동한다. 풍선은 원형으로 놓여 있다고 생각한다. 즉, 1번 풍선의 왼쪽에 N번 풍선이 있고, N번 풍선의 오른쪽에 1번 풍선이 있는 것이다. 이동할 때에는 이미 터진 풍선은 빼고 생각한다.\n",
        "\n",
        "예를 들어 다섯 개의 풍선 안에 차례로 3, 2, 1, -3, -1이 적혀 있었다고 하자. 이 경우 3이 적혀 있는 1번 풍선, -3이 적혀 있는 4번 풍선, -1이 적혀 있는 5번 풍선, 1이 적혀 있는 3번 풍선, 2가 적혀 있는 2번 풍선의 순서대로 터지게 된다.\n",
        "\n",
        "## 입력\n",
        "첫째 줄에 자연수 N(1≤N≤1,000)이 주어진다. 다음 줄에는 차례로 각 풍선 안의 종이에 적혀 있는 수가 주어진다. 편의상 0은 적혀있지 않다고 가정하자.\n",
        "\n",
        "ex)\n",
        "\n",
        "5\n",
        "\n",
        "3 2 1 -3 -1\n",
        "\n",
        "\n",
        "## 출력\n",
        "첫째 줄에 터진 풍선의 번호를 차례로 나열한다.\n",
        "\n",
        "ex)\n",
        "\n",
        "1 4 5 3 2\n"
      ]
    },
    {
      "cell_type": "code",
      "metadata": {
        "colab": {
          "base_uri": "https://localhost:8080/"
        },
        "id": "b5BOUbu4dMHp",
        "outputId": "da3b89f4-139d-4280-a8db-bbdad39e8f8c"
      },
      "source": [
        "N = int(input(\"풍선의 개수를 입력하시오: \"))"
      ],
      "execution_count": null,
      "outputs": [
        {
          "output_type": "stream",
          "text": [
            "풍선의 개수를 입력하시오: 5\n"
          ],
          "name": "stdout"
        }
      ]
    },
    {
      "cell_type": "code",
      "metadata": {
        "colab": {
          "base_uri": "https://localhost:8080/"
        },
        "id": "vqvfLLAuf8Vq",
        "outputId": "c33333e6-487f-44f3-f5cc-1ff8bd8f5ca6"
      },
      "source": [
        "from collections import deque\n",
        "q = deque(enumerate(map(int,input().split())))\n",
        "\n",
        "\n",
        "answer = []\n",
        "\n",
        "while q:\n",
        "  idx, front = q.popleft()\n",
        "  answer.append(idx+1)\n",
        "\n",
        "  if front > 0:\n",
        "    q.rotate(- (front-1))\n",
        "  else:\n",
        "    q.rotate(-front)\n",
        "\n",
        "print(' '.join(map(str,answer)))"
      ],
      "execution_count": null,
      "outputs": [
        {
          "output_type": "stream",
          "text": [
            "3 2 1 -3 -1\n",
            "1 4 5 3 2\n"
          ],
          "name": "stdout"
        }
      ]
    },
    {
      "cell_type": "code",
      "metadata": {
        "id": "WbhV3CGwgXTL"
      },
      "source": [
        ""
      ],
      "execution_count": null,
      "outputs": []
    }
  ]
}