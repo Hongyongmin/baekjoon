{
  "nbformat": 4,
  "nbformat_minor": 0,
  "metadata": {
    "colab": {
      "name": "220308_달팽이_1913",
      "provenance": [],
      "authorship_tag": "ABX9TyOyaAu2/ldfLt1HzhlFbdTt",
      "include_colab_link": true
    },
    "kernelspec": {
      "name": "python3",
      "display_name": "Python 3"
    },
    "language_info": {
      "name": "python"
    }
  },
  "cells": [
    {
      "cell_type": "markdown",
      "metadata": {
        "id": "view-in-github",
        "colab_type": "text"
      },
      "source": [
        "<a href=\"https://colab.research.google.com/github/Hongyongmin/baekjoon/blob/main/Implementation/220308_%EB%8B%AC%ED%8C%BD%EC%9D%B4_1913.ipynb\" target=\"_parent\"><img src=\"https://colab.research.google.com/assets/colab-badge.svg\" alt=\"Open In Colab\"/></a>"
      ]
    },
    {
      "cell_type": "code",
      "execution_count": 1,
      "metadata": {
        "colab": {
          "base_uri": "https://localhost:8080/"
        },
        "id": "jOvzZYm1TJ6P",
        "outputId": "6cf007d9-c9ab-4047-df16-be974477ca58"
      },
      "outputs": [
        {
          "output_type": "stream",
          "name": "stdout",
          "text": [
            "7\n",
            "35\n",
            "49 26 27 28 29 30 31\n",
            "48 25 10 11 12 13 32\n",
            "47 24 9 2 3 14 33\n",
            "46 23 8 1 4 15 34\n",
            "45 22 7 6 5 16 35\n",
            "44 21 20 19 18 17 36\n",
            "43 42 41 40 39 38 37\n",
            "5 7\n"
          ]
        }
      ],
      "source": [
        "N = int(input())\n",
        "target = int(input())\n",
        "# 상, 우, 하, 좌\n",
        "dx, dy = [-1, 0, 1, 0], [0, 1, 0, -1]\n",
        "# 처음 1의 위치 x, y에 넣어줌\n",
        "if N % 2 == 1:\n",
        "    x, y = N//2, N//2\n",
        "else:\n",
        "    x, y = N//2, N//2 - 1\n",
        "\n",
        "m = [[0] * N for _ in range(N)]\n",
        "m[x][y] = 1\n",
        "cnt = 2\n",
        "dir = 0\n",
        "num = 2\n",
        "while True:\n",
        "    for _ in range(cnt-1):\n",
        "        nx, ny = x + dx[dir], y + dy[dir]\n",
        "        m[nx][ny] = num\n",
        "        num += 1\n",
        "\n",
        "        if num == N**2+1:\n",
        "            break\n",
        "        x, y = nx, ny\n",
        "\n",
        "    if num == N**2+1:\n",
        "        break\n",
        "\n",
        "    dir = (dir + 1) % 4\n",
        "    # 위나 아래로 갈때 숫자 1 증가\n",
        "    if dir == 0 or dir == 2:\n",
        "        cnt += 1 \n",
        "\n",
        "for i in m:\n",
        "    print(*i)\n",
        "for i in range(N):\n",
        "    for j in range(N):\n",
        "        if m[i][j] == target:\n",
        "            print(i + 1, j + 1)"
      ]
    },
    {
      "cell_type": "code",
      "source": [
        ""
      ],
      "metadata": {
        "id": "CZN3cqXtTK6B"
      },
      "execution_count": null,
      "outputs": []
    }
  ]
}