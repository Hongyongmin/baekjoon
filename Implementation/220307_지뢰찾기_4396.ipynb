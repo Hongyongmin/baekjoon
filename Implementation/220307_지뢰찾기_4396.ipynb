{
  "nbformat": 4,
  "nbformat_minor": 0,
  "metadata": {
    "colab": {
      "name": "220307_지뢰찾기_4396",
      "provenance": [],
      "authorship_tag": "ABX9TyOg8DZxalfPUe2lL1lwDc+P",
      "include_colab_link": true
    },
    "kernelspec": {
      "name": "python3",
      "display_name": "Python 3"
    },
    "language_info": {
      "name": "python"
    }
  },
  "cells": [
    {
      "cell_type": "markdown",
      "metadata": {
        "id": "view-in-github",
        "colab_type": "text"
      },
      "source": [
        "<a href=\"https://colab.research.google.com/github/Hongyongmin/baekjoon/blob/main/Implementation/220307_%EC%A7%80%EB%A2%B0%EC%B0%BE%EA%B8%B0_4396.ipynb\" target=\"_parent\"><img src=\"https://colab.research.google.com/assets/colab-badge.svg\" alt=\"Open In Colab\"/></a>"
      ]
    },
    {
      "cell_type": "code",
      "execution_count": 4,
      "metadata": {
        "colab": {
          "base_uri": "https://localhost:8080/"
        },
        "id": "5DQAK9WoNfYi",
        "outputId": "a082bbbc-a85f-4872-cb2d-7f673508de63"
      },
      "outputs": [
        {
          "output_type": "stream",
          "name": "stdout",
          "text": [
            "8\n",
            "...**..*\n",
            "......*.\n",
            "....*...\n",
            "........\n",
            "........\n",
            ".....*..\n",
            "...**.*.\n",
            ".....*..\n",
            "xxx.....\n",
            "xxxx....\n",
            "xxxx....\n",
            "xxxxx...\n",
            "xxxxx...\n",
            "xxx.....\n",
            "xxxxx...\n",
            "xxxxx...\n",
            "001**..*\n",
            "0013..*.\n",
            "0001*...\n",
            "00011...\n",
            "00001...\n",
            "001..*..\n",
            "001**.*.\n",
            "00123*..\n"
          ]
        }
      ],
      "source": [
        "n = int(input())\n",
        "\n",
        "mines = [list(input().rstrip()) for _ in range(n)]\n",
        "maps = [list(input().rstrip()) for _ in range(n)]\n",
        "\n",
        "di = [0,0,-1,1,1,1,-1,-1]\n",
        "dj = [1,-1,0,0,1,-1,1,-1]\n",
        "\n",
        "flag = False\n",
        "for i in range(n):\n",
        "    for j in range(n):\n",
        "        if maps[i][j]=='x':\n",
        "            if mines[i][j]=='*':\n",
        "                flag = True\n",
        "                continue\n",
        "            cnt = 0\n",
        "            for k in range(8):\n",
        "                if 0<= i+di[k] < n and 0 <= j+dj[k] < n and mines[i+di[k]][j+dj[k]]=='*':\n",
        "                    cnt += 1\n",
        "            maps[i][j] = str(cnt)\n",
        "\n",
        "if flag:\n",
        "    for i in range(n):\n",
        "        for j in range(n):\n",
        "            if mines[i][j]=='*':\n",
        "                maps[i][j] = '*'\n",
        "\n",
        "for row in maps:\n",
        "    print(''.join(row))"
      ]
    },
    {
      "cell_type": "code",
      "source": [
        ""
      ],
      "metadata": {
        "id": "AhcgM_SdQmkq"
      },
      "execution_count": null,
      "outputs": []
    }
  ]
}