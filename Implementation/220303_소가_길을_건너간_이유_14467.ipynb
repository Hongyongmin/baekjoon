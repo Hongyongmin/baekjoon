{
  "nbformat": 4,
  "nbformat_minor": 0,
  "metadata": {
    "colab": {
      "name": "220303_소가_길을_건너간_이유_14467",
      "provenance": [],
      "authorship_tag": "ABX9TyMzXDt/uJ6KkoRMgMzqlorx",
      "include_colab_link": true
    },
    "kernelspec": {
      "name": "python3",
      "display_name": "Python 3"
    },
    "language_info": {
      "name": "python"
    }
  },
  "cells": [
    {
      "cell_type": "markdown",
      "metadata": {
        "id": "view-in-github",
        "colab_type": "text"
      },
      "source": [
        "<a href=\"https://colab.research.google.com/github/Hongyongmin/baekjoon/blob/main/Implementation/220303_%EC%86%8C%EA%B0%80_%EA%B8%B8%EC%9D%84_%EA%B1%B4%EB%84%88%EA%B0%84_%EC%9D%B4%EC%9C%A0_14467.ipynb\" target=\"_parent\"><img src=\"https://colab.research.google.com/assets/colab-badge.svg\" alt=\"Open In Colab\"/></a>"
      ]
    },
    {
      "cell_type": "code",
      "execution_count": 1,
      "metadata": {
        "colab": {
          "base_uri": "https://localhost:8080/"
        },
        "id": "wgO7OxvDsbOM",
        "outputId": "470bcb5a-842e-4c3d-af2b-4cd3e16e8098"
      },
      "outputs": [
        {
          "output_type": "stream",
          "name": "stdout",
          "text": [
            "8\n",
            "3 1\n",
            "3 0\n",
            "6 0\n",
            "2 1\n",
            "4 1\n",
            "3 0\n",
            "4 0\n",
            "3 1\n",
            "3\n"
          ]
        }
      ],
      "source": [
        "from collections import defaultdict\n",
        " \n",
        "n = int(input())\n",
        "cows = defaultdict(list)\n",
        " \n",
        "for i in range(1, 11):    # 1번부터 10번까지 빈 리스트 선언\n",
        "    cows[i] = []\n",
        " \n",
        "for i in range(n):\n",
        "    cows_num, cows_move = map(int, input().split())\n",
        "    cows[cows_num].append(cows_move)    # 소의 위치 추가\n",
        " \n",
        "cow_moves = [i for i in cows.values() if len(i) >= 2]    # 2번이상 움직인 소 꺼내기    \n",
        " \n",
        "cnt = 0\n",
        "for i in range(len(cow_moves)):\n",
        "    result = cow_moves[i]\n",
        "    for j in range(len(result) - 1):\n",
        "        if (not result[j] and result[j + 1]) or (result[j] and not result[j + 1]):    # 1 -> 0, 0 -> 1로 이동한 소만 cnt 증가\n",
        "            cnt += 1\n",
        "print(cnt)"
      ]
    },
    {
      "cell_type": "code",
      "source": [
        ""
      ],
      "metadata": {
        "id": "cezhAfVGsdDd"
      },
      "execution_count": null,
      "outputs": []
    }
  ]
}