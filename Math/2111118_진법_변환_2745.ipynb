{
  "nbformat": 4,
  "nbformat_minor": 0,
  "metadata": {
    "colab": {
      "name": "2111118_진법_변환_2745",
      "provenance": [],
      "authorship_tag": "ABX9TyORUhX4ntJut+S9yDxE1k2X",
      "include_colab_link": true
    },
    "kernelspec": {
      "name": "python3",
      "display_name": "Python 3"
    },
    "language_info": {
      "name": "python"
    }
  },
  "cells": [
    {
      "cell_type": "markdown",
      "metadata": {
        "id": "view-in-github",
        "colab_type": "text"
      },
      "source": [
        "<a href=\"https://colab.research.google.com/github/Hongyongmin/baekjoon/blob/main/Math/2111118_%EC%A7%84%EB%B2%95_%EB%B3%80%ED%99%98_2745.ipynb\" target=\"_parent\"><img src=\"https://colab.research.google.com/assets/colab-badge.svg\" alt=\"Open In Colab\"/></a>"
      ]
    },
    {
      "cell_type": "code",
      "metadata": {
        "colab": {
          "base_uri": "https://localhost:8080/"
        },
        "id": "kPZ-4roNdPVY",
        "outputId": "37d275ec-8c9f-4a19-bae4-24334e985474"
      },
      "source": [
        "N,B = input().split()\n",
        "B = int(B)\n",
        "result = 0\n",
        "for i, j in enumerate(N):\n",
        "    try:\n",
        "        if int(j):\n",
        "            result += int(j) * B **(len(N)-1-i)\n",
        "    except:\n",
        "            result += (ord(j)-55) * B ** (len(N)-i-1)\n",
        "            \n",
        "print(result)"
      ],
      "execution_count": 1,
      "outputs": [
        {
          "output_type": "stream",
          "name": "stdout",
          "text": [
            "ZZZZZ 36\n",
            "60466175\n"
          ]
        }
      ]
    },
    {
      "cell_type": "code",
      "metadata": {
        "id": "y-T83kCadQEZ"
      },
      "source": [
        ""
      ],
      "execution_count": null,
      "outputs": []
    }
  ]
}