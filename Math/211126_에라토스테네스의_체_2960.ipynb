{
  "nbformat": 4,
  "nbformat_minor": 0,
  "metadata": {
    "colab": {
      "name": "211126_에라토스테네스의_체_2960",
      "provenance": [],
      "authorship_tag": "ABX9TyPHUwGMlmb+6LdS78RYTmM4",
      "include_colab_link": true
    },
    "kernelspec": {
      "name": "python3",
      "display_name": "Python 3"
    },
    "language_info": {
      "name": "python"
    }
  },
  "cells": [
    {
      "cell_type": "markdown",
      "metadata": {
        "id": "view-in-github",
        "colab_type": "text"
      },
      "source": [
        "<a href=\"https://colab.research.google.com/github/Hongyongmin/baekjoon/blob/main/Math/211126_%EC%97%90%EB%9D%BC%ED%86%A0%EC%8A%A4%ED%85%8C%EB%84%A4%EC%8A%A4%EC%9D%98_%EC%B2%B4_2960.ipynb\" target=\"_parent\"><img src=\"https://colab.research.google.com/assets/colab-badge.svg\" alt=\"Open In Colab\"/></a>"
      ]
    },
    {
      "cell_type": "code",
      "metadata": {
        "colab": {
          "base_uri": "https://localhost:8080/"
        },
        "id": "IzOjJzcxYN8A",
        "outputId": "2f9ce3b6-ceee-4bea-e712-e50e14a75ad0"
      },
      "source": [
        "N,K = map(int, input().split())\n",
        "lst = []\n",
        "ans = []\n",
        "for i in range(1,N+1):\n",
        "    lst.append(i)\n",
        "    \n",
        "for i in range(2, N+1):\n",
        "    for j in lst:\n",
        "        if j % i == 0:\n",
        "            ans.append(j)\n",
        "            lst.remove(j)\n",
        "\n",
        "print(ans[K-1])"
      ],
      "execution_count": 1,
      "outputs": [
        {
          "output_type": "stream",
          "name": "stdout",
          "text": [
            "7 3\n",
            "6\n"
          ]
        }
      ]
    },
    {
      "cell_type": "code",
      "metadata": {
        "id": "MKSjvAYEYOco"
      },
      "source": [
        ""
      ],
      "execution_count": null,
      "outputs": []
    }
  ]
}