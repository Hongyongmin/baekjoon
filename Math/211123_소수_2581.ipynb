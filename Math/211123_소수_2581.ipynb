{
  "nbformat": 4,
  "nbformat_minor": 0,
  "metadata": {
    "colab": {
      "name": "211123_소수_2581",
      "provenance": [],
      "authorship_tag": "ABX9TyPmv5vuJCHgrlg7L3HWc8G/",
      "include_colab_link": true
    },
    "kernelspec": {
      "name": "python3",
      "display_name": "Python 3"
    },
    "language_info": {
      "name": "python"
    }
  },
  "cells": [
    {
      "cell_type": "markdown",
      "metadata": {
        "id": "view-in-github",
        "colab_type": "text"
      },
      "source": [
        "<a href=\"https://colab.research.google.com/github/Hongyongmin/baekjoon/blob/main/Math/211123_%EC%86%8C%EC%88%98_2581.ipynb\" target=\"_parent\"><img src=\"https://colab.research.google.com/assets/colab-badge.svg\" alt=\"Open In Colab\"/></a>"
      ]
    },
    {
      "cell_type": "code",
      "metadata": {
        "colab": {
          "base_uri": "https://localhost:8080/"
        },
        "id": "stpdBlYHYCfV",
        "outputId": "ee0334a6-5236-48cc-985d-ad866a0bab40"
      },
      "source": [
        "M=int(input())\n",
        "N=int(input())\n",
        "arr=[]\n",
        "\n",
        "for i in range(M,N+1):\n",
        "    if i==1:\n",
        "        pass\n",
        "    elif i==2:\n",
        "        arr.append(i)\n",
        "    else:\n",
        "        for j in range(2, i):\n",
        "            if i%j==0:\n",
        "                break\n",
        "            elif j==i-1:\n",
        "                arr.append(i)\n",
        "if len(arr)==0:\n",
        "    print('-1')\n",
        "else:\n",
        "    print(sum(arr))\n",
        "    print(min(arr))"
      ],
      "execution_count": 1,
      "outputs": [
        {
          "output_type": "stream",
          "name": "stdout",
          "text": [
            "60\n",
            "100\n",
            "620\n",
            "61\n"
          ]
        }
      ]
    },
    {
      "cell_type": "code",
      "metadata": {
        "id": "mEHc-QUfzcdE"
      },
      "source": [
        ""
      ],
      "execution_count": null,
      "outputs": []
    }
  ]
}