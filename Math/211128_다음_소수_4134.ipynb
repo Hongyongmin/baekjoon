{
  "nbformat": 4,
  "nbformat_minor": 0,
  "metadata": {
    "colab": {
      "name": "211128_다음_소수_4134",
      "provenance": [],
      "authorship_tag": "ABX9TyP/Axd+4IZDYw47wfderLqI",
      "include_colab_link": true
    },
    "kernelspec": {
      "name": "python3",
      "display_name": "Python 3"
    },
    "language_info": {
      "name": "python"
    }
  },
  "cells": [
    {
      "cell_type": "markdown",
      "metadata": {
        "id": "view-in-github",
        "colab_type": "text"
      },
      "source": [
        "<a href=\"https://colab.research.google.com/github/Hongyongmin/baekjoon/blob/main/Math/211128_%EB%8B%A4%EC%9D%8C_%EC%86%8C%EC%88%98_4134.ipynb\" target=\"_parent\"><img src=\"https://colab.research.google.com/assets/colab-badge.svg\" alt=\"Open In Colab\"/></a>"
      ]
    },
    {
      "cell_type": "code",
      "metadata": {
        "colab": {
          "base_uri": "https://localhost:8080/"
        },
        "id": "DbixgBMpPJOF",
        "outputId": "8d98865a-1fd2-4325-cedd-44c01efec4cc"
      },
      "source": [
        "import math\n",
        "ans = []\n",
        "def is_prime(x):\n",
        "    if x == 0 or x == 1:\n",
        "        return False\n",
        "    for i in range(2, int(math.sqrt(x))+1):\n",
        "        if x % i == 0:\n",
        "            return False\n",
        "    return True\n",
        "\n",
        "T = int(input())\n",
        "for i in range(T):\n",
        "    z = int(input())\n",
        "    while True:\n",
        "        if is_prime(z):\n",
        "            ans.append(z)\n",
        "            break\n",
        "        else:\n",
        "            z += 1\n",
        "            \n",
        "            \n",
        "for i in range(0, len(ans)):\n",
        "    print(ans[i])"
      ],
      "execution_count": 1,
      "outputs": [
        {
          "output_type": "stream",
          "name": "stdout",
          "text": [
            "3\n",
            "6\n",
            "20\n",
            "100\n",
            "7\n",
            "23\n",
            "101\n"
          ]
        }
      ]
    },
    {
      "cell_type": "code",
      "metadata": {
        "id": "dTq_sNrXPJ3n"
      },
      "source": [
        ""
      ],
      "execution_count": null,
      "outputs": []
    }
  ]
}