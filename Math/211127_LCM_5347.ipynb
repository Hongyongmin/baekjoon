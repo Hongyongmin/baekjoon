{
  "nbformat": 4,
  "nbformat_minor": 0,
  "metadata": {
    "colab": {
      "name": "211127_LCM_5347",
      "provenance": [],
      "authorship_tag": "ABX9TyMappUFO6QmSf/oGUeVji24",
      "include_colab_link": true
    },
    "kernelspec": {
      "name": "python3",
      "display_name": "Python 3"
    },
    "language_info": {
      "name": "python"
    }
  },
  "cells": [
    {
      "cell_type": "markdown",
      "metadata": {
        "id": "view-in-github",
        "colab_type": "text"
      },
      "source": [
        "<a href=\"https://colab.research.google.com/github/Hongyongmin/baekjoon/blob/main/Math/211127_LCM_5347.ipynb\" target=\"_parent\"><img src=\"https://colab.research.google.com/assets/colab-badge.svg\" alt=\"Open In Colab\"/></a>"
      ]
    },
    {
      "cell_type": "code",
      "metadata": {
        "colab": {
          "base_uri": "https://localhost:8080/"
        },
        "id": "q6TkxAvMZsNz",
        "outputId": "a9b7ee5e-5d51-4ed2-cf93-2f625452d449"
      },
      "source": [
        "import math\n",
        "N = int(input())\n",
        "ans = []\n",
        "for i in range(0,N):\n",
        "    a,b = map(int, input().split())\n",
        "    \n",
        "    gcd = math.gcd(a,b)\n",
        "    ans.append(int((a*b) / gcd))\n",
        "    \n",
        "for i in range(0, len(ans)):\n",
        "    print(ans[i])"
      ],
      "execution_count": 1,
      "outputs": [
        {
          "output_type": "stream",
          "name": "stdout",
          "text": [
            "3\n",
            "15 21\n",
            "33 22\n",
            "9 10\n",
            "105\n",
            "66\n",
            "90\n"
          ]
        }
      ]
    },
    {
      "cell_type": "code",
      "metadata": {
        "id": "AVcIFWmwZt8k"
      },
      "source": [
        ""
      ],
      "execution_count": null,
      "outputs": []
    }
  ]
}