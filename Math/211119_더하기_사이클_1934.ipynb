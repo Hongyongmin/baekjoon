{
  "nbformat": 4,
  "nbformat_minor": 0,
  "metadata": {
    "colab": {
      "name": "211119_더하기_사이클_1934",
      "provenance": [],
      "authorship_tag": "ABX9TyMU5rrzWDSicmBdptaRpTk5",
      "include_colab_link": true
    },
    "kernelspec": {
      "name": "python3",
      "display_name": "Python 3"
    },
    "language_info": {
      "name": "python"
    }
  },
  "cells": [
    {
      "cell_type": "markdown",
      "metadata": {
        "id": "view-in-github",
        "colab_type": "text"
      },
      "source": [
        "<a href=\"https://colab.research.google.com/github/Hongyongmin/baekjoon/blob/main/Math/211119_%EB%8D%94%ED%95%98%EA%B8%B0_%EC%82%AC%EC%9D%B4%ED%81%B4_1934.ipynb\" target=\"_parent\"><img src=\"https://colab.research.google.com/assets/colab-badge.svg\" alt=\"Open In Colab\"/></a>"
      ]
    },
    {
      "cell_type": "code",
      "metadata": {
        "colab": {
          "base_uri": "https://localhost:8080/"
        },
        "id": "eg3DsR_uFU5R",
        "outputId": "765fc919-9faf-4e36-c476-d5566ca641f9"
      },
      "source": [
        "N = int(input())\n",
        "num = N\n",
        "cnt = 0\n",
        "\n",
        "while  True:\n",
        "    a = num //10\n",
        "    b = num % 10\n",
        "    c = (a+b) % 10\n",
        "    num = (b*10)+c\n",
        "    cnt = cnt + 1\n",
        "    if(num == N):\n",
        "        break\n",
        "        \n",
        "print(cnt)"
      ],
      "execution_count": 1,
      "outputs": [
        {
          "output_type": "stream",
          "name": "stdout",
          "text": [
            "26\n",
            "4\n"
          ]
        }
      ]
    },
    {
      "cell_type": "code",
      "metadata": {
        "id": "RUckHgNsFXUl"
      },
      "source": [
        ""
      ],
      "execution_count": null,
      "outputs": []
    }
  ]
}