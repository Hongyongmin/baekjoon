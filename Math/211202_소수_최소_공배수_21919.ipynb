{
  "nbformat": 4,
  "nbformat_minor": 0,
  "metadata": {
    "colab": {
      "name": "211202_소수_최소_공배수_21919",
      "provenance": [],
      "authorship_tag": "ABX9TyNQRQNBQHIRxoN2Fk7rBjtY",
      "include_colab_link": true
    },
    "kernelspec": {
      "name": "python3",
      "display_name": "Python 3"
    },
    "language_info": {
      "name": "python"
    }
  },
  "cells": [
    {
      "cell_type": "markdown",
      "metadata": {
        "id": "view-in-github",
        "colab_type": "text"
      },
      "source": [
        "<a href=\"https://colab.research.google.com/github/Hongyongmin/baekjoon/blob/main/Math/211202_%EC%86%8C%EC%88%98_%EC%B5%9C%EC%86%8C_%EA%B3%B5%EB%B0%B0%EC%88%98_21919.ipynb\" target=\"_parent\"><img src=\"https://colab.research.google.com/assets/colab-badge.svg\" alt=\"Open In Colab\"/></a>"
      ]
    },
    {
      "cell_type": "code",
      "metadata": {
        "colab": {
          "base_uri": "https://localhost:8080/"
        },
        "id": "nUVAti7PApVd",
        "outputId": "5f4b8c9e-beba-4439-bcd5-aea102928d46"
      },
      "source": [
        "import sys, math\n",
        "\n",
        "def prime(n):\n",
        "    answer = True\n",
        "    \n",
        "    for i in range(2, int(math.sqrt(n)) + 1):\n",
        "        if n % i == 0:\n",
        "            answer = False\n",
        "            break\n",
        "    \n",
        "    return answer\n",
        "\n",
        "N = int(input())\n",
        "A = list(map(int, input().split()))\n",
        "answer = 1\n",
        "dic = {}\n",
        "\n",
        "for i in range(N):\n",
        "    if prime(A[i]) and A[i] not in dic:\n",
        "        dic[A[i]] = 1\n",
        "        answer *= A[i]\n",
        "\n",
        "answer = -1 if answer == 1 else int(answer)\n",
        "\n",
        "print(answer)"
      ],
      "execution_count": 1,
      "outputs": [
        {
          "output_type": "stream",
          "name": "stdout",
          "text": [
            "5\n",
            "2 3 5 6 8\n",
            "30\n"
          ]
        }
      ]
    },
    {
      "cell_type": "code",
      "metadata": {
        "id": "eDiEYYKSAp9P"
      },
      "source": [
        ""
      ],
      "execution_count": null,
      "outputs": []
    }
  ]
}