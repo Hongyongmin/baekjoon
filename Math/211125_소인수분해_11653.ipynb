{
  "nbformat": 4,
  "nbformat_minor": 0,
  "metadata": {
    "colab": {
      "name": "211125_소인수분해_11653",
      "provenance": [],
      "authorship_tag": "ABX9TyP74T8hzH4zwPdmUu18H9w+",
      "include_colab_link": true
    },
    "kernelspec": {
      "name": "python3",
      "display_name": "Python 3"
    },
    "language_info": {
      "name": "python"
    }
  },
  "cells": [
    {
      "cell_type": "markdown",
      "metadata": {
        "id": "view-in-github",
        "colab_type": "text"
      },
      "source": [
        "<a href=\"https://colab.research.google.com/github/Hongyongmin/baekjoon/blob/main/Math/211125_%EC%86%8C%EC%9D%B8%EC%88%98%EB%B6%84%ED%95%B4_11653.ipynb\" target=\"_parent\"><img src=\"https://colab.research.google.com/assets/colab-badge.svg\" alt=\"Open In Colab\"/></a>"
      ]
    },
    {
      "cell_type": "code",
      "metadata": {
        "colab": {
          "base_uri": "https://localhost:8080/"
        },
        "id": "jjvQL2ICMh5x",
        "outputId": "b5f7c00f-0657-4011-ea69-6569f57104a9"
      },
      "source": [
        "N = int(input())\n",
        "X = N\n",
        "for i in range(2, N + 1):\n",
        "    if X == 1:\n",
        "        break\n",
        "    while X % i == 0:\n",
        "        X //= i\n",
        "        print(i)"
      ],
      "execution_count": 1,
      "outputs": [
        {
          "output_type": "stream",
          "name": "stdout",
          "text": [
            "72\n",
            "2\n",
            "2\n",
            "2\n",
            "3\n",
            "3\n"
          ]
        }
      ]
    },
    {
      "cell_type": "code",
      "metadata": {
        "id": "qA89DrgWMjCR"
      },
      "source": [
        ""
      ],
      "execution_count": null,
      "outputs": []
    }
  ]
}