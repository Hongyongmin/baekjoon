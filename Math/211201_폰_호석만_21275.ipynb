{
  "nbformat": 4,
  "nbformat_minor": 0,
  "metadata": {
    "colab": {
      "name": "211201_폰_호석만_21275",
      "provenance": [],
      "authorship_tag": "ABX9TyOwM0kkbUmLVonpn/0Jqbe+",
      "include_colab_link": true
    },
    "kernelspec": {
      "name": "python3",
      "display_name": "Python 3"
    },
    "language_info": {
      "name": "python"
    }
  },
  "cells": [
    {
      "cell_type": "markdown",
      "metadata": {
        "id": "view-in-github",
        "colab_type": "text"
      },
      "source": [
        "<a href=\"https://colab.research.google.com/github/Hongyongmin/baekjoon/blob/main/Math/211201_%ED%8F%B0_%ED%98%B8%EC%84%9D%EB%A7%8C_21275.ipynb\" target=\"_parent\"><img src=\"https://colab.research.google.com/assets/colab-badge.svg\" alt=\"Open In Colab\"/></a>"
      ]
    },
    {
      "cell_type": "code",
      "metadata": {
        "colab": {
          "base_uri": "https://localhost:8080/"
        },
        "id": "ZkzbKxqXx5st",
        "outputId": "16d2c71b-c80b-4d56-cd2c-9bfced192b32"
      },
      "source": [
        "a,b=map(str,input().split())\n",
        "\n",
        "numbers = dict()\n",
        "count = 0\n",
        "answer = [0, 0]\n",
        "# 1부터 저장\n",
        "for i in range(0, 10):\n",
        "    numbers[str(i)] = i\n",
        "\n",
        "# a부터 저장\n",
        "for i in range(26):\n",
        "    numbers[chr(97+i)] = i+10\n",
        "\n",
        "a_max = max(list(a))\n",
        "b_max = max(list(b))\n",
        "\n",
        "def trans_notation(string, notation):\n",
        "    temp = 0\n",
        "    for i in range(len(string)):\n",
        "        temp += ((int(notation)**i) * numbers[string[-1-i]])\n",
        "    return temp\n",
        "\n",
        "for i in range(numbers[a_max]+1, 37):\n",
        "    for j in range(numbers[b_max]+1, 37):\n",
        "        if i == j:\n",
        "            continue\n",
        "        if trans_notation(a, i) == trans_notation(b, j):\n",
        "            if trans_notation(a, i) >= 2**63:\n",
        "                continue\n",
        "            answer[0] = i\n",
        "            answer[1] = j\n",
        "            count += 1\n",
        "\n",
        "if count == 0:\n",
        "    print(\"Impossible\")\n",
        "elif count > 1:\n",
        "    print(\"Multiple\")\n",
        "elif count == 1:\n",
        "    print(trans_notation(a, answer[0]), answer[0], answer[1])"
      ],
      "execution_count": 1,
      "outputs": [
        {
          "output_type": "stream",
          "name": "stdout",
          "text": [
            "ep jh\n",
            "473 32 24\n"
          ]
        }
      ]
    },
    {
      "cell_type": "code",
      "metadata": {
        "id": "rLznO8L9x9AA"
      },
      "source": [
        ""
      ],
      "execution_count": null,
      "outputs": []
    }
  ]
}