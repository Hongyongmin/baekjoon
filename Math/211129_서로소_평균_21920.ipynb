{
  "nbformat": 4,
  "nbformat_minor": 0,
  "metadata": {
    "colab": {
      "name": "211129_서로소_평균_21920",
      "provenance": [],
      "authorship_tag": "ABX9TyNMnCPxCjyJOw6TqYOfksOi",
      "include_colab_link": true
    },
    "kernelspec": {
      "name": "python3",
      "display_name": "Python 3"
    },
    "language_info": {
      "name": "python"
    }
  },
  "cells": [
    {
      "cell_type": "markdown",
      "metadata": {
        "id": "view-in-github",
        "colab_type": "text"
      },
      "source": [
        "<a href=\"https://colab.research.google.com/github/Hongyongmin/baekjoon/blob/main/Math/211129_%EC%84%9C%EB%A1%9C%EC%86%8C_%ED%8F%89%EA%B7%A0_21920.ipynb\" target=\"_parent\"><img src=\"https://colab.research.google.com/assets/colab-badge.svg\" alt=\"Open In Colab\"/></a>"
      ]
    },
    {
      "cell_type": "code",
      "metadata": {
        "colab": {
          "base_uri": "https://localhost:8080/"
        },
        "id": "eor_rnz1NC-y",
        "outputId": "f5fb27f7-6e70-4ca0-da6f-73d84d0858f2"
      },
      "source": [
        "N = int(input())\n",
        "A = list(map(int, input().split()))\n",
        "X = int(input())\n",
        "ans = []\n",
        "\n",
        "def GCD(x,y):\n",
        "    if y == 0:\n",
        "        return x\n",
        "    else:\n",
        "        return GCD(y, x%y)\n",
        "\n",
        "for i in A:\n",
        "    if GCD(X,i) == 1:\n",
        "        ans.append(i)\n",
        "print(sum(ans)/len(ans))"
      ],
      "execution_count": 1,
      "outputs": [
        {
          "output_type": "stream",
          "name": "stdout",
          "text": [
            "5\n",
            "4 2 8 5 7\n",
            "4\n",
            "6.0\n"
          ]
        }
      ]
    },
    {
      "cell_type": "code",
      "metadata": {
        "id": "ZT94FllvOqpL"
      },
      "source": [
        ""
      ],
      "execution_count": null,
      "outputs": []
    }
  ]
}