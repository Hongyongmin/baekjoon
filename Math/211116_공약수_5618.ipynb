{
  "nbformat": 4,
  "nbformat_minor": 0,
  "metadata": {
    "colab": {
      "name": "211116_공약수_5618",
      "provenance": [],
      "authorship_tag": "ABX9TyMHtROjKlFja08R8xKqObuo",
      "include_colab_link": true
    },
    "kernelspec": {
      "name": "python3",
      "display_name": "Python 3"
    },
    "language_info": {
      "name": "python"
    }
  },
  "cells": [
    {
      "cell_type": "markdown",
      "metadata": {
        "id": "view-in-github",
        "colab_type": "text"
      },
      "source": [
        "<a href=\"https://colab.research.google.com/github/Hongyongmin/baekjoon/blob/main/Math/211116_%EA%B3%B5%EC%95%BD%EC%88%98_5618.ipynb\" target=\"_parent\"><img src=\"https://colab.research.google.com/assets/colab-badge.svg\" alt=\"Open In Colab\"/></a>"
      ]
    },
    {
      "cell_type": "code",
      "metadata": {
        "colab": {
          "base_uri": "https://localhost:8080/"
        },
        "id": "-ruRpiJzrXpC",
        "outputId": "6b6c2a9b-44e7-48ea-f091-dec727ce25d7"
      },
      "source": [
        "n = int(input())\n",
        "lst = list(map(int, input().split()))\n",
        "ans = []\n",
        "\n",
        "\n",
        "def GCD(x,y):\n",
        "    if y ==0:\n",
        "        return x\n",
        "    else:\n",
        "        return GCD(y,x%y)\n",
        "gcd = lst[0]    \n",
        "for i in range(1,n):\n",
        "    gcd = GCD(gcd, lst[i])\n",
        "    \n",
        "x = 1\n",
        "while x*x<=gcd:\n",
        "    if gcd%x == 0:\n",
        "        ans.append(x)\n",
        "        if x*x != gcd:\n",
        "            ans.append(gcd // x)\n",
        "    x+=1\n",
        "    \n",
        "ans.sort()\n",
        "for i in range(0, len(ans)):\n",
        "    print(ans[i])"
      ],
      "execution_count": 1,
      "outputs": [
        {
          "output_type": "stream",
          "name": "stdout",
          "text": [
            "2\n",
            "75 125\n",
            "1\n",
            "5\n",
            "25\n"
          ]
        }
      ]
    },
    {
      "cell_type": "code",
      "metadata": {
        "id": "k3LxpM9JrYx0"
      },
      "source": [
        ""
      ],
      "execution_count": null,
      "outputs": []
    }
  ]
}