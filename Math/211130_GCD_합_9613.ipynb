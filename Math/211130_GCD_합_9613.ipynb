{
  "nbformat": 4,
  "nbformat_minor": 0,
  "metadata": {
    "colab": {
      "name": "211130_GCD_합_9613",
      "provenance": [],
      "authorship_tag": "ABX9TyPKMQFb+jXcx++ybjDpZdD5",
      "include_colab_link": true
    },
    "kernelspec": {
      "name": "python3",
      "display_name": "Python 3"
    },
    "language_info": {
      "name": "python"
    }
  },
  "cells": [
    {
      "cell_type": "markdown",
      "metadata": {
        "id": "view-in-github",
        "colab_type": "text"
      },
      "source": [
        "<a href=\"https://colab.research.google.com/github/Hongyongmin/baekjoon/blob/main/Math/211130_GCD_%ED%95%A9_9613.ipynb\" target=\"_parent\"><img src=\"https://colab.research.google.com/assets/colab-badge.svg\" alt=\"Open In Colab\"/></a>"
      ]
    },
    {
      "cell_type": "code",
      "metadata": {
        "colab": {
          "base_uri": "https://localhost:8080/"
        },
        "id": "RHO94C7CWV9F",
        "outputId": "556ce386-6f6c-405e-d9ed-d12d8f2095cf"
      },
      "source": [
        "n = int(input())\n",
        "\n",
        "def gcd(A,B):\n",
        "    if B==0:\n",
        "        return A\n",
        "    else :\n",
        "        return gcd(B,A%B)\n",
        "\n",
        "ans = []\n",
        "for _ in range(n):\n",
        "    arr = list(map(int,input().split()))\n",
        "    k = arr.pop(0)\n",
        "    sum = 0\n",
        "    for i in range(k):\n",
        "        for j in range(k):\n",
        "            if i<j :\n",
        "                sum += gcd(arr[i],arr[j])\n",
        "    ans.append(sum)\n",
        "    \n",
        "for i in ans:\n",
        "    print(i)"
      ],
      "execution_count": 1,
      "outputs": [
        {
          "output_type": "stream",
          "name": "stdout",
          "text": [
            "3\n",
            "4 10 20 30 40\n",
            "3 7 5 12\n",
            "3 125 15 25\n",
            "70\n",
            "3\n",
            "35\n"
          ]
        }
      ]
    },
    {
      "cell_type": "code",
      "metadata": {
        "id": "_soDVkGMWcu5"
      },
      "source": [
        ""
      ],
      "execution_count": null,
      "outputs": []
    }
  ]
}