{
  "nbformat": 4,
  "nbformat_minor": 0,
  "metadata": {
    "colab": {
      "name": "211122_최소공배수_1934",
      "provenance": [],
      "authorship_tag": "ABX9TyP+ElLLEi+jYJn+mfoMNPMm",
      "include_colab_link": true
    },
    "kernelspec": {
      "name": "python3",
      "display_name": "Python 3"
    },
    "language_info": {
      "name": "python"
    }
  },
  "cells": [
    {
      "cell_type": "markdown",
      "metadata": {
        "id": "view-in-github",
        "colab_type": "text"
      },
      "source": [
        "<a href=\"https://colab.research.google.com/github/Hongyongmin/baekjoon/blob/main/Math/211122_%EC%B5%9C%EC%86%8C%EA%B3%B5%EB%B0%B0%EC%88%98_1934.ipynb\" target=\"_parent\"><img src=\"https://colab.research.google.com/assets/colab-badge.svg\" alt=\"Open In Colab\"/></a>"
      ]
    },
    {
      "cell_type": "code",
      "metadata": {
        "colab": {
          "base_uri": "https://localhost:8080/"
        },
        "id": "yvY0HCCUQPyh",
        "outputId": "3255b965-483d-4c8a-e83d-2778cb620ed2"
      },
      "source": [
        "import math\n",
        "\n",
        "N = int(input())\n",
        "ans = []\n",
        "def lcm(A,B):\n",
        "    return int((A*B)/math.gcd(A,B))\n",
        "\n",
        "for i in range(0,N):\n",
        "    A,B = map(int, input().split())\n",
        "    ans.append(lcm(A,B))\n",
        "    \n",
        "for i in range(0, len(ans)):\n",
        "    print(ans[i])"
      ],
      "execution_count": 1,
      "outputs": [
        {
          "output_type": "stream",
          "name": "stdout",
          "text": [
            "3\n",
            "1 45000\n",
            "6 10\n",
            "13 17\n",
            "45000\n",
            "30\n",
            "221\n"
          ]
        }
      ]
    },
    {
      "cell_type": "code",
      "metadata": {
        "id": "vrzGuwuBQRa6"
      },
      "source": [
        ""
      ],
      "execution_count": null,
      "outputs": []
    }
  ]
}