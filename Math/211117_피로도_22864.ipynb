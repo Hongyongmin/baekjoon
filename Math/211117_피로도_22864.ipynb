{
  "nbformat": 4,
  "nbformat_minor": 0,
  "metadata": {
    "colab": {
      "name": "211117_피로도_22864",
      "provenance": [],
      "authorship_tag": "ABX9TyO4P5GNLj4aN1JQw8MGbdZn",
      "include_colab_link": true
    },
    "kernelspec": {
      "name": "python3",
      "display_name": "Python 3"
    },
    "language_info": {
      "name": "python"
    }
  },
  "cells": [
    {
      "cell_type": "markdown",
      "metadata": {
        "id": "view-in-github",
        "colab_type": "text"
      },
      "source": [
        "<a href=\"https://colab.research.google.com/github/Hongyongmin/baekjoon/blob/main/Math/211117_%ED%94%BC%EB%A1%9C%EB%8F%84_22864.ipynb\" target=\"_parent\"><img src=\"https://colab.research.google.com/assets/colab-badge.svg\" alt=\"Open In Colab\"/></a>"
      ]
    },
    {
      "cell_type": "code",
      "metadata": {
        "colab": {
          "base_uri": "https://localhost:8080/"
        },
        "id": "Jbj13qoje3kl",
        "outputId": "323cad50-fac5-4430-ffdd-16553bd99ebe"
      },
      "source": [
        "A,B,C,D  = map(int, input().split())\n",
        "piro = 0\n",
        "ans = 0\n",
        "for i in range(1,25):\n",
        "    if piro + A <= D:\n",
        "        ans += B\n",
        "        piro += A\n",
        "    else:\n",
        "        if piro - C < 0:\n",
        "            piro = 0\n",
        "        else:\n",
        "            piro = piro - C\n",
        "print(ans)"
      ],
      "execution_count": 1,
      "outputs": [
        {
          "output_type": "stream",
          "name": "stdout",
          "text": [
            "5 3 2 10\n",
            "24\n"
          ]
        }
      ]
    },
    {
      "cell_type": "code",
      "metadata": {
        "id": "eHbvm0gve6BA"
      },
      "source": [
        ""
      ],
      "execution_count": null,
      "outputs": []
    }
  ]
}