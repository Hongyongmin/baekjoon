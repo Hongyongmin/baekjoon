{
  "nbformat": 4,
  "nbformat_minor": 0,
  "metadata": {
    "colab": {
      "name": "220221_소수&팰린드롬_1747",
      "provenance": [],
      "authorship_tag": "ABX9TyM7aPutIS3KulovjG6pnynz",
      "include_colab_link": true
    },
    "kernelspec": {
      "name": "python3",
      "display_name": "Python 3"
    },
    "language_info": {
      "name": "python"
    }
  },
  "cells": [
    {
      "cell_type": "markdown",
      "metadata": {
        "id": "view-in-github",
        "colab_type": "text"
      },
      "source": [
        "<a href=\"https://colab.research.google.com/github/Hongyongmin/baekjoon/blob/main/Math/220221_%EC%86%8C%EC%88%98%26%ED%8C%B0%EB%A6%B0%EB%93%9C%EB%A1%AC_1747.ipynb\" target=\"_parent\"><img src=\"https://colab.research.google.com/assets/colab-badge.svg\" alt=\"Open In Colab\"/></a>"
      ]
    },
    {
      "cell_type": "code",
      "execution_count": 1,
      "metadata": {
        "colab": {
          "base_uri": "https://localhost:8080/"
        },
        "id": "YExEW4hp0jHY",
        "outputId": "d24bb205-ee36-4bd2-dd9f-074f216ebcc9"
      },
      "outputs": [
        {
          "output_type": "stream",
          "name": "stdout",
          "text": [
            "31\n",
            "101\n"
          ]
        }
      ],
      "source": [
        "n = int(input())\n",
        "M = 1000001\n",
        "prime = [False, False] + [True] * (M-2)\n",
        "for i in range(2, int(M**0.5)+1):\n",
        "    if prime[i]:\n",
        "        for j in range(i+i, M, i):\n",
        "            if prime[j]:\n",
        "                prime[j] = False\n",
        "                \n",
        "res = 0\n",
        "for i in range(n, M):\n",
        "    if i ==1:\n",
        "        continue\n",
        "    if str(i) == str(i)[::-1]:\n",
        "        if prime[i]:\n",
        "            res = i\n",
        "            break\n",
        "\n",
        "if res == 0:\n",
        "    res = 1003001\n",
        "print(res)"
      ]
    },
    {
      "cell_type": "code",
      "source": [
        ""
      ],
      "metadata": {
        "id": "CifYD7G50vRY"
      },
      "execution_count": null,
      "outputs": []
    }
  ]
}