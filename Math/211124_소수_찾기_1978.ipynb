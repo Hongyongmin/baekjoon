{
  "nbformat": 4,
  "nbformat_minor": 0,
  "metadata": {
    "colab": {
      "name": "211124_소수_찾기_1978",
      "provenance": [],
      "authorship_tag": "ABX9TyNOd40ZQCMqId82SVLhKOv/",
      "include_colab_link": true
    },
    "kernelspec": {
      "name": "python3",
      "display_name": "Python 3"
    },
    "language_info": {
      "name": "python"
    }
  },
  "cells": [
    {
      "cell_type": "markdown",
      "metadata": {
        "id": "view-in-github",
        "colab_type": "text"
      },
      "source": [
        "<a href=\"https://colab.research.google.com/github/Hongyongmin/baekjoon/blob/main/Math/211124_%EC%86%8C%EC%88%98_%EC%B0%BE%EA%B8%B0_1978.ipynb\" target=\"_parent\"><img src=\"https://colab.research.google.com/assets/colab-badge.svg\" alt=\"Open In Colab\"/></a>"
      ]
    },
    {
      "cell_type": "code",
      "metadata": {
        "colab": {
          "base_uri": "https://localhost:8080/"
        },
        "id": "ayd1-uhvwFkm",
        "outputId": "6dde6dba-7f4a-42a4-9cc6-00e703a92c5f"
      },
      "source": [
        "N = int(input())\n",
        "\n",
        "arr = list(map(int, input().split()))\n",
        "cnt = 0\n",
        "for i in range(0,len(arr)):\n",
        "    tmp = arr[i]\n",
        "    if tmp == 1:\n",
        "        pass\n",
        "    elif tmp == 2:\n",
        "        cnt = cnt + 1\n",
        "    else:\n",
        "        for j in range(2, tmp):\n",
        "            if tmp % j==0:\n",
        "                break\n",
        "            elif j==tmp-1:\n",
        "                cnt = cnt + 1\n",
        "                \n",
        "print(cnt)"
      ],
      "execution_count": 1,
      "outputs": [
        {
          "output_type": "stream",
          "name": "stdout",
          "text": [
            "4\n",
            "1 3 5 7\n",
            "3\n"
          ]
        }
      ]
    },
    {
      "cell_type": "code",
      "metadata": {
        "id": "nG9ZMkflwGlm"
      },
      "source": [
        ""
      ],
      "execution_count": null,
      "outputs": []
    }
  ]
}