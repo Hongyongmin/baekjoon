{
  "nbformat": 4,
  "nbformat_minor": 0,
  "metadata": {
    "colab": {
      "name": "211120_홀짝_칵테일_21312",
      "provenance": [],
      "authorship_tag": "ABX9TyOXhOAzcMh+y83j1v0aggJZ",
      "include_colab_link": true
    },
    "kernelspec": {
      "name": "python3",
      "display_name": "Python 3"
    },
    "language_info": {
      "name": "python"
    }
  },
  "cells": [
    {
      "cell_type": "markdown",
      "metadata": {
        "id": "view-in-github",
        "colab_type": "text"
      },
      "source": [
        "<a href=\"https://colab.research.google.com/github/Hongyongmin/baekjoon/blob/main/Math/211120_%ED%99%80%EC%A7%9D_%EC%B9%B5%ED%85%8C%EC%9D%BC_21312.ipynb\" target=\"_parent\"><img src=\"https://colab.research.google.com/assets/colab-badge.svg\" alt=\"Open In Colab\"/></a>"
      ]
    },
    {
      "cell_type": "code",
      "metadata": {
        "colab": {
          "base_uri": "https://localhost:8080/"
        },
        "id": "E2PjKWRSHbi5",
        "outputId": "e202712b-6355-4b3e-9806-fe1375d4a9ca"
      },
      "source": [
        "A, B, C = map(int, input().split())\n",
        "odd_list = []\n",
        "even_list = []\n",
        "input_list = []\n",
        "input_list.append(A)\n",
        "input_list.append(B)\n",
        "input_list.append(C)\n",
        "\n",
        "for i in input_list:\n",
        "    if i % 2 == 0:\n",
        "        even_list.append(i)\n",
        "    else:\n",
        "        odd_list.append(i)\n",
        "\n",
        "if (A*B) % 2 == 0:\n",
        "        even_list.append((A*B))\n",
        "else:\n",
        "        odd_list.append((A*B))\n",
        "        \n",
        "if (A*C) % 2 == 0:\n",
        "        even_list.append((A*C))\n",
        "else:\n",
        "        odd_list.append((A*C))\n",
        "\n",
        "if (C*B) % 2 == 0:\n",
        "        even_list.append((C*B))\n",
        "else:\n",
        "        odd_list.append((C*B))\n",
        "        \n",
        "if (A*B*C) % 2 == 0:\n",
        "        even_list.append((A*B*C))\n",
        "else:\n",
        "        odd_list.append((A*B*C))\n",
        "        \n",
        "if len(odd_list) == 0:\n",
        "    print(max(even_list))\n",
        "else:\n",
        "    print(max(odd_list))"
      ],
      "execution_count": 1,
      "outputs": [
        {
          "output_type": "stream",
          "name": "stdout",
          "text": [
            "2 3 5\n",
            "15\n"
          ]
        }
      ]
    },
    {
      "cell_type": "code",
      "metadata": {
        "id": "wG8Rm0RJHfmb"
      },
      "source": [
        ""
      ],
      "execution_count": null,
      "outputs": []
    }
  ]
}