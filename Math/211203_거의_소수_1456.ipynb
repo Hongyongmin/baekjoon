{
  "nbformat": 4,
  "nbformat_minor": 0,
  "metadata": {
    "colab": {
      "name": "211203_거의_소수_1456",
      "provenance": [],
      "authorship_tag": "ABX9TyOiEu5IG5OvY5/bt7dcKQiZ",
      "include_colab_link": true
    },
    "kernelspec": {
      "name": "python3",
      "display_name": "Python 3"
    },
    "language_info": {
      "name": "python"
    }
  },
  "cells": [
    {
      "cell_type": "markdown",
      "metadata": {
        "id": "view-in-github",
        "colab_type": "text"
      },
      "source": [
        "<a href=\"https://colab.research.google.com/github/Hongyongmin/baekjoon/blob/main/Math/211203_%EA%B1%B0%EC%9D%98_%EC%86%8C%EC%88%98_1456.ipynb\" target=\"_parent\"><img src=\"https://colab.research.google.com/assets/colab-badge.svg\" alt=\"Open In Colab\"/></a>"
      ]
    },
    {
      "cell_type": "code",
      "metadata": {
        "colab": {
          "base_uri": "https://localhost:8080/"
        },
        "id": "CF0hYIzpWXTw",
        "outputId": "7c8aed40-3058-406d-8f44-9c806a8c028a"
      },
      "source": [
        "N = 10**7+5\n",
        "sieve = [True]*(N+100)\n",
        "sieve[0] = False\n",
        "sieve[1] = False\n",
        "sieve[2] = True\n",
        "prime = 2\n",
        "while prime*prime <= N:\n",
        "  if not sieve[prime]:\n",
        "    prime += 1\n",
        "    continue\n",
        "  for t in range(2*prime, N+3, prime): sieve[t] = False\n",
        "  prime += 1\n",
        "\n",
        "\t\n",
        "A,B=map(int, input().split())\n",
        "cnt = 0\n",
        "for p in range(2,N):\n",
        "  if not sieve[p]: continue\n",
        "  mul = p*p\n",
        "  while mul <= B:\n",
        "    cnt += (A <= mul)\n",
        "    mul *= p\n",
        "print(cnt)"
      ],
      "execution_count": 1,
      "outputs": [
        {
          "output_type": "stream",
          "name": "stdout",
          "text": [
            "1 1000\n",
            "25\n"
          ]
        }
      ]
    },
    {
      "cell_type": "code",
      "metadata": {
        "id": "Cf7Moa93WZWV"
      },
      "source": [
        ""
      ],
      "execution_count": null,
      "outputs": []
    }
  ]
}